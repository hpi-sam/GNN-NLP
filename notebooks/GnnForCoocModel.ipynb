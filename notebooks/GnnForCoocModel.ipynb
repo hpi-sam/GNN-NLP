{
 "cells": [
  {
   "cell_type": "code",
   "execution_count": 1,
   "metadata": {},
   "outputs": [],
   "source": [
    "import os\n",
    "import numpy as np\n",
    "import pandas as pd\n",
    "import string\n",
    "import re\n",
    "from itertools import chain\n",
    "from collections import OrderedDict\n",
    "from matplotlib import pyplot as plt\n",
    "from sklearn.feature_extraction.text import CountVectorizer\n",
    "import seaborn as sns"
   ]
  },
  {
   "cell_type": "markdown",
   "metadata": {},
   "source": [
    "## Loading the dataset"
   ]
  },
  {
   "cell_type": "code",
   "execution_count": 2,
   "metadata": {},
   "outputs": [],
   "source": [
    "import spacy\n",
    "nlp = spacy.load('en_core_web_md')"
   ]
  },
  {
   "cell_type": "code",
   "execution_count": 3,
   "metadata": {},
   "outputs": [],
   "source": [
    "news = pd.read_json('../../../KEDatasets/KPTimes/KPTimes.train.jsonl', lines=True)"
   ]
  },
  {
   "cell_type": "code",
   "execution_count": 4,
   "metadata": {},
   "outputs": [
    {
     "data": {
      "text/html": [
       "<div>\n",
       "<style scoped>\n",
       "    .dataframe tbody tr th:only-of-type {\n",
       "        vertical-align: middle;\n",
       "    }\n",
       "\n",
       "    .dataframe tbody tr th {\n",
       "        vertical-align: top;\n",
       "    }\n",
       "\n",
       "    .dataframe thead th {\n",
       "        text-align: right;\n",
       "    }\n",
       "</style>\n",
       "<table border=\"1\" class=\"dataframe\">\n",
       "  <thead>\n",
       "    <tr style=\"text-align: right;\">\n",
       "      <th></th>\n",
       "      <th>id</th>\n",
       "      <th>categories</th>\n",
       "      <th>date</th>\n",
       "      <th>title</th>\n",
       "      <th>abstract</th>\n",
       "      <th>keyword</th>\n",
       "    </tr>\n",
       "  </thead>\n",
       "  <tbody>\n",
       "    <tr>\n",
       "      <th>0</th>\n",
       "      <td>ny0282969</td>\n",
       "      <td>[us, politics]</td>\n",
       "      <td>2016-07-21</td>\n",
       "      <td>For Donald Trump’s Big Speech, an Added Pressu...</td>\n",
       "      <td>CLEVELAND — Until Monday night, Donald J. Trum...</td>\n",
       "      <td>2016 Presidential Election;Donald Trump;Republ...</td>\n",
       "    </tr>\n",
       "    <tr>\n",
       "      <th>1</th>\n",
       "      <td>ny0225578</td>\n",
       "      <td>[sports, hockey]</td>\n",
       "      <td>2010-10-16</td>\n",
       "      <td>In Home Opener, Rangers Lose Gaborik and Drury...</td>\n",
       "      <td>There were silver linings to the Rangers ’ wil...</td>\n",
       "      <td>Hockey Ice;Toronto Maple Leafs;New York Ranger...</td>\n",
       "    </tr>\n",
       "  </tbody>\n",
       "</table>\n",
       "</div>"
      ],
      "text/plain": [
       "          id        categories       date  \\\n",
       "0  ny0282969    [us, politics] 2016-07-21   \n",
       "1  ny0225578  [sports, hockey] 2010-10-16   \n",
       "\n",
       "                                               title  \\\n",
       "0  For Donald Trump’s Big Speech, an Added Pressu...   \n",
       "1  In Home Opener, Rangers Lose Gaborik and Drury...   \n",
       "\n",
       "                                            abstract  \\\n",
       "0  CLEVELAND — Until Monday night, Donald J. Trum...   \n",
       "1  There were silver linings to the Rangers ’ wil...   \n",
       "\n",
       "                                             keyword  \n",
       "0  2016 Presidential Election;Donald Trump;Republ...  \n",
       "1  Hockey Ice;Toronto Maple Leafs;New York Ranger...  "
      ]
     },
     "execution_count": 4,
     "metadata": {},
     "output_type": "execute_result"
    }
   ],
   "source": [
    "news.head(2)"
   ]
  },
  {
   "cell_type": "code",
   "execution_count": 5,
   "metadata": {
    "colab": {
     "base_uri": "https://localhost:8080/",
     "height": 521
    },
    "id": "MlFlxfL5dgn2",
    "outputId": "108697ae-6753-4b06-8876-3fc740148246"
   },
   "outputs": [],
   "source": [
    "import torch\n",
    "import torch.nn as nn\n",
    "import torch.nn.functional as F"
   ]
  },
  {
   "cell_type": "code",
   "execution_count": 6,
   "metadata": {
    "colab": {
     "base_uri": "https://localhost:8080/",
     "height": 521
    },
    "id": "MlFlxfL5dgn2",
    "outputId": "108697ae-6753-4b06-8876-3fc740148246"
   },
   "outputs": [],
   "source": [
    "import torch_geometric.nn as pyg_nn\n",
    "import torch_geometric.utils as pyg_utils"
   ]
  },
  {
   "cell_type": "code",
   "execution_count": 7,
   "metadata": {
    "colab": {
     "base_uri": "https://localhost:8080/",
     "height": 521
    },
    "id": "MlFlxfL5dgn2",
    "outputId": "108697ae-6753-4b06-8876-3fc740148246"
   },
   "outputs": [],
   "source": [
    "import time\n",
    "from datetime import datetime"
   ]
  },
  {
   "cell_type": "code",
   "execution_count": 8,
   "metadata": {
    "colab": {
     "base_uri": "https://localhost:8080/",
     "height": 521
    },
    "id": "MlFlxfL5dgn2",
    "outputId": "108697ae-6753-4b06-8876-3fc740148246"
   },
   "outputs": [],
   "source": [
    "import networkx as nx\n",
    "import numpy as np\n",
    "import torch\n",
    "import torch.optim as optim"
   ]
  },
  {
   "cell_type": "code",
   "execution_count": 9,
   "metadata": {
    "colab": {
     "base_uri": "https://localhost:8080/",
     "height": 521
    },
    "id": "MlFlxfL5dgn2",
    "outputId": "108697ae-6753-4b06-8876-3fc740148246"
   },
   "outputs": [],
   "source": [
    "from torch_geometric.datasets import TUDataset\n",
    "from torch_geometric.datasets import Planetoid\n",
    "from torch_geometric.data import DataLoader\n",
    "from torch_geometric.data import Data\n",
    "from torch_geometric.data import InMemoryDataset\n",
    "import torch_geometric.transforms as T\n",
    "from torch_geometric import utils"
   ]
  },
  {
   "cell_type": "code",
   "execution_count": 10,
   "metadata": {
    "colab": {
     "base_uri": "https://localhost:8080/",
     "height": 521
    },
    "id": "MlFlxfL5dgn2",
    "outputId": "108697ae-6753-4b06-8876-3fc740148246"
   },
   "outputs": [],
   "source": [
    "#from tensorboardX import SummaryWriter\n",
    "from sklearn.manifold import TSNE\n",
    "import matplotlib.pyplot as plt"
   ]
  },
  {
   "cell_type": "markdown",
   "metadata": {},
   "source": [
    "## Importing FastText and loading a model for word vectors"
   ]
  },
  {
   "cell_type": "code",
   "execution_count": 11,
   "metadata": {},
   "outputs": [],
   "source": [
    "import fasttext as ft"
   ]
  },
  {
   "cell_type": "code",
   "execution_count": 12,
   "metadata": {},
   "outputs": [
    {
     "name": "stderr",
     "output_type": "stream",
     "text": [
      "Warning : `load_model` does not return WordVectorModel or SupervisedModel any more, but a `FastText` object which is very similar.\n"
     ]
    }
   ],
   "source": [
    "ft_model = ft.load_model('../models/fil9SkipGram.bin')"
   ]
  },
  {
   "cell_type": "markdown",
   "metadata": {},
   "source": [
    "#### Most similar words to 'man' according to the model"
   ]
  },
  {
   "cell_type": "code",
   "execution_count": 13,
   "metadata": {},
   "outputs": [
    {
     "data": {
      "text/plain": [
       "[(0.7125452756881714, 'woman'),\n",
       " (0.7092046141624451, 'stranger'),\n",
       " (0.7067620754241943, 'stupider'),\n",
       " (0.7021083235740662, 'thing'),\n",
       " (0.7005878686904907, 'darndest'),\n",
       " (0.6971448063850403, 'stupidest'),\n",
       " (0.692797839641571, 'beastly'),\n",
       " (0.6923372745513916, 'beast'),\n",
       " (0.6917076110839844, 'hater'),\n",
       " (0.6898659467697144, 'niggardly')]"
      ]
     },
     "execution_count": 13,
     "metadata": {},
     "output_type": "execute_result"
    }
   ],
   "source": [
    "ft_model.get_nearest_neighbors('man')"
   ]
  },
  {
   "cell_type": "markdown",
   "metadata": {},
   "source": [
    "This FastText model is trained only on a small subset of Wikipedia articles. It is much faster to load for daily experiments. The final version of the FastText model will be trained on the full Wikipedia dataset and fine-tuned for the KPTimes articles."
   ]
  },
  {
   "cell_type": "markdown",
   "metadata": {},
   "source": [
    "*Checking the KPTimes dataset for the duplicates.*"
   ]
  },
  {
   "cell_type": "code",
   "execution_count": 14,
   "metadata": {},
   "outputs": [
    {
     "data": {
      "text/plain": [
       "(21,\n",
       " id            0\n",
       " categories    0\n",
       " date          0\n",
       " title         0\n",
       " abstract      0\n",
       " keyword       0\n",
       " dtype: int64)"
      ]
     },
     "execution_count": 14,
     "metadata": {},
     "output_type": "execute_result"
    }
   ],
   "source": [
    "news['abstract'].duplicated().sum(), news.isnull().sum()"
   ]
  },
  {
   "cell_type": "markdown",
   "metadata": {},
   "source": [
    "*What are the most popular categories for the news articles?*"
   ]
  },
  {
   "cell_type": "code",
   "execution_count": 15,
   "metadata": {},
   "outputs": [
    {
     "data": {
      "text/plain": [
       "sports              61996\n",
       "world               50828\n",
       "business            49690\n",
       "us                  41124\n",
       "nyregion            40131\n",
       "                    ...  \n",
       "worldspecial3           1\n",
       "nyregionspecial         1\n",
       "newyorktoday            1\n",
       "election-news           1\n",
       "businessspecial6        1\n",
       "Name: categories, Length: 92, dtype: int64"
      ]
     },
     "execution_count": 15,
     "metadata": {},
     "output_type": "execute_result"
    }
   ],
   "source": [
    "news = news.drop_duplicates(subset='abstract').reset_index(drop=True)\n",
    "news['keyword'] = news['keyword'].str.split(';')\n",
    "news = news.explode('categories')\n",
    "news['categories'].value_counts()"
   ]
  },
  {
   "cell_type": "markdown",
   "metadata": {},
   "source": [
    "Now choosing only three most popular categories (sports, world and business), taking small number of articles from each of them and creating a new DataFrame."
   ]
  },
  {
   "cell_type": "code",
   "execution_count": 16,
   "metadata": {},
   "outputs": [],
   "source": [
    "np.random.seed(42)\n",
    "topics = ['sports', 'world', 'business']\n",
    "sports_id = news.loc[news['categories'] == 'sports'].index\n",
    "world_id = news.loc[news['categories'] == 'world'].index\n",
    "bus_id = news.loc[news['categories'] == 'business'].index\n",
    "id1 = np.random.choice(sports_id, 20, replace=False).tolist()\n",
    "id2 = np.random.choice(world_id, 20, replace=False).tolist()\n",
    "id3 = np.random.choice(bus_id, 20, replace=False).tolist()\n",
    "ids = id1 + id2 + id3\n",
    "df = news[['abstract', 'categories', 'keyword']].loc[ids].copy()"
   ]
  },
  {
   "cell_type": "code",
   "execution_count": 17,
   "metadata": {},
   "outputs": [
    {
     "data": {
      "text/plain": [
       "(108, 3)"
      ]
     },
     "execution_count": 17,
     "metadata": {},
     "output_type": "execute_result"
    }
   ],
   "source": [
    "df.shape"
   ]
  },
  {
   "cell_type": "markdown",
   "metadata": {},
   "source": [
    "60 articles in the new smaller DataFrame."
   ]
  },
  {
   "cell_type": "code",
   "execution_count": 18,
   "metadata": {},
   "outputs": [
    {
     "data": {
      "text/plain": [
       "(60, 3)"
      ]
     },
     "execution_count": 18,
     "metadata": {},
     "output_type": "execute_result"
    }
   ],
   "source": [
    "df = df.drop_duplicates('abstract').reset_index(drop=True)\n",
    "df.shape"
   ]
  },
  {
   "cell_type": "markdown",
   "metadata": {},
   "source": [
    "List of prepositions to exclude from the text along with classical stopwords."
   ]
  },
  {
   "cell_type": "code",
   "execution_count": 19,
   "metadata": {},
   "outputs": [],
   "source": [
    "preps = [\n",
    "  \"a\",\n",
    "  \"abaft\",\n",
    "  \"aboard\",\n",
    "  \"about\",\n",
    "  \"above\",\n",
    "  \"absent\",\n",
    "  \"across\",\n",
    "  \"afore\",\n",
    "  \"after\",\n",
    "  \"against\",\n",
    "  \"along\",\n",
    "  \"alongside\",\n",
    "  \"amid\",\n",
    "  \"amidst\",\n",
    "  \"among\",\n",
    "  \"amongst\",\n",
    "  \"an\",\n",
    "  \"anenst\",\n",
    "  \"apropos\",\n",
    "  \"apud\",\n",
    "  \"around\",\n",
    "  \"as\",\n",
    "  \"aside\",\n",
    "  \"astride\",\n",
    "  \"at\",\n",
    "  \"athwart\",\n",
    "  \"atop\",\n",
    "  \"barring\",\n",
    "  \"before\",\n",
    "  \"behind\",\n",
    "  \"below\",\n",
    "  \"beneath\",\n",
    "  \"beside\",\n",
    "  \"besides\",\n",
    "  \"between\",\n",
    "  \"beyond\",\n",
    "  \"but\",\n",
    "  \"by\",\n",
    "  \"circa\",\n",
    "  \"concerning\",\n",
    "  \"despite\",\n",
    "  \"down\",\n",
    "  \"during\",\n",
    "  \"except\",\n",
    "  \"excluding\",\n",
    "  \"failing\",\n",
    "  \"following\",\n",
    "  \"for\",\n",
    "  \"forenenst\",\n",
    "  \"from\",\n",
    "  \"given\",\n",
    "  \"in\",\n",
    "  \"including\",\n",
    "  \"inside\",\n",
    "  \"into\",\n",
    "  \"lest\",\n",
    "  \"like\",\n",
    "  \"mid\",\n",
    "  \"midst\",\n",
    "  \"minus\",\n",
    "  \"modulo\",\n",
    "  \"near\",\n",
    "  \"next\",\n",
    "  \"notwithstanding\",\n",
    "  \"of\",\n",
    "  \"off\",\n",
    "  \"on\",\n",
    "  \"onto\",\n",
    "  \"opposite\",\n",
    "  \"out\",\n",
    "  \"outside\",\n",
    "  \"over\",\n",
    "  \"pace\",\n",
    "  \"past\",\n",
    "  \"per\",\n",
    "  \"plus\",\n",
    "  \"pro\",\n",
    "  \"qua\",\n",
    "  \"regarding\",\n",
    "  \"round\",\n",
    "  \"sans\",\n",
    "  \"save\",\n",
    "  \"since\",\n",
    "  \"than\",\n",
    "  \"the\",\n",
    "  \"through\",\n",
    "  \"throughout\",\n",
    "  \"till\",\n",
    "  \"times\",\n",
    "  \"to\",\n",
    "  \"toward\",\n",
    "  \"towards\",\n",
    "  \"under\",\n",
    "  \"underneath\",\n",
    "  \"unlike\",\n",
    "  \"until\",\n",
    "  \"unto\",\n",
    "  \"up\",\n",
    "  \"upon\",\n",
    "  \"versus\",\n",
    "  \"via\",\n",
    "  \"vice\",\n",
    "  \"with\",\n",
    "  \"within\",\n",
    "  \"without\",\n",
    "  \"worth\",\n",
    "]"
   ]
  },
  {
   "cell_type": "markdown",
   "metadata": {},
   "source": [
    "Cleaning the text from the stopwords and punctuation. Then extracting noun chunks with the **spacy** model to make keywords richer (e.g. taking *Donald Trump* together, instead of *Donald* and *Trump* separately)."
   ]
  },
  {
   "cell_type": "code",
   "execution_count": 20,
   "metadata": {},
   "outputs": [],
   "source": [
    "######################## cleaning the text, splitting into chunks #########################################\n",
    "from sklearn.feature_extraction.text import ENGLISH_STOP_WORDS\n",
    "stops = ENGLISH_STOP_WORDS.union(set(preps))\n",
    "signs = string.punctuation + '“' + '’' + '”'\n",
    "punct_translator = str.maketrans('', '', signs)\n",
    "\n",
    "def clean_chunks(chunks):\n",
    "    new_chunks = []\n",
    "    for pair in chunks:\n",
    "        text = pair[0].translate(punct_translator)\n",
    "        words = text.split()\n",
    "        nchunk = ' '.join([w for w in words if w not in ENGLISH_STOP_WORDS])\n",
    "        if len(text) > 2:\n",
    "            new_chunks.append((nchunk, pair[1]))\n",
    "    return new_chunks\n",
    "            \n",
    "\n",
    "def get_nchunks(x):\n",
    "    nchunks = []\n",
    "    #import pdb;pdb.set_trace()\n",
    "    chunks = nlp(x).noun_chunks\n",
    "    nchunks = [(c.text.lower(), (c.start_char, c.end_char)) \n",
    "               for c in chunks if c.text.lower() not in ENGLISH_STOP_WORDS]\n",
    "    new_chunks = clean_chunks(nchunks)\n",
    "\n",
    "    return new_chunks"
   ]
  },
  {
   "cell_type": "markdown",
   "metadata": {},
   "source": [
    "The following functions create vocabulary (nodes) of the future graph."
   ]
  },
  {
   "cell_type": "code",
   "execution_count": 21,
   "metadata": {},
   "outputs": [],
   "source": [
    "#################################### creating vocabulary (nodes) ############################################################\n",
    "def make_vocab(x):\n",
    "    nchunks = x[3]\n",
    "    #import pdb;pdb.set_trace()\n",
    "    ss = x[0].lower()\n",
    "    #print(ss)\n",
    "    spans = list(list(zip(*nchunks))[1])\n",
    "    keys = list(list(zip(*nchunks))[0])\n",
    "    spans.extend([(len(ss),)])\n",
    "    keys_ids = list(zip(keys, list(zip(*spans))[0]))\n",
    "    non_chunks = [(ss[0:spans[0][0]], 0)]+[(ss[spans[i][-1]:spans[i+1][0]-1], spans[i][-1])\n",
    "                                      for i in range(len(spans)-1)]\n",
    "    non_chunks.extend(keys_ids)\n",
    "    #print(non_chunks)\n",
    "    words = list(zip(*sorted(non_chunks, key=lambda x: x[1])))[0]\n",
    "    #print(words)\n",
    "    vocab = []\n",
    "    for w in words:\n",
    "        if w not in keys:\n",
    "            w = w.translate(punct_translator).lower().split()\n",
    "            for i in w:\n",
    "                if i not in ['', ' ', '  ', '   ']:\n",
    "                    vocab.append(i)\n",
    "        else: vocab.append(w)\n",
    "    return vocab"
   ]
  },
  {
   "cell_type": "markdown",
   "metadata": {},
   "source": [
    "Applying functions on the small dataset."
   ]
  },
  {
   "cell_type": "code",
   "execution_count": 22,
   "metadata": {},
   "outputs": [
    {
     "name": "stdout",
     "output_type": "stream",
     "text": [
      "CPU times: user 4.51 s, sys: 0 ns, total: 4.51 s\n",
      "Wall time: 4.51 s\n"
     ]
    }
   ],
   "source": [
    "%time df['nchunks'] = df.loc[:, 'abstract'].apply(get_nchunks)"
   ]
  },
  {
   "cell_type": "code",
   "execution_count": 23,
   "metadata": {},
   "outputs": [
    {
     "name": "stdout",
     "output_type": "stream",
     "text": [
      "CPU times: user 59.2 ms, sys: 0 ns, total: 59.2 ms\n",
      "Wall time: 58.4 ms\n"
     ]
    }
   ],
   "source": [
    "%time df['vocab'] = df.apply(make_vocab, axis=1)"
   ]
  },
  {
   "cell_type": "code",
   "execution_count": 24,
   "metadata": {},
   "outputs": [],
   "source": [
    "def clean_vocab(v):\n",
    "    return [w for w in v if (w not in stops) and (len(w) > 3)]\n",
    "\n",
    "df['vocab'] = df.loc[:, 'vocab'].apply(clean_vocab)"
   ]
  },
  {
   "cell_type": "markdown",
   "metadata": {},
   "source": [
    "Example of vocabulary. Each word or noun chunk will be considered as a node."
   ]
  },
  {
   "cell_type": "code",
   "execution_count": 25,
   "metadata": {},
   "outputs": [
    {
     "name": "stdout",
     "output_type": "stream",
     "text": [
      "['matthew stafford', 'passed', '254 yards', 'touchdowns', 'detroit lions', 'held', 'late surge', 'host new orleans', 'defeat', 'saints', '3527', 'monday night', 'detroit', 'raced', '283 lead', 'drew brees', 'threw', 'touchdown', 'passes', 'lions', 'fumble', 'help', 'new orleans', 'pull', '2820', '10 minutes', 'left', 'detroits joique bell', 'scored', '1yard touchdown run', 'game', 'away', 'brees', 'passed', '341 yards', 'touchdowns', 'fourth quarterback', 'surpass', '60000 yards', 'career', 'eclipsing', '4000yard mark', '10th straight season', 'saints loss', 'guaranteed', 'consecutive losing seasons', 'time', 'sean payton', 'coach', '2006', 'golden tate', 'caught', 'touchdown', 'passes', 'detroit', 'broncos', 'stick', 'osweiler brock osweiler', 'remained', 'broncos', 'starting quarterback', 'pending medical tests', 'injured left shoulder', 'peyton manning', 'return', 'practice', 'wednesday', 'monday', 'broncos coach gary kubiak', 'said', 'changed', 'quarterback situation', 'denver', 'blew', '14point halftime lead', 'second consecutive week', 'defeated', 'steelers', 'kubiak', 'said', 'osweiler', 'sore', 'indications', 'hell', 'osweiler', 'injured', 'scrambled', '7 yards', 'second quarter', 'denvers 3427 loss', 'pittsburgh', 'manning', 'missed', 'weeks', 'torn plantar fascia', 'left foot', 'woodson', 'retire raiders safety charles woodson', 'retire', '18 seasons', 'woodson', 'said', 'career', 'final games', 'season', 'said', 'realized', 'late', 'month', 'play', 'season', 'wanted', 'announce', 'decision', 'playing', 'final home game', 'thursday', 'night', 'chargers', 'woodson', 'defensive backs', 'play', 'game', 'tied', 'fifth', 'nfl history', '65 interceptions', 'playing', 'interceptions', 'fumble recoveries', 'season', 'ranking', 'second', 'takeaways', 'appeal', 'brady case', 'heard', 'told', 'federal appeals court', 'commissioner roger goodell', 'authority', 'suspend', 'patriots quarterback tom brady', 'controversy', 'surrounding', 'improperly inflated footballs', 'league', 'arguments', 'brief', 'filed', 'united states court', 'appeals', 'second circuit', 'manhattan', 'court', 'hearing', 'appeal', 'judges ruling', 'nullified', 'bradys suspension', 'hear', 'oral arguments', 'march', 'issuing', 'decision', 'papers', 'filed', 'month', 'nfl players association', 'argued', 'goodell', 'ignored', 'collective bargaining agreement', 'upheld', 'bradys suspension', 'july', 'countered', 'papers', 'contract', 'gave', 'goodell authority', 'discipline', 'players', 'conduct', 'detrimental', 'integrity', 'game']\n"
     ]
    }
   ],
   "source": [
    "print(df.iloc[0]['vocab'])"
   ]
  },
  {
   "cell_type": "markdown",
   "metadata": {},
   "source": [
    "The following functions create edges between the words."
   ]
  },
  {
   "cell_type": "code",
   "execution_count": 26,
   "metadata": {},
   "outputs": [],
   "source": [
    "####################################### creating graph edges ##################################################\n",
    "def get_edges(ordered_vocab, size=5):\n",
    "    '''The words (nodes) are connected by an edge,\n",
    "       if they appear together in a window of 5 words ('size' argument).\n",
    "       The number can also be changed or chosen empirically.'''\n",
    "    edges = OrderedDict({w: set() for w in ordered_vocab})\n",
    "    size = len(ordered_vocab)\n",
    "    for i in range(len(ordered_vocab)):\n",
    "        start = i-size if i >= size else 0\n",
    "        end = i+size if i+size < size else size-1\n",
    "        nodes = {ordered_vocab[j] for j in range(start, end+1)}\n",
    "        edges[ordered_vocab[i]].update(nodes)\n",
    "\n",
    "    return edges\n",
    "\n",
    "def word_mapping(edges_ordered_dict):\n",
    "    '''Creating a mapping number --> word (node), \n",
    "       e.g. 0 --> matthew stafford,\n",
    "            1 --> passed\n",
    "       etc'''\n",
    "    e = edges_ordered_dict\n",
    "    return list(zip(e.keys(), range(len(e.keys()))))\n",
    "\n",
    "\n",
    "def numeric_edges(row):\n",
    "    '''Converting the edges into a format Pytorch Geometric accepts\n",
    "       for creating a 'data' object, i.e.\n",
    "       an iterable of size (2 x number_of_connections)'''\n",
    "    mapping = dict(row['word_mapping'])\n",
    "    edges = row['word_edges']\n",
    "    num_map = {mapping[i]: [mapping[j] for j in edges[i]] for i in edges}\n",
    "    groups = [list(zip([i]*len(num_map[i]), num_map[i])) for i in num_map]\n",
    "    groups = list(chain.from_iterable(groups))\n",
    "    return list(zip(*groups))"
   ]
  },
  {
   "cell_type": "markdown",
   "metadata": {},
   "source": [
    "Creating nodes and edges for each article."
   ]
  },
  {
   "cell_type": "code",
   "execution_count": 27,
   "metadata": {},
   "outputs": [
    {
     "name": "stdout",
     "output_type": "stream",
     "text": [
      "CPU times: user 376 ms, sys: 15.4 ms, total: 392 ms\n",
      "Wall time: 391 ms\n"
     ]
    }
   ],
   "source": [
    "%time df['word_edges'] = df.loc[:, 'vocab'].apply(get_edges)"
   ]
  },
  {
   "cell_type": "code",
   "execution_count": 28,
   "metadata": {},
   "outputs": [
    {
     "name": "stdout",
     "output_type": "stream",
     "text": [
      "CPU times: user 11.4 ms, sys: 0 ns, total: 11.4 ms\n",
      "Wall time: 11.3 ms\n"
     ]
    }
   ],
   "source": [
    "%time df['word_mapping'] = df.loc[:, 'word_edges'].apply(word_mapping)"
   ]
  },
  {
   "cell_type": "code",
   "execution_count": 29,
   "metadata": {},
   "outputs": [
    {
     "name": "stdout",
     "output_type": "stream",
     "text": [
      "CPU times: user 7.08 s, sys: 71.2 ms, total: 7.15 s\n",
      "Wall time: 7.14 s\n"
     ]
    }
   ],
   "source": [
    "%time df['edges'] = df.apply(numeric_edges, axis=1)"
   ]
  },
  {
   "cell_type": "markdown",
   "metadata": {},
   "source": [
    "Example of the numeric edges: the first tuple represents outcoming node, the second - the destination nodes."
   ]
  },
  {
   "cell_type": "code",
   "execution_count": 30,
   "metadata": {},
   "outputs": [
    {
     "name": "stdout",
     "output_type": "stream",
     "text": [
      "[(0, 0, 0, 0, 0, 0, 0, 0, 0, 1, 1, 1, 1, 1, 1, 1, 1, 1, 2, 2, 2, 2, 2, 2, 2, 2, 2, 3, 3, 3, 3, 3, 3, 3, 3, 3, 4, 4, 4, 4, 4, 4, 4, 4, 4, 5, 5, 5, 5, 5, 5, 5, 5, 5, 6, 6, 6, 6, 6, 6, 6, 6, 6, 7, 7, 7, 7, 7, 7, 7, 7, 7, 8, 8, 8, 8, 8, 8, 8, 8, 8), (0, 4, 3, 5, 6, 7, 2, 1, 8, 0, 4, 3, 5, 6, 7, 2, 1, 8, 0, 4, 3, 5, 6, 7, 2, 1, 8, 0, 4, 3, 5, 6, 7, 2, 1, 8, 0, 4, 3, 5, 6, 7, 2, 1, 8, 0, 4, 3, 5, 6, 7, 2, 1, 8, 0, 4, 3, 5, 6, 7, 2, 1, 8, 0, 4, 3, 5, 6, 7, 2, 1, 8, 0, 4, 3, 5, 6, 7, 2, 1, 8)]\n"
     ]
    }
   ],
   "source": [
    "print(df.sort_values(by='word_mapping', key=lambda x:x.str.len()).iloc[0]['edges'])"
   ]
  },
  {
   "cell_type": "code",
   "execution_count": 31,
   "metadata": {},
   "outputs": [],
   "source": [
    "##################################### getting word vectors as node features ####################################\n",
    "def get_token_vectors(word_map, chunks=True):\n",
    "    '''Function gets a word (node) vector from FastText model\n",
    "       mentioned above. These word vectors are going to be used\n",
    "       as node features during the model training.'''\n",
    "    vectors = OrderedDict()\n",
    "    for word, i in word_map:\n",
    "        if word not in vectors.keys():\n",
    "            vectors[word] = ft_model.get_sentence_vector(word)\n",
    "    array = np.stack(list(vectors.values()), axis=0)\n",
    "    \n",
    "    return array"
   ]
  },
  {
   "cell_type": "code",
   "execution_count": 32,
   "metadata": {},
   "outputs": [
    {
     "name": "stdout",
     "output_type": "stream",
     "text": [
      "CPU times: user 156 ms, sys: 0 ns, total: 156 ms\n",
      "Wall time: 154 ms\n"
     ]
    }
   ],
   "source": [
    "%time df['node_vectors'] = df.loc[:, 'word_mapping'].apply(get_token_vectors)"
   ]
  },
  {
   "cell_type": "code",
   "execution_count": 33,
   "metadata": {},
   "outputs": [
    {
     "name": "stdout",
     "output_type": "stream",
     "text": [
      "Stored 'df' (DataFrame)\n"
     ]
    }
   ],
   "source": [
    "#%store df"
   ]
  },
  {
   "cell_type": "markdown",
   "metadata": {},
   "source": [
    "Next, choosing the shortest article in order to understand better how simple GNNs work."
   ]
  },
  {
   "cell_type": "code",
   "execution_count": 34,
   "metadata": {},
   "outputs": [],
   "source": [
    "row = df.sort_values(by='vocab', key=lambda x: x.str.len()).iloc[0]\n",
    "text = row['abstract']\n",
    "keywords = row['keyword']\n",
    "vocab = row['vocab']\n",
    "edge_ids = row['edges']\n",
    "node_vectors = row['node_vectors']\n",
    "word_map = row['word_mapping']"
   ]
  },
  {
   "cell_type": "markdown",
   "metadata": {},
   "source": [
    "Creating a Pytorch Geometric *data* object from the article"
   ]
  },
  {
   "cell_type": "code",
   "execution_count": 35,
   "metadata": {},
   "outputs": [],
   "source": [
    "edge_index = torch.tensor(edge_ids, dtype=torch.long)\n",
    "x = torch.tensor(node_vectors, dtype=torch.float)\n",
    "\n",
    "data = Data(x=x, edge_index=edge_index)"
   ]
  },
  {
   "cell_type": "code",
   "execution_count": 36,
   "metadata": {},
   "outputs": [
    {
     "data": {
      "text/plain": [
       "81"
      ]
     },
     "execution_count": 36,
     "metadata": {},
     "output_type": "execute_result"
    }
   ],
   "source": [
    "data.num_edges"
   ]
  },
  {
   "cell_type": "markdown",
   "metadata": {},
   "source": [
    "Loading Tensorboard extension"
   ]
  },
  {
   "cell_type": "code",
   "execution_count": 37,
   "metadata": {},
   "outputs": [],
   "source": [
    "%load_ext tensorboard"
   ]
  },
  {
   "cell_type": "markdown",
   "metadata": {},
   "source": [
    "### Learning unsupervised embeddings"
   ]
  },
  {
   "cell_type": "markdown",
   "metadata": {},
   "source": [
    "The goal of this training is to see how unsupervised training will change the original word (nodes) embeddings. \n",
    "\n",
    "The model implementation is taken from https://github.com/hpi-sam/GNN-Lecture/blob/main/Stanford_Graph_Neural_Networks.ipynb"
   ]
  },
  {
   "cell_type": "markdown",
   "metadata": {},
   "source": [
    "Initialising a *SummaryWriter* for Tensorboard"
   ]
  },
  {
   "cell_type": "code",
   "execution_count": 38,
   "metadata": {},
   "outputs": [],
   "source": [
    "from torch.utils.tensorboard import SummaryWriter\n",
    "\n",
    "writer = SummaryWriter()"
   ]
  },
  {
   "cell_type": "code",
   "execution_count": 39,
   "metadata": {},
   "outputs": [],
   "source": [
    "class Encoder(torch.nn.Module):\n",
    "    def __init__(self, in_channels, out_channels):\n",
    "        super(Encoder, self).__init__()\n",
    "        self.conv1 = pyg_nn.GCNConv(in_channels, 2 * out_channels, cached=True)\n",
    "        self.conv2 = pyg_nn.GCNConv(2 * out_channels, out_channels, cached=True)\n",
    "\n",
    "    def forward(self, x, edge_index):\n",
    "        x = F.relu(self.conv1(x, edge_index))\n",
    "        return self.conv2(x, edge_index)"
   ]
  },
  {
   "cell_type": "markdown",
   "metadata": {},
   "source": [
    "Before beginnning the training a graph can be interactively visualised with Bokeh"
   ]
  },
  {
   "cell_type": "code",
   "execution_count": 40,
   "metadata": {},
   "outputs": [],
   "source": [
    "from bokeh.io import output_file, show\n",
    "from bokeh.models import (BoxZoomTool, Circle, HoverTool,\n",
    "                          MultiLine, Plot, Range1d, ResetTool,\n",
    "                          NodesAndLinkedEdges, EdgesAndLinkedNodes)\n",
    "from bokeh.palettes import Spectral4\n",
    "from bokeh.plotting import from_networkx"
   ]
  },
  {
   "cell_type": "code",
   "execution_count": 41,
   "metadata": {},
   "outputs": [],
   "source": [
    "def show_bokeh_graph(G, param1, param2, param3, outfile=None):\n",
    "    plot = Plot(plot_width=1500, plot_height=1000,\n",
    "            x_range=Range1d(-1.1, 1.1), y_range=Range1d(-1.1, 1.1))\n",
    "    plot.title.text = ' '.join(vocab)\n",
    "\n",
    "    node_hover_tool = HoverTool(\n",
    "        tooltips=[(param1, \"@{}\".format(param1)),\n",
    "                  (param2, \"@{}\".format(param2)),\n",
    "                  (param3, \"@{}\".format(param3)),]\n",
    "    )\n",
    "    plot.add_tools(\n",
    "        node_hover_tool, \n",
    "        BoxZoomTool(), \n",
    "        ResetTool()\n",
    "    )\n",
    "\n",
    "    graph_renderer = from_networkx(G, nx.spring_layout, scale=1, center=(0, 0))\n",
    "    \n",
    "\n",
    "    graph_renderer.node_renderer.glyph = Circle(\n",
    "        size=15, \n",
    "        fill_color=Spectral4[0]\n",
    "    )\n",
    "    \n",
    "    #graph_renderer.selection_policy = NodesAndLinkedEdges()\n",
    "    #graph_renderer.inspection_policy = EdgesAndLinkedNodes()\n",
    "    #graph_renderer.edge_renderer.glyph = MultiLine(\n",
    "    #    line_color=\"edge_color\", \n",
    "    #    line_alpha=0.8, \n",
    "    #    line_width=1\n",
    "    #)\n",
    "    plot.renderers.append(graph_renderer)\n",
    "    if outfile:\n",
    "        output_file(outfile)\n",
    "    show(plot)\n"
   ]
  },
  {
   "cell_type": "markdown",
   "metadata": {},
   "source": [
    "Converting an article graph to *networkx* and showing the node attributes."
   ]
  },
  {
   "cell_type": "code",
   "execution_count": 42,
   "metadata": {},
   "outputs": [
    {
     "data": {
      "text/plain": [
       "{0: {'word': 'coach kyle flood', 'degree': 10, 'number': 0},\n",
       " 1: {'word': 'said', 'degree': 10, 'number': 1},\n",
       " 2: {'word': 'senior gary nova', 'degree': 10, 'number': 2},\n",
       " 3: {'word': 'benched', 'degree': 10, 'number': 3},\n",
       " 4: {'word': 'games', 'degree': 10, 'number': 4},\n",
       " 5: {'word': 'season', 'degree': 10, 'number': 5},\n",
       " 6: {'word': 'start', 'degree': 10, 'number': 6},\n",
       " 7: {'word': 'quarterback', 'degree': 10, 'number': 7},\n",
       " 8: {'word': 'rutgers', 'degree': 10, 'number': 8}}"
      ]
     },
     "execution_count": 42,
     "metadata": {},
     "output_type": "execute_result"
    }
   ],
   "source": [
    "G = utils.to_networkx(data, \n",
    "                      to_undirected=True)\n",
    "attrs = {i[1]: {'word': i[0], 'degree': G.degree[i[1]], 'number': i[1]} for i in word_map}\n",
    "nx.set_node_attributes(G, attrs)\n",
    "attrs"
   ]
  },
  {
   "cell_type": "code",
   "execution_count": 43,
   "metadata": {},
   "outputs": [],
   "source": [
    "show_bokeh_graph(G, 'word', 'degree', 'number')"
   ]
  },
  {
   "cell_type": "markdown",
   "metadata": {},
   "source": [
    "### Labeling words in vocabulary as suitable to be a keyphrase (1) or not (0)."
   ]
  },
  {
   "cell_type": "markdown",
   "metadata": {},
   "source": [
    "Original problem of keyphrases extraction from articles requires more complicated model architecture. For now, in order to improve understanding of GNNs, the task will be converted into the node classification. Each node in the graph is labeled as 1, if it is suitable to be a keyphrase and 0 otherwise. Also, to make it even easier for training, no nodes are masked for testing phase (no train-test split). "
   ]
  },
  {
   "cell_type": "code",
   "execution_count": 44,
   "metadata": {},
   "outputs": [
    {
     "data": {
      "text/plain": [
       "'Coach Kyle Flood said the senior Gary Nova, benched for the last three games last season, would start at quarterback for Rutgers.'"
      ]
     },
     "execution_count": 44,
     "metadata": {},
     "output_type": "execute_result"
    }
   ],
   "source": [
    "'''Original text of the article chosen for training'''\n",
    "text"
   ]
  },
  {
   "cell_type": "code",
   "execution_count": 45,
   "metadata": {},
   "outputs": [
    {
     "name": "stdout",
     "output_type": "stream",
     "text": [
      "[('coach kyle flood', 0), ('said', 1), ('senior gary nova', 2), ('benched', 3), ('games', 4), ('season', 5), ('start', 6), ('quarterback', 7), ('rutgers', 8)]\n"
     ]
    }
   ],
   "source": [
    "print(word_map)"
   ]
  },
  {
   "cell_type": "markdown",
   "metadata": {},
   "source": [
    "Adding the labels to the *data*. The word-nodes chosen as keyphrases are: 'coach kyle flood', 'senior gary nova' and 'rutgers'."
   ]
  },
  {
   "cell_type": "code",
   "execution_count": 46,
   "metadata": {},
   "outputs": [],
   "source": [
    "labels  = torch.tensor([1, 0, 1, 0, 0, 0, 0, 0, 1],\n",
    "                       dtype=torch.float)\n",
    "data.y = labels"
   ]
  },
  {
   "cell_type": "code",
   "execution_count": 47,
   "metadata": {},
   "outputs": [
    {
     "data": {
      "text/plain": [
       "(9, 9)"
      ]
     },
     "execution_count": 47,
     "metadata": {},
     "output_type": "execute_result"
    }
   ],
   "source": [
    "len(labels), len(word_map)"
   ]
  },
  {
   "cell_type": "markdown",
   "metadata": {},
   "source": [
    "Beginning the unsupervised training."
   ]
  },
  {
   "cell_type": "code",
   "execution_count": 48,
   "metadata": {},
   "outputs": [],
   "source": [
    "channels = 16\n",
    "model = pyg_nn.GAE(Encoder(data.num_features, channels))\n",
    "optimizer = torch.optim.Adam(model.parameters(), lr=0.01)"
   ]
  },
  {
   "cell_type": "code",
   "execution_count": 49,
   "metadata": {},
   "outputs": [],
   "source": [
    "def train(epoch, model, nodes, edges, optimizer):\n",
    "    model.train()\n",
    "    optimizer.zero_grad()\n",
    "    z = model.encode(nodes, edges)\n",
    "    loss = model.recon_loss(z, edges)\n",
    "    loss.backward()\n",
    "    optimizer.step()\n",
    "    \n",
    "    #writer.add_scalar(\"loss\", loss.item(), epoch)\n",
    "\n",
    "#def test(pos_edge_index, neg_edge_index):\n",
    "#    model.eval()\n",
    "#    with torch.no_grad():\n",
    "#        z = model.encode(x, train_pos_edge_index)\n",
    "#    return model.test(z, pos_edge_index, neg_edge_index)"
   ]
  },
  {
   "cell_type": "code",
   "execution_count": 50,
   "metadata": {},
   "outputs": [],
   "source": [
    "'''Training for 500 epochs'''\n",
    "for epoch in range(1, 501):\n",
    "    train(epoch, model, data.x, data.edge_index, optimizer)\n",
    "    #auc, ap = test(data.x, data.test_neg_edge_index)\n",
    "    #writer.add_scalar(\"AUC\", auc, epoch)\n",
    "    #writer.add_scalar(\"AP\", ap, epoch)\n",
    "    #if epoch % 10 == 0:\n",
    "    #    print('Epoch: {:03d}'.format(epoch))"
   ]
  },
  {
   "cell_type": "markdown",
   "metadata": {},
   "source": [
    "Visualising the embeddings obtained from the training"
   ]
  },
  {
   "cell_type": "code",
   "execution_count": 51,
   "metadata": {},
   "outputs": [
    {
     "data": {
      "image/png": "[encoded data removed]",
      "text/plain": [
       "<Figure size 1440x360 with 1 Axes>"
      ]
     },
     "metadata": {
      "needs_background": "light"
     },
     "output_type": "display_data"
    }
   ],
   "source": [
    "color_list = ['black', 'yellow']\n",
    "model.eval()\n",
    "z = model.encode(data.x, data.edge_index)\n",
    "colors = [color_list[int(y.item())] for y in data.y]\n",
    "xs, ys = zip(*TSNE(random_state=42).fit_transform(z.detach().numpy()))\n",
    "\n",
    "fig, ax = plt.subplots(figsize=(20, 5))\n",
    "ax.scatter(xs, ys, color=colors)\n",
    "\n",
    "for i, tupel in enumerate(word_map):\n",
    "    ax.annotate(tupel[0], (xs[i], ys[i]))\n",
    "\n",
    "plt.title('GAE-trained embeddings')\n",
    "plt.show()"
   ]
  },
  {
   "cell_type": "markdown",
   "metadata": {},
   "source": [
    "Are they different from the original embeddings from FastText?"
   ]
  },
  {
   "cell_type": "code",
   "execution_count": 52,
   "metadata": {},
   "outputs": [
    {
     "data": {
      "image/png": "[encoded data removed]",
      "text/plain": [
       "<Figure size 1440x360 with 1 Axes>"
      ]
     },
     "metadata": {
      "needs_background": "light"
     },
     "output_type": "display_data"
    }
   ],
   "source": [
    "x_ax, y_ax = zip(*TSNE(random_state=42).fit_transform(x.detach().numpy()))\n",
    "\n",
    "fig, ax = plt.subplots(figsize=(20, 5))\n",
    "ax.scatter(x_ax, y_ax, color=colors)\n",
    "\n",
    "for i, tupel in enumerate(word_map):\n",
    "    ax.annotate(tupel[0], (x_ax[i], y_ax[i]))\n",
    "plt.title('Original FastText Embeddings')\n",
    "plt.show()"
   ]
  },
  {
   "cell_type": "markdown",
   "metadata": {},
   "source": [
    "Somehow the TSNE dimensionality reduction does not reflect any differences between the two embeddings. Could be that the training was not effective."
   ]
  },
  {
   "cell_type": "markdown",
   "metadata": {},
   "source": [
    "### Training a node classifier"
   ]
  },
  {
   "cell_type": "markdown",
   "metadata": {},
   "source": [
    "Training a node classifier and visualising the weights and gradients with Tensorboard. The code is taken from the same link."
   ]
  },
  {
   "cell_type": "code",
   "execution_count": 53,
   "metadata": {},
   "outputs": [],
   "source": [
    "class GNNStack(nn.Module):\n",
    "    def __init__(self, input_dim, hidden_dim, output_dim, task='node'):\n",
    "        super(GNNStack, self).__init__()\n",
    "        self.task = task\n",
    "        self.convs = nn.ModuleList()\n",
    "        self.convs.append(self.build_conv_model(input_dim, hidden_dim))\n",
    "        self.lns = nn.ModuleList()\n",
    "        self.lns.append(nn.LayerNorm(hidden_dim))\n",
    "        self.lns.append(nn.LayerNorm(hidden_dim))\n",
    "        for l in range(2):\n",
    "            self.convs.append(self.build_conv_model(hidden_dim, hidden_dim))\n",
    "\n",
    "        # post-message-passing\n",
    "        self.post_mp = nn.Sequential(\n",
    "            nn.Linear(hidden_dim, hidden_dim), nn.Dropout(0.25), \n",
    "            nn.Linear(hidden_dim, output_dim))\n",
    "        if not (self.task == 'node' or self.task == 'graph'):\n",
    "            raise RuntimeError('Unknown task.')\n",
    "\n",
    "        self.dropout = 0.25\n",
    "        self.num_layers = 3\n",
    "\n",
    "    def build_conv_model(self, input_dim, hidden_dim):\n",
    "        # refer to pytorch geometric nn module for different implementation of GNNs.\n",
    "        if self.task == 'node':\n",
    "            return pyg_nn.GCNConv(input_dim, hidden_dim)\n",
    "        else:\n",
    "            return pyg_nn.GINConv(nn.Sequential(nn.Linear(input_dim, hidden_dim),\n",
    "                                  nn.ReLU(), nn.Linear(hidden_dim, hidden_dim)))\n",
    "\n",
    "    def forward(self, x, edge_index):\n",
    "        #x, edge_index = data.x, data.edge_index#, data.batch\n",
    "        #if data.num_node_features == 0:\n",
    "        #    x = torch.ones(data.num_nodes, 1)\n",
    "\n",
    "        for i in range(self.num_layers):\n",
    "            x = self.convs[i](x, edge_index)\n",
    "            emb = x\n",
    "            x = F.relu(x)\n",
    "            x = F.dropout(x, p=self.dropout, training=self.training)\n",
    "            if not i == self.num_layers - 1:\n",
    "                x = self.lns[i](x)\n",
    "\n",
    "        #if self.task == 'graph':\n",
    "        #    x = pyg_nn.global_mean_pool(x, batch)\n",
    "\n",
    "        x = self.post_mp(x)\n",
    "\n",
    "        return emb, F.log_softmax(x, dim=1)\n",
    "\n",
    "    def loss(self, pred, label):\n",
    "        return F.nll_loss(pred, label.type(torch.LongTensor))"
   ]
  },
  {
   "cell_type": "code",
   "execution_count": 54,
   "metadata": {},
   "outputs": [],
   "source": [
    "'''Adding a function to get accuracy'''\n",
    "def get_accuracy(preds, targets):\n",
    "    \n",
    "    preds = preds.argmax(dim=1)\n",
    "    ncorrects = preds.eq(targets).sum().item()\n",
    "    return ncorrects / len(targets)"
   ]
  },
  {
   "cell_type": "code",
   "execution_count": 67,
   "metadata": {},
   "outputs": [],
   "source": [
    "def train_node_clf(dataset, \n",
    "          #writer\n",
    "         verbose=False):\n",
    "    \n",
    "    # build model\n",
    "    model = GNNStack(max(dataset.x.shape[1], 1), 32, 2, \n",
    "                     task='node')\n",
    "    \n",
    "    opt = optim.Adam(model.parameters(), lr=0.01)\n",
    "    #import pdb;pdb.set_trace()\n",
    "    # train\n",
    "    model.train()\n",
    "    label = data.y\n",
    "    losses = []\n",
    "    accuracies = []\n",
    "    for epoch in range(500):\n",
    "        \n",
    "        opt.zero_grad()\n",
    "        embedding, pred = model(dataset.x, dataset.edge_index)\n",
    "        #pred = pred[batch.train_mask]\n",
    "        #label = label[batch.train_mask]\n",
    "        writer.add_histogram('convs.0.weight', \n",
    "                             dict(model.named_parameters())['convs.0.weight'],\n",
    "                            epoch)\n",
    "        writer.add_histogram('convs.1.weight', \n",
    "                             dict(model.named_parameters())['convs.1.weight'],\n",
    "                            epoch)\n",
    "        writer.add_histogram('convs.2.weight', \n",
    "                             dict(model.named_parameters())['convs.2.weight'],\n",
    "                            epoch)\n",
    "        writer.add_histogram('post_mp.2.weight', \n",
    "                             dict(model.named_parameters())['post_mp.2.weight'],\n",
    "                            epoch)\n",
    "        if epoch != 0:\n",
    "            writer.add_histogram('convs.2.weight Gradients', \n",
    "                                 dict(model.named_parameters())['convs.2.weight'].grad,\n",
    "                                epoch)\n",
    "            writer.add_histogram('post_mp.2.weight Gradients', \n",
    "                                 dict(model.named_parameters())['post_mp.2.weight'].grad,\n",
    "                                epoch)\n",
    "        loss = model.loss(pred, label)\n",
    "        loss.backward()\n",
    "        opt.step()\n",
    "        #total_loss += loss.item()\n",
    "        acc = get_accuracy(pred, label)\n",
    "        losses.append(loss.item())\n",
    "        accuracies.append(acc)\n",
    "        if verbose:\n",
    "            print('Epoch', epoch)\n",
    "            print('Loss', loss.item())\n",
    "\n",
    "            print('Accuracy', acc)\n",
    "            print('#########################################################')\n",
    "        \n",
    "\n",
    "\n",
    "    return model, losses, accuracies\n"
   ]
  },
  {
   "cell_type": "markdown",
   "metadata": {},
   "source": [
    "Training the model for 500 epochs."
   ]
  },
  {
   "cell_type": "code",
   "execution_count": 68,
   "metadata": {},
   "outputs": [],
   "source": [
    "model, losses, accs = train_node_clf(data)"
   ]
  },
  {
   "cell_type": "markdown",
   "metadata": {},
   "source": [
    "Visualising the losses and accuracies."
   ]
  },
  {
   "cell_type": "code",
   "execution_count": 69,
   "metadata": {},
   "outputs": [
    {
     "data": {
      "image/png": "[encoded data removed]",
      "text/plain": [
       "<Figure size 432x288 with 1 Axes>"
      ]
     },
     "metadata": {
      "needs_background": "light"
     },
     "output_type": "display_data"
    }
   ],
   "source": [
    "plt.plot(range(500), losses)\n",
    "plt.title('Losses');"
   ]
  },
  {
   "cell_type": "code",
   "execution_count": 70,
   "metadata": {},
   "outputs": [
    {
     "data": {
      "image/png": "[encoded data removed]",
      "text/plain": [
       "<Figure size 432x288 with 1 Axes>"
      ]
     },
     "metadata": {
      "needs_background": "light"
     },
     "output_type": "display_data"
    }
   ],
   "source": [
    "plt.plot(range(500), accs)\n",
    "plt.title('Accuracies');"
   ]
  },
  {
   "cell_type": "code",
   "execution_count": 71,
   "metadata": {},
   "outputs": [
    {
     "data": {
      "text/plain": [
       "Reusing TensorBoard on port 6006 (pid 27171), started 0:51:18 ago. (Use '!kill 27171' to kill it.)"
      ]
     },
     "metadata": {},
     "output_type": "display_data"
    },
    {
     "data": {
      "text/html": [
       "\n",
       "      <iframe id=\"tensorboard-frame-703b4731b3e7b608\" width=\"100%\" height=\"800\" frameborder=\"0\">\n",
       "      </iframe>\n",
       "      <script>\n",
       "        (function() {\n",
       "          const frame = document.getElementById(\"tensorboard-frame-703b4731b3e7b608\");\n",
       "          const url = new URL(\"/\", window.location);\n",
       "          const port = 6006;\n",
       "          if (port) {\n",
       "            url.port = port;\n",
       "          }\n",
       "          frame.src = url;\n",
       "        })();\n",
       "      </script>\n",
       "    "
      ],
      "text/plain": [
       "<IPython.core.display.HTML object>"
      ]
     },
     "metadata": {},
     "output_type": "display_data"
    }
   ],
   "source": [
    "%tensorboard --logdir=runs"
   ]
  },
  {
   "cell_type": "markdown",
   "metadata": {},
   "source": [
    "None of the plots reflects an adequate training. The reason is most likely unchanging gradients."
   ]
  },
  {
   "cell_type": "code",
   "execution_count": 73,
   "metadata": {},
   "outputs": [],
   "source": [
    "model.eval()\n",
    "with torch.no_grad():\n",
    "    embed, preds = model(data.x, data.edge_index)"
   ]
  },
  {
   "cell_type": "markdown",
   "metadata": {},
   "source": [
    "Again, checking if the node embeddings have changed."
   ]
  },
  {
   "cell_type": "code",
   "execution_count": 74,
   "metadata": {},
   "outputs": [
    {
     "data": {
      "image/png": "[encoded data removed]",
      "text/plain": [
       "<Figure size 1440x360 with 1 Axes>"
      ]
     },
     "metadata": {
      "needs_background": "light"
     },
     "output_type": "display_data"
    }
   ],
   "source": [
    "x_emb, y_emb = zip(*TSNE(random_state=42).fit_transform(embed.detach().numpy()))\n",
    "\n",
    "fig, ax = plt.subplots(figsize=(20, 5))\n",
    "ax.scatter(x_emb, y_emb, color=colors)\n",
    "\n",
    "for i, tupel in enumerate(word_map):\n",
    "    ax.annotate(tupel[0], (x_emb[i], y_emb[i]))\n",
    "plt.title('Embeddings Trained for Classification')\n",
    "plt.show()"
   ]
  },
  {
   "cell_type": "markdown",
   "metadata": {},
   "source": [
    "Comparing model predictions (above) with the true labels (below)."
   ]
  },
  {
   "cell_type": "code",
   "execution_count": 75,
   "metadata": {},
   "outputs": [
    {
     "data": {
      "text/plain": [
       "(tensor([0, 0, 0, 0, 0, 0, 0, 0, 0]),\n",
       " tensor([1., 0., 1., 0., 0., 0., 0., 0., 1.]))"
      ]
     },
     "execution_count": 75,
     "metadata": {},
     "output_type": "execute_result"
    }
   ],
   "source": [
    "preds.argmax(dim=1), data.y"
   ]
  },
  {
   "cell_type": "markdown",
   "metadata": {},
   "source": [
    "### Training GAT classifier"
   ]
  },
  {
   "cell_type": "markdown",
   "metadata": {},
   "source": [
    "Now training a Graph Attention Network for exactly the same graph (article). The code for the layers and models is taken from here: https://github.com/Diego999/pyGAT"
   ]
  },
  {
   "cell_type": "code",
   "execution_count": 76,
   "metadata": {},
   "outputs": [],
   "source": [
    "class GraphAttentionLayer(nn.Module):\n",
    "    \n",
    "    def __init__(self, in_features, out_features, dropout, alpha, concat=True):\n",
    "        super(GraphAttentionLayer, self).__init__()\n",
    "        self.dropout = dropout\n",
    "        self.in_features = in_features\n",
    "        self.out_features = out_features\n",
    "        self.alpha = alpha\n",
    "        self.concat = concat\n",
    "\n",
    "        self.W = nn.Parameter(torch.empty(size=(in_features, out_features)))\n",
    "        nn.init.xavier_uniform_(self.W.data, gain=1.414)\n",
    "        self.a = nn.Parameter(torch.empty(size=(2*out_features, 1)))\n",
    "        nn.init.xavier_uniform_(self.a.data, gain=1.414)\n",
    "\n",
    "        self.leakyrelu = nn.LeakyReLU(self.alpha)\n",
    "\n",
    "    def forward(self, h, adj):\n",
    "        Wh = torch.mm(h, self.W) # h.shape: (N, in_features), Wh.shape: (N, out_features)\n",
    "        a_input = self._prepare_attentional_mechanism_input(Wh)\n",
    "        e = self.leakyrelu(torch.matmul(a_input, self.a).squeeze(2))\n",
    "\n",
    "        zero_vec = -9e15*torch.ones_like(e)\n",
    "        attention = torch.where(adj > 0, e, zero_vec)\n",
    "        attention = F.softmax(attention, dim=1)\n",
    "        attention = F.dropout(attention, self.dropout, training=self.training)\n",
    "        h_prime = torch.matmul(attention, Wh)\n",
    "\n",
    "        if self.concat:\n",
    "            return F.elu(h_prime)\n",
    "        else:\n",
    "            return h_prime\n",
    "\n",
    "    def _prepare_attentional_mechanism_input(self, Wh):\n",
    "        N = Wh.size()[0] # number of nodes\n",
    "\n",
    "        # Below, two matrices are created that contain embeddings in their rows in different orders.\n",
    "        # (e stands for embedding)\n",
    "        # These are the rows of the first matrix (Wh_repeated_in_chunks): \n",
    "        # e1, e1, ..., e1,            e2, e2, ..., e2,            ..., eN, eN, ..., eN\n",
    "        # '-------------' -> N times  '-------------' -> N times       '-------------' -> N times\n",
    "        # \n",
    "        # These are the rows of the second matrix (Wh_repeated_alternating): \n",
    "        # e1, e2, ..., eN, e1, e2, ..., eN, ..., e1, e2, ..., eN \n",
    "        # '----------------------------------------------------' -> N times\n",
    "        # \n",
    "        \n",
    "        Wh_repeated_in_chunks = Wh.repeat_interleave(N, dim=0)\n",
    "        Wh_repeated_alternating = Wh.repeat(N, 1)\n",
    "        # Wh_repeated_in_chunks.shape == Wh_repeated_alternating.shape == (N * N, out_features)\n",
    "\n",
    "        # The all_combination_matrix, created below, will look like this (|| denotes concatenation):\n",
    "        # e1 || e1\n",
    "        # e1 || e2\n",
    "        # e1 || e3\n",
    "        # ...\n",
    "        # e1 || eN\n",
    "        # e2 || e1\n",
    "        # e2 || e2\n",
    "        # e2 || e3\n",
    "        # ...\n",
    "        # e2 || eN\n",
    "        # ...\n",
    "        # eN || e1\n",
    "        # eN || e2\n",
    "        # eN || e3\n",
    "        # ...\n",
    "        # eN || eN\n",
    "\n",
    "        all_combinations_matrix = torch.cat([Wh_repeated_in_chunks, Wh_repeated_alternating], dim=1)\n",
    "        # all_combinations_matrix.shape == (N * N, 2 * out_features)\n",
    "\n",
    "        return all_combinations_matrix.view(N, N, 2 * self.out_features)\n",
    "\n",
    "    def __repr__(self):\n",
    "        return self.__class__.__name__ + ' (' + str(self.in_features) + ' -> ' + str(self.out_features) + ')'\n"
   ]
  },
  {
   "cell_type": "code",
   "execution_count": 77,
   "metadata": {},
   "outputs": [],
   "source": [
    "class GAT(nn.Module):\n",
    "    def __init__(self, nfeat, nhid, nclass, dropout, alpha, nheads):\n",
    "        \"\"\"Dense version of GAT.\"\"\"\n",
    "        super(GAT, self).__init__()\n",
    "        self.dropout = dropout\n",
    "\n",
    "        self.attentions = [GraphAttentionLayer(nfeat, \n",
    "                                               nhid, \n",
    "                                               dropout=dropout, \n",
    "                                               alpha=alpha, \n",
    "                                               concat=True) for _ in range(nheads)]\n",
    "        for i, attention in enumerate(self.attentions):\n",
    "            self.add_module('attention_{}'.format(i), attention)\n",
    "\n",
    "        self.out_att = GraphAttentionLayer(nhid * nheads, nclass, \n",
    "                                           dropout=dropout, alpha=alpha, concat=False)\n",
    "\n",
    "    def forward(self, x, adj):\n",
    "        #import pdb;pdb.set_trace()\n",
    "        x = F.dropout(x, self.dropout, training=self.training)\n",
    "        x = torch.cat([att(x, adj) for att in self.attentions], dim=1)\n",
    "        x = F.dropout(x, self.dropout, training=self.training)\n",
    "        x = F.elu(self.out_att(x, adj))\n",
    "        return F.log_softmax(x, dim=1)"
   ]
  },
  {
   "cell_type": "code",
   "execution_count": 78,
   "metadata": {},
   "outputs": [],
   "source": [
    "# Model and optimizer\n",
    "modelGAT = GAT(\n",
    "    nfeat=data.num_node_features, \n",
    "    nhid=32, \n",
    "    nclass=2, \n",
    "    dropout=0.5, \n",
    "    nheads=2, \n",
    "    alpha=0.3\n",
    ")\n",
    "optimizerGAT = optim.Adam(\n",
    "    modelGAT.parameters(), \n",
    "    lr=2e-4, \n",
    "    #weight_decay=args.weight_decay\n",
    ")"
   ]
  },
  {
   "cell_type": "code",
   "execution_count": 84,
   "metadata": {},
   "outputs": [],
   "source": [
    "def trainGAT(x, adj, label, nepochs, model, opt, verbose=False):\n",
    "    \n",
    "    model.train()\n",
    "    losses = []\n",
    "    accuracies = []\n",
    "    \n",
    "    for epoch in range(nepochs):\n",
    "        \n",
    "        #import pdb;pdb.set_trace()\n",
    "        opt.zero_grad()\n",
    "        preds = model(x, adj)\n",
    "        writer.add_histogram('attention_0.W', \n",
    "                             dict(model.named_parameters())['attention_0.W'],\n",
    "                            epoch)\n",
    "        writer.add_histogram('attention_0.a', \n",
    "                             dict(model.named_parameters())['attention_0.a'],\n",
    "                            epoch)\n",
    "        writer.add_histogram('attention_1.W', \n",
    "                             dict(model.named_parameters())['attention_1.W'],\n",
    "                            epoch)\n",
    "        writer.add_histogram('attention_1.a', \n",
    "                             dict(model.named_parameters())['attention_1.a'],\n",
    "                            epoch)\n",
    "        writer.add_histogram('out_att.W', \n",
    "                             dict(model.named_parameters())['out_att.W'].grad,\n",
    "                            epoch)\n",
    "        writer.add_histogram('out_att.a', \n",
    "                             dict(model.named_parameters())['out_att.a'].grad,\n",
    "                            epoch)\n",
    "        \n",
    "        loss = F.nll_loss(preds, label.type(torch.LongTensor))\n",
    "        loss.backward()\n",
    "        opt.step()\n",
    "\n",
    "        acc = get_accuracy(preds, label)\n",
    "        losses.append(loss.item())\n",
    "        accuracies.append(acc)\n",
    "        if verbose:\n",
    "            print('Epoch', epoch)\n",
    "            print('Loss', loss.item())\n",
    "\n",
    "            print('Accuracy', acc)\n",
    "            print('#########################################################')\n",
    "        \n",
    "        # * batch.num_graphs\n",
    "        #total_loss /= len(loader.dataset)\n",
    "        #writer.add_scalar(\"loss\", total_loss, epoch)\n",
    "\n",
    "        #if epoch % 10 == 0:\n",
    "        #    test_acc = test(test_loader, model)\n",
    "        #    print(\"Epoch {}. Loss: {:.4f}. Test accuracy: {:.4f}\".format(\n",
    "        #        epoch, total_loss, test_acc))\n",
    "            #writer.add_scalar(\"test accuracy\", test_acc, epoch)\n",
    "\n",
    "    return model, losses, accuracies\n"
   ]
  },
  {
   "cell_type": "markdown",
   "metadata": {},
   "source": [
    "Getting adjacency matrix of the graph and passing it to the model along with the node features."
   ]
  },
  {
   "cell_type": "code",
   "execution_count": 85,
   "metadata": {},
   "outputs": [],
   "source": [
    "data_adj = torch.from_numpy(nx.adjacency_matrix(G).toarray())\n",
    "gat, gat_loss, gat_acc = trainGAT(data.x, data_adj, data.y,\n",
    "                                  100, modelGAT, optimizerGAT)"
   ]
  },
  {
   "cell_type": "markdown",
   "metadata": {},
   "source": [
    "Creating the figures for losses, accuracies, gradients and attention weights."
   ]
  },
  {
   "cell_type": "code",
   "execution_count": 86,
   "metadata": {},
   "outputs": [
    {
     "data": {
      "image/png": "[encoded data removed]",
      "text/plain": [
       "<Figure size 432x288 with 1 Axes>"
      ]
     },
     "metadata": {
      "needs_background": "light"
     },
     "output_type": "display_data"
    }
   ],
   "source": [
    "plt.plot(range(100), gat_loss)\n",
    "plt.title('GAT Losses');"
   ]
  },
  {
   "cell_type": "code",
   "execution_count": 87,
   "metadata": {},
   "outputs": [
    {
     "data": {
      "image/png": "[encoded data removed]",
      "text/plain": [
       "<Figure size 432x288 with 1 Axes>"
      ]
     },
     "metadata": {
      "needs_background": "light"
     },
     "output_type": "display_data"
    }
   ],
   "source": [
    "plt.plot(range(100), gat_acc)\n",
    "plt.title('GAT Accuracy');"
   ]
  },
  {
   "cell_type": "markdown",
   "metadata": {},
   "source": [
    "Comparing predictions with the true labels."
   ]
  },
  {
   "cell_type": "code",
   "execution_count": 88,
   "metadata": {},
   "outputs": [
    {
     "name": "stdout",
     "output_type": "stream",
     "text": [
      "tensor([0, 0, 0, 0, 0, 0, 0, 0, 0])\n",
      "tensor([1., 0., 1., 0., 0., 0., 0., 0., 1.])\n"
     ]
    }
   ],
   "source": [
    "modelGAT.eval()\n",
    "with torch.no_grad():\n",
    "    print(modelGAT(data.x, data_adj).argmax(dim=1))\n",
    "    print(data.y)"
   ]
  },
  {
   "cell_type": "code",
   "execution_count": 89,
   "metadata": {},
   "outputs": [
    {
     "data": {
      "text/plain": [
       "Reusing TensorBoard on port 6006 (pid 27171), started 1:10:17 ago. (Use '!kill 27171' to kill it.)"
      ]
     },
     "metadata": {},
     "output_type": "display_data"
    },
    {
     "data": {
      "text/html": [
       "\n",
       "      <iframe id=\"tensorboard-frame-f31a0a066d732c8b\" width=\"100%\" height=\"800\" frameborder=\"0\">\n",
       "      </iframe>\n",
       "      <script>\n",
       "        (function() {\n",
       "          const frame = document.getElementById(\"tensorboard-frame-f31a0a066d732c8b\");\n",
       "          const url = new URL(\"/\", window.location);\n",
       "          const port = 6006;\n",
       "          if (port) {\n",
       "            url.port = port;\n",
       "          }\n",
       "          frame.src = url;\n",
       "        })();\n",
       "      </script>\n",
       "    "
      ],
      "text/plain": [
       "<IPython.core.display.HTML object>"
      ]
     },
     "metadata": {},
     "output_type": "display_data"
    }
   ],
   "source": [
    "%tensorboard --logdir=runs"
   ]
  },
  {
   "cell_type": "markdown",
   "metadata": {},
   "source": [
    "Again, the problem could be unchanging gradients. (Could it also be that the graph is too small (9 nodes only)? Although the notebook was also executed with the article of >30 nodes, the training was just as sad.)"
   ]
  },
  {
   "cell_type": "code",
   "execution_count": null,
   "metadata": {},
   "outputs": [],
   "source": []
  }
 ],
 "metadata": {
  "kernelspec": {
   "display_name": "Python 3",
   "language": "python",
   "name": "python3"
  },
  "language_info": {
   "codemirror_mode": {
    "name": "ipython",
    "version": 3
   },
   "file_extension": ".py",
   "mimetype": "text/x-python",
   "name": "python",
   "nbconvert_exporter": "python",
   "pygments_lexer": "ipython3",
   "version": "3.8.5"
  }
 },
 "nbformat": 4,
 "nbformat_minor": 4
}
