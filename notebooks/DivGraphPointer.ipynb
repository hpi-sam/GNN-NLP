{
 "cells": [
  {
   "cell_type": "markdown",
   "metadata": {},
   "source": [
    "#### Implementing DivGraphPointer paper from https://arxiv.org/abs/1905.07689\n"
   ]
  },
  {
   "cell_type": "code",
   "execution_count": 1,
   "metadata": {},
   "outputs": [],
   "source": [
    "import os\n",
    "import numpy as np\n",
    "import pandas as pd\n",
    "import string\n",
    "import re\n",
    "from itertools import chain\n",
    "from collections import OrderedDict\n",
    "from matplotlib import pyplot as plt\n",
    "from sklearn.feature_extraction.text import CountVectorizer\n",
    "import seaborn as sns"
   ]
  },
  {
   "cell_type": "markdown",
   "metadata": {},
   "source": [
    "## Loading the dataset"
   ]
  },
  {
   "cell_type": "code",
   "execution_count": 2,
   "metadata": {},
   "outputs": [],
   "source": [
    "import spacy\n",
    "nlp = spacy.load('en_core_web_md')"
   ]
  },
  {
   "cell_type": "code",
   "execution_count": 3,
   "metadata": {},
   "outputs": [],
   "source": [
    "news = pd.read_json('../data/KEDatasets/KPTimes/KPTimes.train.jsonl', lines=True)"
   ]
  },
  {
   "cell_type": "code",
   "execution_count": 4,
   "metadata": {},
   "outputs": [
    {
     "data": {
      "text/html": [
       "<div>\n",
       "<style scoped>\n",
       "    .dataframe tbody tr th:only-of-type {\n",
       "        vertical-align: middle;\n",
       "    }\n",
       "\n",
       "    .dataframe tbody tr th {\n",
       "        vertical-align: top;\n",
       "    }\n",
       "\n",
       "    .dataframe thead th {\n",
       "        text-align: right;\n",
       "    }\n",
       "</style>\n",
       "<table border=\"1\" class=\"dataframe\">\n",
       "  <thead>\n",
       "    <tr style=\"text-align: right;\">\n",
       "      <th></th>\n",
       "      <th>id</th>\n",
       "      <th>categories</th>\n",
       "      <th>date</th>\n",
       "      <th>title</th>\n",
       "      <th>abstract</th>\n",
       "      <th>keyword</th>\n",
       "    </tr>\n",
       "  </thead>\n",
       "  <tbody>\n",
       "    <tr>\n",
       "      <th>0</th>\n",
       "      <td>ny0282969</td>\n",
       "      <td>[us, politics]</td>\n",
       "      <td>2016-07-21</td>\n",
       "      <td>For Donald Trump’s Big Speech, an Added Pressu...</td>\n",
       "      <td>CLEVELAND — Until Monday night, Donald J. Trum...</td>\n",
       "      <td>2016 Presidential Election;Donald Trump;Republ...</td>\n",
       "    </tr>\n",
       "    <tr>\n",
       "      <th>1</th>\n",
       "      <td>ny0225578</td>\n",
       "      <td>[sports, hockey]</td>\n",
       "      <td>2010-10-16</td>\n",
       "      <td>In Home Opener, Rangers Lose Gaborik and Drury...</td>\n",
       "      <td>There were silver linings to the Rangers ’ wil...</td>\n",
       "      <td>Hockey Ice;Toronto Maple Leafs;New York Ranger...</td>\n",
       "    </tr>\n",
       "  </tbody>\n",
       "</table>\n",
       "</div>"
      ],
      "text/plain": [
       "          id        categories       date  \\\n",
       "0  ny0282969    [us, politics] 2016-07-21   \n",
       "1  ny0225578  [sports, hockey] 2010-10-16   \n",
       "\n",
       "                                               title  \\\n",
       "0  For Donald Trump’s Big Speech, an Added Pressu...   \n",
       "1  In Home Opener, Rangers Lose Gaborik and Drury...   \n",
       "\n",
       "                                            abstract  \\\n",
       "0  CLEVELAND — Until Monday night, Donald J. Trum...   \n",
       "1  There were silver linings to the Rangers ’ wil...   \n",
       "\n",
       "                                             keyword  \n",
       "0  2016 Presidential Election;Donald Trump;Republ...  \n",
       "1  Hockey Ice;Toronto Maple Leafs;New York Ranger...  "
      ]
     },
     "execution_count": 4,
     "metadata": {},
     "output_type": "execute_result"
    }
   ],
   "source": [
    "news.head(2)"
   ]
  },
  {
   "cell_type": "code",
   "execution_count": 5,
   "metadata": {
    "colab": {
     "base_uri": "https://localhost:8080/",
     "height": 521
    },
    "id": "MlFlxfL5dgn2",
    "outputId": "108697ae-6753-4b06-8876-3fc740148246"
   },
   "outputs": [],
   "source": [
    "import torch\n",
    "import torch.nn as nn\n",
    "import torch.nn.functional as F"
   ]
  },
  {
   "cell_type": "code",
   "execution_count": 6,
   "metadata": {
    "colab": {
     "base_uri": "https://localhost:8080/",
     "height": 521
    },
    "id": "MlFlxfL5dgn2",
    "outputId": "108697ae-6753-4b06-8876-3fc740148246"
   },
   "outputs": [],
   "source": [
    "import torch_geometric.nn as pyg_nn\n",
    "import torch_geometric.utils as pyg_utils"
   ]
  },
  {
   "cell_type": "code",
   "execution_count": 7,
   "metadata": {
    "colab": {
     "base_uri": "https://localhost:8080/",
     "height": 521
    },
    "id": "MlFlxfL5dgn2",
    "outputId": "108697ae-6753-4b06-8876-3fc740148246"
   },
   "outputs": [],
   "source": [
    "import time\n",
    "from datetime import datetime"
   ]
  },
  {
   "cell_type": "code",
   "execution_count": 8,
   "metadata": {
    "colab": {
     "base_uri": "https://localhost:8080/",
     "height": 521
    },
    "id": "MlFlxfL5dgn2",
    "outputId": "108697ae-6753-4b06-8876-3fc740148246"
   },
   "outputs": [],
   "source": [
    "import networkx as nx\n",
    "import numpy as np\n",
    "import torch\n",
    "import torch.optim as optim"
   ]
  },
  {
   "cell_type": "code",
   "execution_count": 9,
   "metadata": {
    "colab": {
     "base_uri": "https://localhost:8080/",
     "height": 521
    },
    "id": "MlFlxfL5dgn2",
    "outputId": "108697ae-6753-4b06-8876-3fc740148246"
   },
   "outputs": [],
   "source": [
    "from torch_geometric.datasets import TUDataset\n",
    "from torch_geometric.datasets import Planetoid\n",
    "from torch_geometric.data import DataLoader\n",
    "from torch_geometric.data import Data\n",
    "from torch_geometric.data import InMemoryDataset\n",
    "from torch_geometric.data import Dataset\n",
    "import torch_geometric.transforms as T\n",
    "from torch_geometric import utils"
   ]
  },
  {
   "cell_type": "code",
   "execution_count": 10,
   "metadata": {
    "colab": {
     "base_uri": "https://localhost:8080/",
     "height": 521
    },
    "id": "MlFlxfL5dgn2",
    "outputId": "108697ae-6753-4b06-8876-3fc740148246"
   },
   "outputs": [],
   "source": [
    "#from tensorboardX import SummaryWriter\n",
    "from sklearn.manifold import TSNE\n",
    "import matplotlib.pyplot as plt"
   ]
  },
  {
   "cell_type": "markdown",
   "metadata": {},
   "source": [
    "## Importing FastText and loading a model for word vectors"
   ]
  },
  {
   "cell_type": "code",
   "execution_count": 11,
   "metadata": {},
   "outputs": [],
   "source": [
    "import fasttext as ft"
   ]
  },
  {
   "cell_type": "code",
   "execution_count": 12,
   "metadata": {},
   "outputs": [
    {
     "name": "stderr",
     "output_type": "stream",
     "text": [
      "Warning : `load_model` does not return WordVectorModel or SupervisedModel any more, but a `FastText` object which is very similar.\n"
     ]
    }
   ],
   "source": [
    "ft_model = ft.load_model('../models/fil9SkipGram.bin')"
   ]
  },
  {
   "cell_type": "markdown",
   "metadata": {},
   "source": [
    "#### Most similar words to 'man' according to the model"
   ]
  },
  {
   "cell_type": "code",
   "execution_count": 13,
   "metadata": {},
   "outputs": [
    {
     "data": {
      "text/plain": [
       "[(0.7125452756881714, 'woman'),\n",
       " (0.7092046141624451, 'stranger'),\n",
       " (0.7067620754241943, 'stupider'),\n",
       " (0.7021083235740662, 'thing'),\n",
       " (0.7005878686904907, 'darndest'),\n",
       " (0.6971448063850403, 'stupidest'),\n",
       " (0.692797839641571, 'beastly'),\n",
       " (0.6923372745513916, 'beast'),\n",
       " (0.6917076110839844, 'hater'),\n",
       " (0.6898659467697144, 'niggardly')]"
      ]
     },
     "execution_count": 13,
     "metadata": {},
     "output_type": "execute_result"
    }
   ],
   "source": [
    "ft_model.get_nearest_neighbors('man')"
   ]
  },
  {
   "cell_type": "markdown",
   "metadata": {},
   "source": [
    "This FastText model is trained only on a small subset of Wikipedia articles. It is much faster to load for daily experiments. The final version of the FastText model will be trained on the full Wikipedia dataset and fine-tuned for the KPTimes articles."
   ]
  },
  {
   "cell_type": "markdown",
   "metadata": {},
   "source": [
    "*Checking the KPTimes dataset for the duplicates.*"
   ]
  },
  {
   "cell_type": "code",
   "execution_count": 14,
   "metadata": {},
   "outputs": [
    {
     "data": {
      "text/plain": [
       "(21,\n",
       " id            0\n",
       " categories    0\n",
       " date          0\n",
       " title         0\n",
       " abstract      0\n",
       " keyword       0\n",
       " dtype: int64)"
      ]
     },
     "execution_count": 14,
     "metadata": {},
     "output_type": "execute_result"
    }
   ],
   "source": [
    "news['abstract'].duplicated().sum(), news.isnull().sum()"
   ]
  },
  {
   "cell_type": "markdown",
   "metadata": {},
   "source": [
    "*What are the most popular categories for the news articles?*"
   ]
  },
  {
   "cell_type": "code",
   "execution_count": 15,
   "metadata": {},
   "outputs": [
    {
     "data": {
      "text/plain": [
       "sports              61996\n",
       "world               50828\n",
       "business            49690\n",
       "us                  41124\n",
       "nyregion            40131\n",
       "                    ...  \n",
       "nyregionspecial5        1\n",
       "election-news           1\n",
       "worldspecial3           1\n",
       "businessspecial6        1\n",
       "nyregionspecial         1\n",
       "Name: categories, Length: 92, dtype: int64"
      ]
     },
     "execution_count": 15,
     "metadata": {},
     "output_type": "execute_result"
    }
   ],
   "source": [
    "news = news.drop_duplicates(subset='abstract').reset_index(drop=True)\n",
    "news['keyword'] = news['keyword'].str.split(';')\n",
    "news = news.explode('categories')\n",
    "news['categories'].value_counts()"
   ]
  },
  {
   "cell_type": "markdown",
   "metadata": {},
   "source": [
    "Now choosing only three most popular categories (sports, world and business), taking small number of articles from each of them and creating a new DataFrame."
   ]
  },
  {
   "cell_type": "code",
   "execution_count": 16,
   "metadata": {},
   "outputs": [],
   "source": [
    "np.random.seed(42)\n",
    "topics = ['sports', 'world', 'business']\n",
    "sports_id = news.loc[news['categories'] == 'sports'].index\n",
    "world_id = news.loc[news['categories'] == 'world'].index\n",
    "bus_id = news.loc[news['categories'] == 'business'].index\n",
    "id1 = np.random.choice(sports_id, 20, replace=False).tolist()\n",
    "id2 = np.random.choice(world_id, 20, replace=False).tolist()\n",
    "id3 = np.random.choice(bus_id, 20, replace=False).tolist()\n",
    "ids = id1 + id2 + id3\n",
    "df = news[['abstract', 'categories', 'keyword']].loc[ids].copy()"
   ]
  },
  {
   "cell_type": "code",
   "execution_count": 17,
   "metadata": {},
   "outputs": [
    {
     "data": {
      "text/plain": [
       "(108, 3)"
      ]
     },
     "execution_count": 17,
     "metadata": {},
     "output_type": "execute_result"
    }
   ],
   "source": [
    "df.shape"
   ]
  },
  {
   "cell_type": "markdown",
   "metadata": {},
   "source": [
    "60 articles in the new smaller DataFrame."
   ]
  },
  {
   "cell_type": "code",
   "execution_count": 18,
   "metadata": {},
   "outputs": [
    {
     "data": {
      "text/plain": [
       "(60, 3)"
      ]
     },
     "execution_count": 18,
     "metadata": {},
     "output_type": "execute_result"
    }
   ],
   "source": [
    "df = df.drop_duplicates('abstract').reset_index(drop=True)\n",
    "df.shape"
   ]
  },
  {
   "cell_type": "markdown",
   "metadata": {},
   "source": [
    "### Cleaning the text and creating a vocabulary (nodes)"
   ]
  },
  {
   "cell_type": "code",
   "execution_count": 19,
   "metadata": {},
   "outputs": [],
   "source": [
    "######################## cleaning the text, splitting into chunks #########################################\n",
    "from sklearn.feature_extraction.text import ENGLISH_STOP_WORDS\n",
    "stops = ENGLISH_STOP_WORDS\n",
    "signs = string.punctuation + '“' + '’' + '”' + '*'\n",
    "punct_translator = str.maketrans('', '', signs)\n",
    "\n",
    "def clean_chunks(chunks):\n",
    "    new_chunks = []\n",
    "    for pair in chunks:\n",
    "        text = pair[0].translate(punct_translator)\n",
    "        words = text.split()\n",
    "        nchunk = ' '.join([w for w in words if w not in ENGLISH_STOP_WORDS])\n",
    "        if len(text) > 2:\n",
    "            new_chunks.append((nchunk, pair[1]))\n",
    "    return new_chunks\n",
    "            \n",
    "\n",
    "def get_nchunks(x):\n",
    "    nchunks = []\n",
    "    #import pdb;pdb.set_trace()\n",
    "    chunks = nlp(x).noun_chunks\n",
    "    nchunks = [(c.text.lower(), (c.start_char, c.end_char)) \n",
    "               for c in chunks if c.text.lower() not in ENGLISH_STOP_WORDS]\n",
    "    new_chunks = clean_chunks(nchunks)\n",
    "\n",
    "    return new_chunks"
   ]
  },
  {
   "cell_type": "code",
   "execution_count": 20,
   "metadata": {},
   "outputs": [],
   "source": [
    "#################################### creating vocabulary (nodes) ############################################################\n",
    "def make_vocab(x):\n",
    "    nchunks = x[3]\n",
    "    #import pdb;pdb.set_trace()\n",
    "    ss = x[0].lower()\n",
    "    #print(ss)\n",
    "    spans = list(list(zip(*nchunks))[1])\n",
    "    keys = list(list(zip(*nchunks))[0])\n",
    "    spans.extend([(len(ss),)])\n",
    "    keys_ids = list(zip(keys, list(zip(*spans))[0]))\n",
    "    non_chunks = [(ss[0:spans[0][0]], 0)]+[(ss[spans[i][-1]:spans[i+1][0]-1], spans[i][-1])\n",
    "                                      for i in range(len(spans)-1)]\n",
    "    non_chunks.extend(keys_ids)\n",
    "    #print(non_chunks)\n",
    "    words = list(zip(*sorted(non_chunks, key=lambda x: x[1])))[0]\n",
    "    #print(words)\n",
    "    vocab = []\n",
    "    for w in words:\n",
    "        if w not in keys:\n",
    "            w = w.translate(punct_translator).lower().split()\n",
    "            for i in w:\n",
    "                if i not in ['', ' ', '  ', '   ']:\n",
    "                    vocab.append(i)\n",
    "        else: vocab.append(w)\n",
    "    return vocab"
   ]
  },
  {
   "cell_type": "code",
   "execution_count": 21,
   "metadata": {},
   "outputs": [
    {
     "data": {
      "image/png": "[encoded data removed]",
      "text/plain": [
       "<Figure size 2160x432 with 1 Axes>"
      ]
     },
     "metadata": {
      "needs_background": "light"
     },
     "output_type": "display_data"
    }
   ],
   "source": [
    "df.explode('keyword')['keyword'].value_counts().plot(kind='bar', figsize=(30, 6));"
   ]
  },
  {
   "cell_type": "code",
   "execution_count": 22,
   "metadata": {},
   "outputs": [
    {
     "name": "stdout",
     "output_type": "stream",
     "text": [
      "CPU times: user 4.96 s, sys: 0 ns, total: 4.96 s\n",
      "Wall time: 4.96 s\n"
     ]
    }
   ],
   "source": [
    "%time df['nchunks'] = df.loc[:, 'abstract'].apply(get_nchunks)"
   ]
  },
  {
   "cell_type": "code",
   "execution_count": 23,
   "metadata": {},
   "outputs": [
    {
     "name": "stdout",
     "output_type": "stream",
     "text": [
      "CPU times: user 57.7 ms, sys: 0 ns, total: 57.7 ms\n",
      "Wall time: 57.7 ms\n"
     ]
    }
   ],
   "source": [
    "%time df['vocab'] = df.apply(make_vocab, axis=1)"
   ]
  },
  {
   "cell_type": "code",
   "execution_count": 24,
   "metadata": {},
   "outputs": [],
   "source": [
    "def clean_vocab(v):\n",
    "    return [w for w in v if (w not in stops) and (len(w) > 3)]\n",
    "\n",
    "df['vocab'] = df.loc[:, 'vocab'].apply(clean_vocab)"
   ]
  },
  {
   "cell_type": "code",
   "execution_count": 25,
   "metadata": {},
   "outputs": [
    {
     "data": {
      "text/plain": [
       "['coach kyle flood',\n",
       " 'said',\n",
       " 'senior gary nova',\n",
       " 'benched',\n",
       " 'games',\n",
       " 'season',\n",
       " 'start',\n",
       " 'quarterback',\n",
       " 'rutgers']"
      ]
     },
     "execution_count": 25,
     "metadata": {},
     "output_type": "execute_result"
    }
   ],
   "source": [
    "df.sort_values(by='abstract', key=lambda x: x.str.len()).iloc[0]['vocab']"
   ]
  },
  {
   "cell_type": "code",
   "execution_count": 26,
   "metadata": {},
   "outputs": [],
   "source": [
    "s = 'peter piper picked a peck of pickled pepper where is the peck of pickled '\\\n",
    "    'pepper peter piper picked'\n",
    "w = np.array(s.split())\n"
   ]
  },
  {
   "cell_type": "code",
   "execution_count": 27,
   "metadata": {},
   "outputs": [],
   "source": [
    "def position_score(pos1, pos2):\n",
    "\n",
    "    score = 0\n",
    "    for i in pos1:\n",
    "        for j in pos2:\n",
    "            score += max(0, 1/(i-j))\n",
    "    return score\n",
    "\n",
    "def position_dict(ordered_vocab):\n",
    "    \n",
    "    position_dict = OrderedDict()\n",
    "    for word in ordered_vocab:\n",
    "        if word not in position_dict.keys():\n",
    "            position_dict[word] = [i for i, w in enumerate(ordered_vocab) if w == word]\n",
    "    return position_dict\n",
    "\n",
    "def score_matrix(ordered_vocab):\n",
    "    \n",
    "    pos = position_dict(ordered_vocab)\n",
    "    A_left = []\n",
    "    A_right = []\n",
    "    for word in pos.keys():\n",
    "        left = []\n",
    "        right = []\n",
    "        for word2 in pos.keys():\n",
    "            if word == word2:\n",
    "                left.append(0)\n",
    "                right.append(0)\n",
    "            else:\n",
    "                left_score = position_score(pos[word], pos[word2])\n",
    "                left.append(left_score)\n",
    "                right_score = position_score(pos[word2], pos[word])\n",
    "                right.append(right_score)\n",
    "        A_left.append(left)\n",
    "        A_right.append(right)\n",
    "    return np.array(A_left), np.array(A_right), pos.keys()"
   ]
  },
  {
   "cell_type": "code",
   "execution_count": 28,
   "metadata": {},
   "outputs": [],
   "source": [
    "from torch_geometric.nn import MessagePassing\n",
    "from torch_geometric.utils import add_self_loops, degree\n",
    "\n",
    "class GCNWeightedConv(MessagePassing):\n",
    "    def __init__(self, in_channels, out_channels):\n",
    "        super(GCNWeightedConv, self).__init__(aggr='add')  # \"Add\" aggregation (Step 5).\n",
    "        self.lin = torch.nn.Linear(in_channels, out_channels)\n",
    "        self.left_lin = torch.nn.Linear(in_channels, out_channels)\n",
    "        self.right_lin = torch.nn.Linear(in_channels, out_channels)\n",
    "\n",
    "    def forward(self, x, edge_index):#, left_deg, right_deg):\n",
    "\n",
    "        self.x = x\n",
    "        linear_x = self.lin(x)\n",
    "        #left_x = self.left_lin(x)\n",
    "        #right_x = self.right_lin(x)\n",
    "        \n",
    "        row, col = edge_index\n",
    "        left_deg = left_deg.pow(-0.5)\n",
    "        right_deg = right_deg.pow(-0.5)\n",
    "        left_norm = left_deg[row] * left_deg[col]\n",
    "        right_norm = right_deg[row] * right_deg[col]\n",
    "\n",
    "        left = self.propagate(edge_index, x=left_x, norm=left_norm)\n",
    "        right = self.propagate(edge_index, x=right_x, norm=right_norm)\n",
    "        \n",
    "        \n",
    "        return left + right + linear_x\n",
    "\n",
    "    \n",
    "    def message(self, x_j, norm):\n",
    "        # x_j has shape [E, out_channels]\n",
    "\n",
    "        # Step 4: Normalize node features.\n",
    "        return norm.view(-1, 1) * x_j\n",
    "    \n",
    "    \n",
    "    def update(self, aggr_out):\n",
    "        \n",
    "        return aggr_out"
   ]
  },
  {
   "cell_type": "code",
   "execution_count": 29,
   "metadata": {},
   "outputs": [],
   "source": [
    "class GCNWeightedConvM(MessagePassing):\n",
    "    def __init__(self, in_channels, out_channels):\n",
    "        super(GCNWeightedConvM, self).__init__(aggr='add')  # \"Add\" aggregation (Step 5).\n",
    "        self.lin = torch.nn.Linear(in_channels, out_channels)\n",
    "        #self.left_lin = torch.nn.Linear(in_channels, out_channels)\n",
    "        #self.right_lin = torch.nn.Linear(in_channels, out_channels)\n",
    "\n",
    "    def forward(self, X, A_left_tilda, A_right_tilda):#, left_deg, right_deg):\n",
    "\n",
    "        \n",
    "        D_right = torch.diag_embed(A_right_tilda.sum(dim=1).pow(-0.5))\n",
    "        D_left = torch.diag_embed(A_left_tilda.sum(dim=1).pow(-0.5))\n",
    "        \n",
    "        A_left_hat = D_left @ A_left_tilda\n",
    "        A_right_hat = D_right @ A_right_tilda\n",
    "        \n",
    "        f = self.propagate(X, A_left_hat, A_right_hat)\n",
    "        g = torch.sigmoid(f)\n",
    "        \n",
    "        activation = (f * g)\n",
    "        if X.size() == activation.size():\n",
    "            return X + activation\n",
    "        return activation\n",
    "    \n",
    "    def propagate(self, X, A_left, A_right):\n",
    "        \n",
    "        left = self.lin(A_left.float() @ X.float())\n",
    "        right = self.lin(A_right.float() @ X.float())\n",
    "        linear = self.lin(X)\n",
    "        \n",
    "        return left + right + linear"
   ]
  },
  {
   "cell_type": "code",
   "execution_count": 30,
   "metadata": {},
   "outputs": [],
   "source": [
    "Aleft, Aright, columns = score_matrix(w)\n",
    "Aleft_tilda = torch.from_numpy(Aleft + np.identity(Aleft.shape[0]))\n",
    "Aright_tilda = torch.from_numpy(Aright + np.identity(Aright.shape[0]))\n",
    "X = torch.tensor([ft_model.get_sentence_vector(w).tolist() for w in columns])"
   ]
  },
  {
   "cell_type": "code",
   "execution_count": 31,
   "metadata": {},
   "outputs": [],
   "source": [
    "example_data = Data(x=X)"
   ]
  },
  {
   "cell_type": "code",
   "execution_count": 32,
   "metadata": {},
   "outputs": [],
   "source": [
    "example_data.a_left = Aleft_tilda\n",
    "example_data.a_right = Aright_tilda\n",
    "example_data.words = columns"
   ]
  },
  {
   "cell_type": "code",
   "execution_count": 34,
   "metadata": {},
   "outputs": [],
   "source": [
    "#divG = DivGraphEncoder(example_data.num_node_features, example_data.num_node_features, 3)\n",
    "#optimiser = optim.Adam(divG.parameters(), lr=0.01)"
   ]
  },
  {
   "cell_type": "code",
   "execution_count": null,
   "metadata": {},
   "outputs": [],
   "source": [
    "#%load_ext tensorboard"
   ]
  },
  {
   "cell_type": "code",
   "execution_count": 35,
   "metadata": {},
   "outputs": [],
   "source": [
    "from torch.utils.tensorboard import SummaryWriter\n",
    "\n",
    "writer = SummaryWriter()"
   ]
  },
  {
   "cell_type": "code",
   "execution_count": 36,
   "metadata": {},
   "outputs": [],
   "source": [
    "def train_encoder(data_obj, model, opt, nepochs):\n",
    "    for epoch in range(nepochs):\n",
    "        model.train()\n",
    "        opt.zero_grad()\n",
    "        #print('X shape', data_obj.x.shape)\n",
    "        embedding = model(data_obj)\n",
    "        #import pdb;pdb.set_trace()\n",
    "        writer.add_histogram('linear.weight', \n",
    "                             dict(model.named_parameters())['linear.weight'],\n",
    "                            epoch)\n",
    "        writer.add_histogram('convs.0.lin.weight', \n",
    "                             dict(model.named_parameters())['convs.0.lin.weight'],\n",
    "                            epoch)\n",
    "        writer.add_histogram('convs.1.lin.weight', \n",
    "                             dict(model.named_parameters())['convs.1.lin.weight'],\n",
    "                            epoch)\n",
    "        writer.add_histogram('convs.2.lin.weight', \n",
    "                             dict(model.named_parameters())['convs.2.lin.weight'],\n",
    "                            epoch)\n",
    "        #data_obj.x = embedding\n",
    "\n",
    "    return embedding, dict(model.named_parameters())['convs.2.lin.weight']\n"
   ]
  },
  {
   "cell_type": "code",
   "execution_count": 37,
   "metadata": {},
   "outputs": [],
   "source": [
    "#%%time\n",
    "#div_embeds10, last_conv_w10 = train_encoder(example_data, divG, \n",
    "#                                        optimiser, 10)\n",
    "#div_embeds100, last_conv_w100 = train_encoder(example_data, divG, \n",
    "#                                        optimiser, 100)\n",
    "#div_embeds500, last_conv_w500 = train_encoder(example_data, divG, \n",
    "#                                        optimiser, 500)"
   ]
  },
  {
   "cell_type": "code",
   "execution_count": null,
   "metadata": {},
   "outputs": [],
   "source": [
    "#div_embeds, last_conv_w = train_encoder(example_data, divG, \n",
    "#                                        optimiser, 1)"
   ]
  },
  {
   "cell_type": "code",
   "execution_count": null,
   "metadata": {},
   "outputs": [],
   "source": [
    "#%tensorboard --logdir=runs"
   ]
  },
  {
   "cell_type": "code",
   "execution_count": null,
   "metadata": {},
   "outputs": [],
   "source": [
    "#div_embeds.shape, last_conv_w.shape"
   ]
  },
  {
   "cell_type": "code",
   "execution_count": null,
   "metadata": {},
   "outputs": [],
   "source": [
    "#plt.bar(range(11), example_data.x.mean(dim=1).detach().numpy())\n",
    "#plt.xticks(range(11), example_data.words, rotation=20)\n",
    "#plt.title('Means of the word vector coordinates, FastText');"
   ]
  },
  {
   "cell_type": "code",
   "execution_count": null,
   "metadata": {},
   "outputs": [],
   "source": [
    "#plt.bar(range(11), div_embeds.mean(dim=1).detach().numpy(), color='green')\n",
    "#plt.xticks(range(11), example_data.words, rotation=20)\n",
    "#plt.title('Means of the word vector coordinates, DivGraphConv');"
   ]
  },
  {
   "cell_type": "code",
   "execution_count": null,
   "metadata": {},
   "outputs": [],
   "source": [
    "#projector = SummaryWriter()"
   ]
  },
  {
   "cell_type": "code",
   "execution_count": null,
   "metadata": {},
   "outputs": [],
   "source": [
    "#projector.add_embedding(mat=example_data.x, metadata=list(example_data.words))"
   ]
  },
  {
   "cell_type": "code",
   "execution_count": null,
   "metadata": {},
   "outputs": [],
   "source": [
    "#%tensorboard --logdir=runs"
   ]
  },
  {
   "cell_type": "code",
   "execution_count": null,
   "metadata": {},
   "outputs": [],
   "source": [
    "#ft_projector = SummaryWriter(log_dir='logs')"
   ]
  },
  {
   "cell_type": "code",
   "execution_count": null,
   "metadata": {},
   "outputs": [],
   "source": [
    "#ft_projector.add_embedding(mat=div_embeds, metadata=list(example_data.words),\n",
    "#                          global_step='DivG2')"
   ]
  },
  {
   "cell_type": "code",
   "execution_count": null,
   "metadata": {},
   "outputs": [],
   "source": [
    "#%reload_ext tensorboard\n",
    "#projector.close()\n",
    "#writer.close()"
   ]
  },
  {
   "cell_type": "code",
   "execution_count": null,
   "metadata": {},
   "outputs": [],
   "source": [
    "#%tensorboard --logdir='logs'"
   ]
  },
  {
   "cell_type": "code",
   "execution_count": null,
   "metadata": {},
   "outputs": [],
   "source": []
  },
  {
   "cell_type": "code",
   "execution_count": null,
   "metadata": {},
   "outputs": [],
   "source": []
  },
  {
   "cell_type": "code",
   "execution_count": 38,
   "metadata": {},
   "outputs": [],
   "source": [
    "import torch\n",
    "import torch.nn as nn\n",
    "import torch.nn.functional as F"
   ]
  },
  {
   "cell_type": "code",
   "execution_count": 39,
   "metadata": {},
   "outputs": [],
   "source": [
    "class DivGraphNet(torch.nn.Module):\n",
    "    \n",
    "    def __init__(self, encoder, decoder):\n",
    "        super(DivGraphNet, self).__init__()\n",
    "        self.encoder = encoder\n",
    "        self.decoder = decoder\n",
    "        \n",
    "        self.y_W = nn.Linear(self.decoder.embed_size, self.decoder.embed_size) \n",
    "        self.h_W = nn.Linear(self.decoder.embed_size, self.decoder.hidden_size)\n",
    "        self.loss = nn.CrossEntropyLoss()\n",
    "        \n",
    "    def forward(self, batch, labels):\n",
    "        \n",
    "        # encoder_out.shape for one article = (n_words, 100)\n",
    "        keyphrases = []\n",
    "        # encoder_out: (11, 100)\n",
    "        encoder_out = self.encoder(batch)\n",
    "        # context_vector: (1, 100)\n",
    "        context_vector = encoder_out.mean(axis=0)\n",
    "        loss = 0\n",
    "        nodes = torch.cat((encoder_out, torch.ones(1, encoder_out.size(1))), 0)\n",
    "        coverage = torch.zeros(len(nodes), 1)\n",
    "        hidden_dim = self.decoder.bi*self.decoder.rnn_layers\n",
    "        for l in range(len(labels)):\n",
    "            \n",
    "            if l == 0:\n",
    "                # input_token: (1, 1, 100)\n",
    "                input_token = torch.zeros((1, 1, self.decoder.embed_size))\n",
    "                # hidden: (1, 1, 300)\n",
    "                hidden = torch.tanh(self.h_W(context_vector)).unsqueeze(0).unsqueeze(0)\n",
    "            else:\n",
    "                # ids: (1, ...)\n",
    "                #import pdb;pdb.set_trace()\n",
    "                ids = list(chain.from_iterable(keyphrases))\n",
    "                # kp: (100,)\n",
    "                kp = nodes[ids, :].mean(axis=0)\n",
    "                # context_vector*kp: (1, 100)\n",
    "                # cy: (100,)\n",
    "                cy = (context_vector*kp)\n",
    "                # input_token: (1, 1, 100)\n",
    "                input_token = self.y_W(cy).unsqueeze(0).unsqueeze(0)\n",
    "                # hidden: (1, 1, 300)\n",
    "                hidden = torch.tanh(self.h_W(cy)).unsqueeze(0).unsqueeze(0)\n",
    "            \n",
    "            keyphrases.append([])\n",
    "\n",
    "            for i in range(len(labels[l])): \n",
    "\n",
    "                att_w, hidden, word_id = self.decoder(input_token, \n",
    "                                                      hidden,\n",
    "                                                      nodes,\n",
    "                                                      coverage)\n",
    "                \n",
    "                if word_id == (len(nodes)-1):\n",
    "                    keyphrases[-1].append(word_id)\n",
    "                    loss += self.loss(att_w.unsqueeze(0), \n",
    "                                  torch.tensor(labels[l][i]))\n",
    "                    break\n",
    "                input_token = nodes[word_id].unsqueeze(0).unsqueeze(0)\n",
    "                keyphrases[-1].append(word_id)\n",
    "                coverage = coverage.clone()\n",
    "                coverage[word_id] += 1\n",
    "                # sum the loss up like this \n",
    "                # or return predictions and compute the loss for the\n",
    "                # whole batch in the training loop?\n",
    "                loss += self.loss(att_w.unsqueeze(0), \n",
    "                                  torch.tensor(labels[l][i]))\n",
    "        \n",
    "        return keyphrases, loss\n",
    "\n",
    "\n",
    "class DivGraphEncoder(nn.Module):\n",
    "    \n",
    "    def __init__(self, input_dim, hidden_dim, num_convs):\n",
    "        super(DivGraphEncoder, self).__init__()\n",
    "        \n",
    "        self.num_convs = num_convs\n",
    "        self.linear = nn.Linear(input_dim, hidden_dim)\n",
    "        self.convs = nn.ModuleList()\n",
    "        self.convs.append(GCNWeightedConvM(input_dim, hidden_dim))\n",
    "        for i in range(num_convs-1):\n",
    "            self.convs.append(GCNWeightedConvM(hidden_dim, hidden_dim))\n",
    "    \n",
    "    \n",
    "    def forward(self, data_obj):\n",
    "        \n",
    "        x, a_left, a_right = data_obj.x, data_obj.a_left, data_obj.a_right\n",
    "        \n",
    "        for i in range(len(self.convs)):\n",
    "            x = self.convs[i](x, a_left, a_right)\n",
    "            #embedding = x\n",
    "            #x = F.relu(x)\n",
    "            #x = F.dropout(x, p=self.dropout, training=self.training)\n",
    "            #if not i == self.num_layers - 1:\n",
    "            #    x = self.lns[i](x)\n",
    "        return x        \n",
    "    \n",
    "\n",
    "class DivGraphDecoder(torch.nn.Module):\n",
    "    \n",
    "    def __init__(self, \n",
    "                embed_size,\n",
    "                hidden_size,\n",
    "                rnn_layers,\n",
    "                bi=False,\n",
    "                batch_first=True):\n",
    "        super(DivGraphDecoder, self).__init__()\n",
    "        self.rnn = torch.nn.GRU(\n",
    "            embed_size,\n",
    "            hidden_size,\n",
    "            rnn_layers,\n",
    "            bidirectional=bi,\n",
    "            batch_first=batch_first,\n",
    "        )\n",
    "        self.embed_size = embed_size\n",
    "        self.hidden_size = hidden_size\n",
    "        self.att_v = nn.Linear(hidden_size, 1, bias=False)\n",
    "        self.att_W_hidden = nn.Linear(hidden_size, hidden_size, bias=False)\n",
    "        self.att_W_input = nn.Linear(embed_size, hidden_size, bias=False)\n",
    "        self.att_W_coverage = nn.Linear(1, hidden_size)\n",
    "        self.bi = 2 if bi else 1\n",
    "        self.rnn_layers = rnn_layers\n",
    "        \n",
    "\n",
    "    def forward(self, word_input, word_hidden, nodes, coverage):\n",
    "        # word_input: (1, 1, 100)\n",
    "        # word_hidden: (num_directions*num_layers, 1, 100)\n",
    "        # nodes: (11, 100)\n",
    "        # coverage: (1, 11)\n",
    "        # rnn_word: (1, 1, 100)\n",
    "        # rnn_hidden: (1, 1, 300)\n",
    "        rnn_word, rnn_hidden = self.rnn(word_input, word_hidden)\n",
    "        # rnn_word: (1, 300)\n",
    "        # rnn_hidden: (1, 300)\n",
    "        rnn_word = rnn_word.squeeze(0)\n",
    "        hidden = rnn_hidden.squeeze(0)\n",
    "        \n",
    "        hidden = self.att_W_hidden(hidden).expand(len(nodes), self.hidden_size)\n",
    "        # term: (11, 300)\n",
    "        term = hidden + self.att_W_input(nodes) + self.att_W_coverage(coverage)\n",
    "        # att_coef: (11,)\n",
    "        att_coef = self.att_v(torch.tanh(term)).squeeze(1)\n",
    "        # norm_att: (11, )\n",
    "        norm_att = F.softmax(att_coef, dim=0)\n",
    "        # next_word_id: scalar\n",
    "        next_word_id = norm_att.argmax().item()\n",
    "        \n",
    "        return norm_att, rnn_hidden, next_word_id"
   ]
  },
  {
   "cell_type": "code",
   "execution_count": 40,
   "metadata": {},
   "outputs": [],
   "source": [
    "example_data.labels = [\n",
    "    [\n",
    "        [0],\n",
    "        [1],\n",
    "        [11],\n",
    "    ],\n",
    "    [\n",
    "        [7],\n",
    "        [11],\n",
    "    ]\n",
    "]\n",
    "example_data.kp = [[0, 1, 11], [7, 11]]"
   ]
  },
  {
   "cell_type": "code",
   "execution_count": 41,
   "metadata": {},
   "outputs": [],
   "source": [
    "def train_divnet(n_epochs, data_obj):\n",
    "    torch.autograd.set_detect_anomaly(True)\n",
    "    diven = DivGraphEncoder(100, 100, 1)\n",
    "    divdec = DivGraphDecoder(100, 300, 1)\n",
    "    divnet = DivGraphNet(diven, divdec)\n",
    "    \n",
    "    optimiser = optim.Adam(divnet.parameters(), lr=0.01)\n",
    "    \n",
    "    for epoch in range(n_epochs):\n",
    "        optimiser.zero_grad()\n",
    "        divnet.train()\n",
    "        kp, loss = divnet(data_obj, data_obj.labels)\n",
    "        loss.backward()\n",
    "        optimiser.step()\n",
    "        print('Loss for epoch', epoch)\n",
    "        print(loss)\n",
    "    \n",
    "    return kp\n",
    "\n"
   ]
  },
  {
   "cell_type": "code",
   "execution_count": 42,
   "metadata": {},
   "outputs": [],
   "source": [
    "#%pdb on"
   ]
  },
  {
   "cell_type": "code",
   "execution_count": 43,
   "metadata": {},
   "outputs": [
    {
     "name": "stdout",
     "output_type": "stream",
     "text": [
      "Loss for epoch 0\n",
      "tensor(12.4396, grad_fn=<AddBackward0>)\n",
      "Loss for epoch 1\n",
      "tensor(5.2195, grad_fn=<AddBackward0>)\n",
      "Loss for epoch 2\n",
      "tensor(5.0993, grad_fn=<AddBackward0>)\n",
      "Loss for epoch 3\n",
      "tensor(12.4478, grad_fn=<AddBackward0>)\n",
      "Loss for epoch 4\n",
      "tensor(4.9705, grad_fn=<AddBackward0>)\n",
      "Loss for epoch 5\n",
      "tensor(4.9616, grad_fn=<AddBackward0>)\n",
      "Loss for epoch 6\n",
      "tensor(4.9452, grad_fn=<AddBackward0>)\n",
      "Loss for epoch 7\n",
      "tensor(4.9256, grad_fn=<AddBackward0>)\n",
      "Loss for epoch 8\n",
      "tensor(4.8844, grad_fn=<AddBackward0>)\n",
      "Loss for epoch 9\n",
      "tensor(9.7660, grad_fn=<AddBackward0>)\n"
     ]
    },
    {
     "data": {
      "text/plain": [
       "[[7, 7, 6], [11]]"
      ]
     },
     "execution_count": 43,
     "metadata": {},
     "output_type": "execute_result"
    }
   ],
   "source": [
    "train_divnet(10, example_data)"
   ]
  },
  {
   "cell_type": "code",
   "execution_count": null,
   "metadata": {},
   "outputs": [],
   "source": []
  },
  {
   "cell_type": "code",
   "execution_count": null,
   "metadata": {},
   "outputs": [],
   "source": []
  },
  {
   "cell_type": "code",
   "execution_count": null,
   "metadata": {},
   "outputs": [],
   "source": []
  },
  {
   "cell_type": "code",
   "execution_count": null,
   "metadata": {},
   "outputs": [],
   "source": []
  },
  {
   "cell_type": "code",
   "execution_count": null,
   "metadata": {},
   "outputs": [],
   "source": []
  },
  {
   "cell_type": "code",
   "execution_count": null,
   "metadata": {},
   "outputs": [],
   "source": []
  },
  {
   "cell_type": "code",
   "execution_count": null,
   "metadata": {},
   "outputs": [],
   "source": []
  },
  {
   "cell_type": "code",
   "execution_count": null,
   "metadata": {},
   "outputs": [],
   "source": []
  },
  {
   "cell_type": "code",
   "execution_count": null,
   "metadata": {},
   "outputs": [],
   "source": []
  },
  {
   "cell_type": "code",
   "execution_count": null,
   "metadata": {},
   "outputs": [],
   "source": []
  },
  {
   "cell_type": "code",
   "execution_count": null,
   "metadata": {},
   "outputs": [],
   "source": []
  },
  {
   "cell_type": "code",
   "execution_count": null,
   "metadata": {},
   "outputs": [],
   "source": []
  },
  {
   "cell_type": "code",
   "execution_count": null,
   "metadata": {},
   "outputs": [],
   "source": []
  },
  {
   "cell_type": "code",
   "execution_count": null,
   "metadata": {},
   "outputs": [],
   "source": []
  },
  {
   "cell_type": "code",
   "execution_count": null,
   "metadata": {},
   "outputs": [],
   "source": []
  },
  {
   "cell_type": "markdown",
   "metadata": {},
   "source": [
    "#### Questions to Chris:\n",
    "\n",
    "* How to set up the labels during the training? Keep each kp in a separated list or make one list and treat all the kp as one sequence with EOS tokens in between? The latter removes some constraints during the training\n",
    "* Scoring and negative log likelihood in section *4. Training and decoding* in the paper --> don't understand\n",
    "* Equations (8) and (9): concatenation of *c* and *y* or multiplication?\n",
    "* Attention term: the term is compused out of matrices, does only v^T brings it to 1d?"
   ]
  },
  {
   "cell_type": "code",
   "execution_count": null,
   "metadata": {},
   "outputs": [],
   "source": []
  },
  {
   "cell_type": "code",
   "execution_count": null,
   "metadata": {},
   "outputs": [],
   "source": []
  },
  {
   "cell_type": "code",
   "execution_count": null,
   "metadata": {},
   "outputs": [],
   "source": []
  },
  {
   "cell_type": "code",
   "execution_count": null,
   "metadata": {},
   "outputs": [],
   "source": []
  },
  {
   "cell_type": "code",
   "execution_count": null,
   "metadata": {},
   "outputs": [],
   "source": []
  },
  {
   "cell_type": "code",
   "execution_count": null,
   "metadata": {},
   "outputs": [],
   "source": []
  },
  {
   "cell_type": "code",
   "execution_count": null,
   "metadata": {},
   "outputs": [],
   "source": [
    "'''\n",
    "TODOs:\n",
    "1. Make and analyse the dataset\n",
    "2. Figure out how the batches would work in the model.\n",
    "3. Train well\n",
    "\n",
    "'''"
   ]
  },
  {
   "cell_type": "code",
   "execution_count": null,
   "metadata": {},
   "outputs": [],
   "source": []
  },
  {
   "cell_type": "code",
   "execution_count": null,
   "metadata": {},
   "outputs": [],
   "source": []
  },
  {
   "cell_type": "code",
   "execution_count": null,
   "metadata": {},
   "outputs": [],
   "source": []
  },
  {
   "cell_type": "code",
   "execution_count": null,
   "metadata": {},
   "outputs": [],
   "source": []
  },
  {
   "cell_type": "code",
   "execution_count": null,
   "metadata": {},
   "outputs": [],
   "source": []
  },
  {
   "cell_type": "code",
   "execution_count": null,
   "metadata": {},
   "outputs": [],
   "source": []
  },
  {
   "cell_type": "code",
   "execution_count": null,
   "metadata": {},
   "outputs": [],
   "source": []
  },
  {
   "cell_type": "code",
   "execution_count": null,
   "metadata": {},
   "outputs": [],
   "source": []
  },
  {
   "cell_type": "code",
   "execution_count": null,
   "metadata": {},
   "outputs": [],
   "source": []
  },
  {
   "cell_type": "code",
   "execution_count": null,
   "metadata": {},
   "outputs": [],
   "source": []
  },
  {
   "cell_type": "code",
   "execution_count": null,
   "metadata": {},
   "outputs": [],
   "source": []
  },
  {
   "cell_type": "code",
   "execution_count": null,
   "metadata": {},
   "outputs": [],
   "source": []
  },
  {
   "cell_type": "code",
   "execution_count": null,
   "metadata": {},
   "outputs": [],
   "source": []
  },
  {
   "cell_type": "code",
   "execution_count": null,
   "metadata": {},
   "outputs": [],
   "source": []
  },
  {
   "cell_type": "code",
   "execution_count": null,
   "metadata": {},
   "outputs": [],
   "source": []
  },
  {
   "cell_type": "code",
   "execution_count": null,
   "metadata": {},
   "outputs": [],
   "source": []
  },
  {
   "cell_type": "code",
   "execution_count": null,
   "metadata": {},
   "outputs": [],
   "source": []
  },
  {
   "cell_type": "code",
   "execution_count": null,
   "metadata": {},
   "outputs": [],
   "source": []
  },
  {
   "cell_type": "code",
   "execution_count": null,
   "metadata": {},
   "outputs": [],
   "source": []
  },
  {
   "cell_type": "code",
   "execution_count": null,
   "metadata": {},
   "outputs": [],
   "source": []
  },
  {
   "cell_type": "code",
   "execution_count": null,
   "metadata": {},
   "outputs": [],
   "source": []
  }
 ],
 "metadata": {
  "kernelspec": {
   "display_name": "Python 3",
   "language": "python",
   "name": "python3"
  },
  "language_info": {
   "codemirror_mode": {
    "name": "ipython",
    "version": 3
   },
   "file_extension": ".py",
   "mimetype": "text/x-python",
   "name": "python",
   "nbconvert_exporter": "python",
   "pygments_lexer": "ipython3",
   "version": "3.8.5"
  }
 },
 "nbformat": 4,
 "nbformat_minor": 4
}
