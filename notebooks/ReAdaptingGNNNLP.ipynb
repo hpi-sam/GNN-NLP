{
 "cells": [
  {
   "cell_type": "code",
   "execution_count": 1,
   "metadata": {},
   "outputs": [],
   "source": [
    "import os\n",
    "import random\n",
    "import numpy as np\n",
    "import pandas as pd\n",
    "import string\n",
    "import re\n",
    "from itertools import chain\n",
    "from collections import OrderedDict\n",
    "from matplotlib import pyplot as plt\n",
    "from sklearn.feature_extraction.text import CountVectorizer\n",
    "import seaborn as sns"
   ]
  },
  {
   "cell_type": "code",
   "execution_count": 2,
   "metadata": {},
   "outputs": [],
   "source": [
    "import spacy\n",
    "nlp = spacy.load('en_core_web_md')"
   ]
  },
  {
   "cell_type": "code",
   "execution_count": 3,
   "metadata": {
    "colab": {
     "base_uri": "https://localhost:8080/",
     "height": 521
    },
    "id": "MlFlxfL5dgn2",
    "outputId": "108697ae-6753-4b06-8876-3fc740148246"
   },
   "outputs": [],
   "source": [
    "import torch\n",
    "import torch.nn as nn\n",
    "import torch.nn.functional as F"
   ]
  },
  {
   "cell_type": "code",
   "execution_count": 4,
   "metadata": {
    "colab": {
     "base_uri": "https://localhost:8080/",
     "height": 521
    },
    "id": "MlFlxfL5dgn2",
    "outputId": "108697ae-6753-4b06-8876-3fc740148246"
   },
   "outputs": [],
   "source": [
    "import torch_geometric.nn as pyg_nn\n",
    "import torch_geometric.utils as pyg_utils"
   ]
  },
  {
   "cell_type": "code",
   "execution_count": 5,
   "metadata": {
    "colab": {
     "base_uri": "https://localhost:8080/",
     "height": 521
    },
    "id": "MlFlxfL5dgn2",
    "outputId": "108697ae-6753-4b06-8876-3fc740148246"
   },
   "outputs": [],
   "source": [
    "import time\n",
    "from datetime import datetime"
   ]
  },
  {
   "cell_type": "code",
   "execution_count": 6,
   "metadata": {
    "colab": {
     "base_uri": "https://localhost:8080/",
     "height": 521
    },
    "id": "MlFlxfL5dgn2",
    "outputId": "108697ae-6753-4b06-8876-3fc740148246"
   },
   "outputs": [],
   "source": [
    "import networkx as nx\n",
    "import numpy as np\n",
    "import torch\n",
    "import torch.optim as optim"
   ]
  },
  {
   "cell_type": "code",
   "execution_count": 7,
   "metadata": {
    "colab": {
     "base_uri": "https://localhost:8080/",
     "height": 521
    },
    "id": "MlFlxfL5dgn2",
    "outputId": "108697ae-6753-4b06-8876-3fc740148246"
   },
   "outputs": [],
   "source": [
    "from torch_geometric.datasets import TUDataset\n",
    "from torch_geometric.datasets import Planetoid\n",
    "from torch_geometric.data import DataLoader\n",
    "from torch_geometric.data import Data\n",
    "from torch_geometric.data import InMemoryDataset\n",
    "from torch_geometric.data import Dataset\n",
    "import torch_geometric.transforms as T\n",
    "from torch_geometric import utils"
   ]
  },
  {
   "cell_type": "code",
   "execution_count": 8,
   "metadata": {
    "colab": {
     "base_uri": "https://localhost:8080/",
     "height": 521
    },
    "id": "MlFlxfL5dgn2",
    "outputId": "108697ae-6753-4b06-8876-3fc740148246"
   },
   "outputs": [],
   "source": [
    "from torch.utils.tensorboard import SummaryWriter\n",
    "from sklearn.manifold import TSNE\n",
    "from sklearn.metrics import classification_report\n",
    "import matplotlib.pyplot as plt"
   ]
  },
  {
   "cell_type": "code",
   "execution_count": 9,
   "metadata": {},
   "outputs": [],
   "source": [
    "%load_ext memory_profiler"
   ]
  },
  {
   "cell_type": "code",
   "execution_count": 10,
   "metadata": {},
   "outputs": [],
   "source": [
    "import fasttext as ft"
   ]
  },
  {
   "cell_type": "code",
   "execution_count": 11,
   "metadata": {},
   "outputs": [
    {
     "name": "stderr",
     "output_type": "stream",
     "text": [
      "Warning : `load_model` does not return WordVectorModel or SupervisedModel any more, but a `FastText` object which is very similar.\n"
     ]
    }
   ],
   "source": [
    "ft_model = ft.load_model('../models/fil9SkipGram.bin')"
   ]
  },
  {
   "cell_type": "code",
   "execution_count": 12,
   "metadata": {},
   "outputs": [],
   "source": [
    "from sklearn.feature_extraction.text import ENGLISH_STOP_WORDS\n",
    "stops = ENGLISH_STOP_WORDS.union({'new', 'line'})\n",
    "signs = string.punctuation + '“' + '’' + '”' + '*'\n",
    "punct_translator = str.maketrans('', '', signs)"
   ]
  },
  {
   "cell_type": "code",
   "execution_count": 13,
   "metadata": {},
   "outputs": [],
   "source": [
    "from PyDictionary import PyDictionary\n",
    "pydict = PyDictionary()"
   ]
  },
  {
   "cell_type": "code",
   "execution_count": 14,
   "metadata": {},
   "outputs": [],
   "source": [
    "datalist = torch.load('../data/kp5DataList30-01-21.pt')"
   ]
  },
  {
   "cell_type": "code",
   "execution_count": 15,
   "metadata": {},
   "outputs": [],
   "source": [
    "datalist2 = torch.load('../data/LH2DataList21-03-21.pt')"
   ]
  },
  {
   "cell_type": "code",
   "execution_count": 16,
   "metadata": {},
   "outputs": [
    {
     "data": {
      "text/plain": [
       "(1877, 2220, 4097)"
      ]
     },
     "execution_count": 16,
     "metadata": {},
     "output_type": "execute_result"
    }
   ],
   "source": [
    "len(datalist), len(datalist2), 1877+2220"
   ]
  },
  {
   "cell_type": "code",
   "execution_count": 17,
   "metadata": {},
   "outputs": [],
   "source": [
    "def get_ngrams(x):\n",
    "    ngrams = dict()\n",
    "    #print(x.words)\n",
    "    words = x.words[:-1]\n",
    "    #print(words)\n",
    "    ngrams[1] = words\n",
    "    ngrams[2] = [words[i:i+2] for i in range(len(words)-1)]\n",
    "    ngrams[3] = [words[i:i+3] for i in range(len(words)-2)]\n",
    "    \n",
    "    return ngrams"
   ]
  },
  {
   "cell_type": "code",
   "execution_count": 18,
   "metadata": {},
   "outputs": [],
   "source": [
    "#datalist[:2], datalist2[:2]"
   ]
  },
  {
   "cell_type": "code",
   "execution_count": 19,
   "metadata": {},
   "outputs": [
    {
     "name": "stdout",
     "output_type": "stream",
     "text": [
      "(1877, 1)\n"
     ]
    }
   ],
   "source": [
    "df = pd.DataFrame([[i] for i in datalist], columns=['data_object'])\n",
    "print(df.shape)\n",
    "#df['ngrams'] = df.loc[:, 'data_object'].apply(get_ngrams)\n",
    "df['ngrams'] = df.loc[:, 'data_object'].apply(lambda x: x.words[:-1])"
   ]
  },
  {
   "cell_type": "code",
   "execution_count": 20,
   "metadata": {},
   "outputs": [],
   "source": [
    "df2 = pd.DataFrame([[i] for i in datalist2], columns=['data_object'])\n",
    "#print(df2.shape)\n",
    "#df['ngrams'] = df.loc[:, 'data_object'].apply(get_ngrams)\n",
    "df2['ngrams'] = df2.loc[:, 'data_object'].apply(lambda x: x.words[:-1])"
   ]
  },
  {
   "cell_type": "code",
   "execution_count": 21,
   "metadata": {},
   "outputs": [],
   "source": [
    "#df['clean_text'] = df.loc[:, 'data_object'].apply(lambda x: x.words[:-1])\n",
    "df['clean_text'] = df.loc[:, 'data_object'].apply(lambda x: ' '.join(x.words[:-1]))"
   ]
  },
  {
   "cell_type": "code",
   "execution_count": 22,
   "metadata": {},
   "outputs": [],
   "source": [
    "#df['clean_text'] = df.loc[:, 'data_object'].apply(lambda x: x.words[:-1])\n",
    "df2['clean_text'] = df2.loc[:, 'data_object'].apply(lambda x: ' '.join(x.words[:-1]))"
   ]
  },
  {
   "cell_type": "code",
   "execution_count": 23,
   "metadata": {},
   "outputs": [
    {
     "data": {
      "text/html": [
       "<div>\n",
       "<style scoped>\n",
       "    .dataframe tbody tr th:only-of-type {\n",
       "        vertical-align: middle;\n",
       "    }\n",
       "\n",
       "    .dataframe tbody tr th {\n",
       "        vertical-align: top;\n",
       "    }\n",
       "\n",
       "    .dataframe thead th {\n",
       "        text-align: right;\n",
       "    }\n",
       "</style>\n",
       "<table border=\"1\" class=\"dataframe\">\n",
       "  <thead>\n",
       "    <tr style=\"text-align: right;\">\n",
       "      <th></th>\n",
       "      <th>data_object</th>\n",
       "      <th>ngrams</th>\n",
       "      <th>clean_text</th>\n",
       "    </tr>\n",
       "  </thead>\n",
       "  <tbody>\n",
       "    <tr>\n",
       "      <th>0</th>\n",
       "      <td>[(a_left, [tensor([1., 0., 0., 0., 0., 0., 0.,...</td>\n",
       "      <td>[crowdsourcing, a, better, gmail, presentation...</td>\n",
       "      <td>crowdsourcing a better gmail presentation slid...</td>\n",
       "    </tr>\n",
       "  </tbody>\n",
       "</table>\n",
       "</div>"
      ],
      "text/plain": [
       "                                         data_object  \\\n",
       "0  [(a_left, [tensor([1., 0., 0., 0., 0., 0., 0.,...   \n",
       "\n",
       "                                              ngrams  \\\n",
       "0  [crowdsourcing, a, better, gmail, presentation...   \n",
       "\n",
       "                                          clean_text  \n",
       "0  crowdsourcing a better gmail presentation slid...  "
      ]
     },
     "execution_count": 23,
     "metadata": {},
     "output_type": "execute_result"
    }
   ],
   "source": [
    "df.head(1)"
   ]
  },
  {
   "cell_type": "code",
   "execution_count": 24,
   "metadata": {},
   "outputs": [
    {
     "data": {
      "text/html": [
       "<div>\n",
       "<style scoped>\n",
       "    .dataframe tbody tr th:only-of-type {\n",
       "        vertical-align: middle;\n",
       "    }\n",
       "\n",
       "    .dataframe tbody tr th {\n",
       "        vertical-align: top;\n",
       "    }\n",
       "\n",
       "    .dataframe thead th {\n",
       "        text-align: right;\n",
       "    }\n",
       "</style>\n",
       "<table border=\"1\" class=\"dataframe\">\n",
       "  <thead>\n",
       "    <tr style=\"text-align: right;\">\n",
       "      <th></th>\n",
       "      <th>data_object</th>\n",
       "      <th>ngrams</th>\n",
       "      <th>clean_text</th>\n",
       "    </tr>\n",
       "  </thead>\n",
       "  <tbody>\n",
       "    <tr>\n",
       "      <th>0</th>\n",
       "      <td>[(a_left, [tensor([1., 0., 0., 0., 0., 0., 0.,...</td>\n",
       "      <td>[16, google39s, new, priority, inbox, feature,...</td>\n",
       "      <td>16 google39s new priority inbox feature not on...</td>\n",
       "    </tr>\n",
       "  </tbody>\n",
       "</table>\n",
       "</div>"
      ],
      "text/plain": [
       "                                         data_object  \\\n",
       "0  [(a_left, [tensor([1., 0., 0., 0., 0., 0., 0.,...   \n",
       "\n",
       "                                              ngrams  \\\n",
       "0  [16, google39s, new, priority, inbox, feature,...   \n",
       "\n",
       "                                          clean_text  \n",
       "0  16 google39s new priority inbox feature not on...  "
      ]
     },
     "execution_count": 24,
     "metadata": {},
     "output_type": "execute_result"
    }
   ],
   "source": [
    "df2.head(1)"
   ]
  },
  {
   "cell_type": "code",
   "execution_count": 25,
   "metadata": {},
   "outputs": [],
   "source": [
    "class Labeler:\n",
    "    \n",
    "    def __init__(self, row):\n",
    "        row = row.values\n",
    "        self.labels = row[0].labels\n",
    "        self.ngrams = {key: row[1][key].copy() for key in row[1]}\n",
    "        self.text = row[2]\n",
    "        self.labeled = []\n",
    "\n",
    "    def label_from_dict(self, label):\n",
    "        if len(label) == 2:\n",
    "            word = self.ngrams[1][label[0]]\n",
    "        elif len(label) > 2:\n",
    "            word = ' '.join([self.text[i] for i in label[:-1]])\n",
    "        self.labeled.append((word, 1))    \n",
    "    \n",
    "    def clean_unlabeled(self, array: list):\n",
    "        targets = list(zip(*self.labeled))[0]\n",
    "        labels = []\n",
    "        for item in array:\n",
    "            if item[0] not in targets:\n",
    "                word = item[0].split()\n",
    "                if (word[0] not in stops) and (word[-1] not in stops):\n",
    "                    labels.append(item)\n",
    "        return labels\n",
    "        \n",
    "    def label_ngrams(self):\n",
    "        for label in self.labels:\n",
    "            self.label_from_dict(label)\n",
    "        unlabeled = list(chain.from_iterable(self.ngrams.values()))\n",
    "        unlabeled = [(' '.join(x), 0) if isinstance(x, list) else (x, 0)\n",
    "                     for x in unlabeled]\n",
    "        array = self.clean_unlabeled(unlabeled)\n",
    "        self.labeled.extend(array)\n",
    "        return self.labeled\n",
    "    \n",
    "\n",
    "def label_words(x):\n",
    "\n",
    "    labels = list(chain.from_iterable(x.labels))\n",
    "    words = x.words[:-1]\n",
    "    \n",
    "    labeled_words = [(words[i], 1) for i in labels if i != len(words)]\n",
    "    positives = list(zip(*labeled_words))[0]\n",
    "    #import pdb;pdb.set_trace()\n",
    "    negatives = list({(w, 0) for w in words \n",
    "                      if (w not in positives) and (w not in stops)})\n",
    "    labeled_words = list(set(labeled_words))\n",
    "    labeled_words.extend(negatives)\n",
    "    return labeled_words\n",
    "    \n"
   ]
  },
  {
   "cell_type": "code",
   "execution_count": 26,
   "metadata": {},
   "outputs": [
    {
     "name": "stdout",
     "output_type": "stream",
     "text": [
      "Automatic pdb calling has been turned ON\n"
     ]
    }
   ],
   "source": [
    "%pdb on\n",
    "df['word_labels'] = df.loc[:, 'data_object'].apply(label_words)"
   ]
  },
  {
   "cell_type": "code",
   "execution_count": 27,
   "metadata": {},
   "outputs": [],
   "source": [
    "df2['word_labels'] = df2.loc[:, 'data_object'].apply(label_words)"
   ]
  },
  {
   "cell_type": "code",
   "execution_count": 28,
   "metadata": {},
   "outputs": [
    {
     "name": "stdout",
     "output_type": "stream",
     "text": [
      "Automatic pdb calling has been turned OFF\n"
     ]
    }
   ],
   "source": [
    "%pdb off"
   ]
  },
  {
   "cell_type": "code",
   "execution_count": 28,
   "metadata": {},
   "outputs": [],
   "source": [
    "df2['len'] = df2.loc[:, 'ngrams'].apply(lambda x: len(x))"
   ]
  },
  {
   "cell_type": "code",
   "execution_count": 173,
   "metadata": {},
   "outputs": [],
   "source": [
    "df['len'] = df.loc[:, 'ngrams'].apply(lambda x: len(x))"
   ]
  },
  {
   "cell_type": "code",
   "execution_count": 141,
   "metadata": {},
   "outputs": [
    {
     "data": {
      "image/png": "[encoded data removed]",
      "text/plain": [
       "<Figure size 432x288 with 1 Axes>"
      ]
     },
     "metadata": {
      "needs_background": "light"
     },
     "output_type": "display_data"
    }
   ],
   "source": [
    "fig, ax = plt.subplots()\n",
    "df['len'].plot.kde(ax=ax)\n",
    "df2['len'].plot.kde(ax=ax, alpha=0.7)\n",
    "plt.legend(['DF', 'DF2'])\n",
    "plt.title('Articles length distribution');"
   ]
  },
  {
   "cell_type": "code",
   "execution_count": 142,
   "metadata": {},
   "outputs": [
    {
     "data": {
      "image/png": "[encoded data removed]",
      "text/plain": [
       "<Figure size 432x288 with 1 Axes>"
      ]
     },
     "metadata": {
      "needs_background": "light"
     },
     "output_type": "display_data"
    }
   ],
   "source": [
    "pd.concat([df['len'], df2['len']]).plot.kde();"
   ]
  },
  {
   "cell_type": "code",
   "execution_count": 31,
   "metadata": {},
   "outputs": [
    {
     "data": {
      "text/plain": [
       "((1586, 5), 0)"
      ]
     },
     "execution_count": 31,
     "metadata": {},
     "output_type": "execute_result"
    }
   ],
   "source": [
    "vt = df2.loc[df2['len'] < 40].copy()\n",
    "vt = vt.sample(frac=1.)\n",
    "vt.shape, vt['clean_text'].duplicated().sum()"
   ]
  },
  {
   "cell_type": "code",
   "execution_count": 32,
   "metadata": {},
   "outputs": [],
   "source": [
    "size = 300\n",
    "vt = vt.reset_index(drop=True)\n",
    "valid_id = np.random.choice(vt.index, size=size)\n",
    "test_id = np.setdiff1d(vt.index, valid_id)[:size]"
   ]
  },
  {
   "cell_type": "code",
   "execution_count": 33,
   "metadata": {},
   "outputs": [],
   "source": [
    "valid = vt.loc[valid_id]\n",
    "test = vt.loc[test_id]"
   ]
  },
  {
   "cell_type": "markdown",
   "metadata": {},
   "source": [
    "### Oversampling inspired by GraphSMOTE"
   ]
  },
  {
   "cell_type": "code",
   "execution_count": 146,
   "metadata": {},
   "outputs": [],
   "source": [
    "#%%writefile memscript.py\n",
    "skipwords = {'cookies', 'united', 'todotxt',\n",
    "                 'amazon', 'water', 'diy', 'george',\n",
    "                 'henry'}\n",
    "def clean_words(labeled_words):\n",
    "    \n",
    "    return [item for item in labeled_words \n",
    "            if (item[0] not in stops) and (not item[0].isnumeric())]\n",
    "\n",
    "def oversample(labeled_words, min_add_size=2):\n",
    "\n",
    "    #import pdb;pdb.set_trace()\n",
    "    items = clean_words(labeled_words)\n",
    "    \n",
    "    #pos = [i[0] for i in clean_words \n",
    "    #       if (i[1] == 1) and (i[0] not in skipwords)]\n",
    "    #if len(pos) == 0: return ''\n",
    "    #neg_size = (len(clean_words) - len(pos))\n",
    "    #add_size = 1\n",
    "    #if len(pos) < neg_size:\n",
    "    #    add_size = (len(clean_words) - 2*len(pos))//len(pos)\n",
    "    #return [(i, add_size) for i in pos]\n",
    "    \n",
    "    positives = [i[0] for i in items if i[1] == 1]\n",
    "    if len(positives) == 0:\n",
    "        return ''\n",
    "        #import pdb;pdb.set_trace()\n",
    "        #kps = []\n",
    "        #print(items)\n",
    "        #in_ = ''\n",
    "        #while in_ != 'q':\n",
    "        #    kp = input('Enter an index of a keyword: ')\n",
    "        #    kps.append(int(kp))\n",
    "        #    in_ = input('Would you like to quit?')\n",
    "        #positives = [items[k][0] for k in kps]\n",
    "    add_size = max((len(items) - 2*len(positives))//len(positives), 0)\n",
    "    if add_size != 0:\n",
    "        for kw in positives:\n",
    "            if kw not in skipwords:\n",
    "                synonyms = pydict.synonym(kw)\n",
    "                if synonyms:\n",
    "                    nns = synonyms[:min(add_size, len(synonyms))]\n",
    "                else:\n",
    "                    nns = ft_model.get_nearest_neighbors(kw, k=add_size)\n",
    "                    nns = list(zip(*nns))[1]                \n",
    "                items.extend([(n, 1) for n in nns])\n",
    "                del nns\n",
    "    #del neighbours\n",
    "    return items"
   ]
  },
  {
   "cell_type": "code",
   "execution_count": 174,
   "metadata": {},
   "outputs": [],
   "source": [
    "df = df.reset_index(drop=True)"
   ]
  },
  {
   "cell_type": "code",
   "execution_count": 33,
   "metadata": {},
   "outputs": [],
   "source": [
    "#from memscript import oversample"
   ]
  },
  {
   "cell_type": "code",
   "execution_count": 34,
   "metadata": {},
   "outputs": [],
   "source": [
    "#%mprun -T OversampleMprof2 -f oversample [oversample(x) for x in arr]"
   ]
  },
  {
   "cell_type": "code",
   "execution_count": 35,
   "metadata": {},
   "outputs": [
    {
     "name": "stdout",
     "output_type": "stream",
     "text": [
      "Automatic pdb calling has been turned ON\n"
     ]
    }
   ],
   "source": [
    "%pdb on"
   ]
  },
  {
   "cell_type": "code",
   "execution_count": 40,
   "metadata": {
    "collapsed": true,
    "jupyter": {
     "outputs_hidden": true
    }
   },
   "outputs": [
    {
     "name": "stdout",
     "output_type": "stream",
     "text": [
      "gmail has no Synonyms in the API\n",
      "airstrike has no Synonyms in the API\n",
      "cnn has no Synonyms in the API\n",
      "gmail has no Synonyms in the API\n",
      "iphones has no Synonyms in the API\n",
      "bittorrent has no Synonyms in the API\n",
      "singletasking has no Synonyms in the API\n",
      "firefox has no Synonyms in the API\n",
      "craigslist has no Synonyms in the API\n",
      "wakeonlan has no Synonyms in the API\n",
      "dvr has no Synonyms in the API\n",
      "favicons has no Synonyms in the API\n",
      "firefox has no Synonyms in the API\n",
      "prewindows has no Synonyms in the API\n",
      "gmails has no Synonyms in the API\n",
      "gmail has no Synonyms in the API\n",
      "ubuntu has no Synonyms in the API\n",
      "iphone has no Synonyms in the API\n",
      "iphonetolaptop has no Synonyms in the API\n",
      "boxee has no Synonyms in the API\n",
      "linux has no Synonyms in the API\n",
      "itunes has no Synonyms in the API\n",
      "itunes has no Synonyms in the API\n",
      "antivirus has no Synonyms in the API\n",
      "keyloggers has no Synonyms in the API\n",
      "wii has no Synonyms in the API\n",
      "mozy has no Synonyms in the API\n",
      "firefoxs has no Synonyms in the API\n",
      "gmail has no Synonyms in the API\n",
      "bittorrent has no Synonyms in the API\n",
      "blogging has no Synonyms in the API\n",
      "customization has no Synonyms in the API\n",
      "defragmenter has no Synonyms in the API\n",
      "defragmenter has no Synonyms in the API\n",
      "paperless has no Synonyms in the API\n",
      "dvr has no Synonyms in the API\n",
      "facebook has no Synonyms in the API\n",
      "gtd has no Synonyms in the API\n",
      "videosharing has no Synonyms in the API\n",
      "videosharing has no Synonyms in the API\n",
      "virtualdesktop has no Synonyms in the API\n",
      "virtualdesktop has no Synonyms in the API\n",
      "vpn has no Synonyms in the API\n",
      "facebook has no Synonyms in the API\n",
      "facebook has no Synonyms in the API\n",
      "aero has no Synonyms in the API\n",
      "linux has no Synonyms in the API\n",
      "xbmc has no Synonyms in the API\n",
      "boxee has no Synonyms in the API\n",
      "hackintosh has no Synonyms in the API\n",
      "xbox has no Synonyms in the API\n",
      "gmail has no Synonyms in the API\n",
      "choudhury has no Synonyms in the API\n",
      "boeing has no Synonyms in the API\n",
      "santanu has no Synonyms in the API\n",
      "chelsea has no Synonyms in the API\n",
      "loftus has no Synonyms in the API\n",
      "gmail has no Synonyms in the API\n",
      "chromemailer has no Synonyms in the API\n",
      "firefox has no Synonyms in the API\n",
      "utorrent has no Synonyms in the API\n",
      "bittorrent has no Synonyms in the API\n",
      "tightvnc has no Synonyms in the API\n",
      "audiobooks has no Synonyms in the API\n",
      "wep has no Synonyms in the API\n",
      "declutter has no Synonyms in the API\n",
      "mixtapeme has no Synonyms in the API\n",
      "gtd has no Synonyms in the API\n",
      "quicksilverforwindows has no Synonyms in the API\n",
      "declutter has no Synonyms in the API\n",
      "declutter has no Synonyms in the API\n",
      "declutter has no Synonyms in the API\n",
      "boxee has no Synonyms in the API\n",
      "firefox has no Synonyms in the API\n",
      "firefox has no Synonyms in the API\n",
      "gmail has no Synonyms in the API\n",
      "xbox has no Synonyms in the API\n",
      "antivirus has no Synonyms in the API\n",
      "bittorrent has no Synonyms in the API\n",
      "videora has no Synonyms in the API\n",
      "firefox has no Synonyms in the API\n",
      "antirsi has no Synonyms in the API\n",
      "firefox has no Synonyms in the API\n",
      "customizegoogle has no Synonyms in the API\n",
      "firefox has no Synonyms in the API\n",
      "firefox has no Synonyms in the API\n",
      "drm has no Synonyms in the API\n",
      "firefox has no Synonyms in the API\n",
      "firefox has no Synonyms in the API\n",
      "gdisk has no Synonyms in the API\n",
      "gmail has no Synonyms in the API\n",
      "gmail has no Synonyms in the API\n",
      "gtdgmail has no Synonyms in the API\n",
      "hamachix has no Synonyms in the API\n",
      "windowsmac has no Synonyms in the API\n",
      "ipodbackup has no Synonyms in the API\n",
      "itunes has no Synonyms in the API\n",
      "mozilla has no Synonyms in the API\n",
      "firefox has no Synonyms in the API\n",
      "firefox has no Synonyms in the API\n",
      "pearbudget has no Synonyms in the API\n",
      "firefox has no Synonyms in the API\n",
      "windowslinux has no Synonyms in the API\n",
      "greasemonkey has no Synonyms in the API\n",
      "firefox has no Synonyms in the API\n",
      "firefox has no Synonyms in the API\n",
      "videora has no Synonyms in the API\n",
      "virtuedesktops has no Synonyms in the API\n",
      "windowslinux has no Synonyms in the API\n",
      "windowsmac has no Synonyms in the API\n",
      "yamipod has no Synonyms in the API\n",
      "dropbox has no Synonyms in the API\n",
      "dropbox has no Synonyms in the API\n",
      "firefox has no Synonyms in the API\n",
      "firefoxs has no Synonyms in the API\n",
      "gmail has no Synonyms in the API\n",
      "firefox has no Synonyms in the API\n",
      "evernote has no Synonyms in the API\n",
      "journaling has no Synonyms in the API\n",
      "adblock has no Synonyms in the API\n",
      "tinyurls has no Synonyms in the API\n",
      "evernote has no Synonyms in the API\n",
      "facebook has no Synonyms in the API\n",
      "facebook has no Synonyms in the API\n",
      "facebook has no Synonyms in the API\n",
      "tivo has no Synonyms in the API\n",
      "firefox has no Synonyms in the API\n",
      "firefox has no Synonyms in the API\n",
      "firefox has no Synonyms in the API\n",
      "firefox has no Synonyms in the API\n",
      "firefox has no Synonyms in the API\n",
      "firefox has no Synonyms in the API\n",
      "firefox has no Synonyms in the API\n",
      "firefox has no Synonyms in the API\n",
      "firefox has no Synonyms in the API\n",
      "firefox has no Synonyms in the API\n",
      "firefox has no Synonyms in the API\n",
      "firefox has no Synonyms in the API\n",
      "firefox has no Synonyms in the API\n",
      "autocomplete has no Synonyms in the API\n",
      "firefox has no Synonyms in the API\n",
      "facebook has no Synonyms in the API\n",
      "ubuntu has no Synonyms in the API\n",
      "antivirus has no Synonyms in the API\n",
      "bittorrent has no Synonyms in the API\n",
      "bittorrent has no Synonyms in the API\n",
      "blogging has no Synonyms in the API\n",
      "defragmenters has no Synonyms in the API\n",
      "facebook has no Synonyms in the API\n",
      "gtd has no Synonyms in the API\n",
      "journaling has no Synonyms in the API\n",
      "gamepads has no Synonyms in the API\n",
      "photoprinting has no Synonyms in the API\n",
      "videosharing has no Synonyms in the API\n",
      "virtualdesktop has no Synonyms in the API\n",
      "vpn has no Synonyms in the API\n",
      "firefox has no Synonyms in the API\n",
      "anonymously has no Synonyms in the API\n",
      "flickr has no Synonyms in the API\n",
      "bachmann has no Synonyms in the API\n",
      "firefox has no Synonyms in the API\n",
      "iphones has no Synonyms in the API\n",
      "apps has no Synonyms in the API\n",
      "ssh has no Synonyms in the API\n",
      "youtube has no Synonyms in the API\n",
      "ddwrt has no Synonyms in the API\n",
      "jott has no Synonyms in the API\n",
      "iphones has no Synonyms in the API\n",
      "linux has no Synonyms in the API\n",
      "linux has no Synonyms in the API\n",
      "rockboxin has no Synonyms in the API\n",
      "gmail has no Synonyms in the API\n",
      "gmail has no Synonyms in the API\n",
      "gmail has no Synonyms in the API\n",
      "gmail has no Synonyms in the API\n",
      "gmail has no Synonyms in the API\n",
      "gmail has no Synonyms in the API\n",
      "gmail has no Synonyms in the API\n",
      "gmail has no Synonyms in the API\n",
      "gmail has no Synonyms in the API\n",
      "gmail has no Synonyms in the API\n",
      "gmail has no Synonyms in the API\n",
      "gmail has no Synonyms in the API\n",
      "gmail has no Synonyms in the API\n",
      "gmail has no Synonyms in the API\n",
      "gmail has no Synonyms in the API\n",
      "linux has no Synonyms in the API\n",
      "gmail has no Synonyms in the API\n",
      "iphone has no Synonyms in the API\n",
      "ios has no Synonyms in the API\n",
      "wii has no Synonyms in the API\n",
      "firefox has no Synonyms in the API\n",
      "vpn has no Synonyms in the API\n",
      "html5 has no Synonyms in the API\n",
      "paperless has no Synonyms in the API\n",
      "ifttt has no Synonyms in the API\n",
      "wii has no Synonyms in the API\n",
      "hackintosh has no Synonyms in the API\n",
      "hackintosh has no Synonyms in the API\n",
      "wep has no Synonyms in the API\n",
      "ios has no Synonyms in the API\n",
      "mcafee has no Synonyms in the API\n",
      "gmail has no Synonyms in the API\n",
      "facebook has no Synonyms in the API\n",
      "usenet has no Synonyms in the API\n",
      "ios has no Synonyms in the API\n",
      "linux has no Synonyms in the API\n",
      "ios has no Synonyms in the API\n",
      "ios has no Synonyms in the API\n",
      "vnc has no Synonyms in the API\n",
      "ios has no Synonyms in the API\n",
      "ssh has no Synonyms in the API\n",
      "hackintosh has no Synonyms in the API\n",
      "facebook has no Synonyms in the API\n",
      "facebook has no Synonyms in the API\n",
      "ios has no Synonyms in the API\n",
      "ios has no Synonyms in the API\n",
      "hamachi has no Synonyms in the API\n",
      "privoxy has no Synonyms in the API\n",
      "firefox has no Synonyms in the API\n",
      "ddwrt has no Synonyms in the API\n",
      "gmail has no Synonyms in the API\n",
      "dropbox has no Synonyms in the API\n",
      "facebooks has no Synonyms in the API\n",
      "gmail has no Synonyms in the API\n",
      "firefox has no Synonyms in the API\n",
      "doordash has no Synonyms in the API\n",
      "jailbreaking has no Synonyms in the API\n",
      "3g has no Synonyms in the API\n",
      "usb has no Synonyms in the API\n",
      "microsoft has no Synonyms in the API\n",
      "firefoxs has no Synonyms in the API\n",
      "greasemonkey has no Synonyms in the API\n",
      "iphone has no Synonyms in the API\n",
      "iphone has no Synonyms in the API\n",
      "iphone has no Synonyms in the API\n",
      "itunes has no Synonyms in the API\n",
      "freedland has no Synonyms in the API\n",
      "gmail has no Synonyms in the API\n",
      "gmail has no Synonyms in the API\n",
      "unclutterer has no Synonyms in the API\n",
      "crapware has no Synonyms in the API\n",
      "gmail has no Synonyms in the API\n",
      "lifehacker has no Synonyms in the API\n",
      "itunes has no Synonyms in the API\n",
      "wii has no Synonyms in the API\n",
      "lubuntu has no Synonyms in the API\n",
      "iphoneipod has no Synonyms in the API\n",
      "iphone has no Synonyms in the API\n",
      "firefoxs has no Synonyms in the API\n",
      "firefox has no Synonyms in the API\n",
      "taskbar has no Synonyms in the API\n",
      "blurays has no Synonyms in the API\n",
      "firefox has no Synonyms in the API\n",
      "vlc has no Synonyms in the API\n",
      "mcafee has no Synonyms in the API\n",
      "iphone has no Synonyms in the API\n",
      "microsofts has no Synonyms in the API\n",
      "gtd has no Synonyms in the API\n",
      "gtd has no Synonyms in the API\n",
      "ios has no Synonyms in the API\n",
      "linux has no Synonyms in the API\n",
      "mozilla has no Synonyms in the API\n",
      "mozilla has no Synonyms in the API\n",
      "grooveshark has no Synonyms in the API\n",
      "netflix has no Synonyms in the API\n",
      "vallone has no Synonyms in the API\n",
      "linux has no Synonyms in the API\n",
      "picasa has no Synonyms in the API\n",
      "peerblock has no Synonyms in the API\n",
      "picasa has no Synonyms in the API\n",
      "picasa has no Synonyms in the API\n",
      "windowslinux has no Synonyms in the API\n",
      "facebook has no Synonyms in the API\n",
      "wii has no Synonyms in the API\n",
      "multitasking has no Synonyms in the API\n",
      "plugins has no Synonyms in the API\n",
      "firefox has no Synonyms in the API\n",
      "linux has no Synonyms in the API\n",
      "tasker has no Synonyms in the API\n",
      "firefox has no Synonyms in the API\n",
      "firefox has no Synonyms in the API\n",
      "mp3s has no Synonyms in the API\n",
      "iphone has no Synonyms in the API\n",
      "itunes has no Synonyms in the API\n",
      "utorrents has no Synonyms in the API\n",
      "iphone has no Synonyms in the API\n",
      "linux has no Synonyms in the API\n",
      "linux has no Synonyms in the API\n",
      "iphone has no Synonyms in the API\n",
      "rsi has no Synonyms in the API\n",
      "linux has no Synonyms in the API\n",
      "soitec has no Synonyms in the API\n",
      "whitehouse has no Synonyms in the API\n",
      "screenshot has no Synonyms in the API\n",
      "firefox has no Synonyms in the API\n",
      "wifind has no Synonyms in the API\n",
      "tinyurl has no Synonyms in the API\n",
      "decluttering has no Synonyms in the API\n",
      "ubuntu has no Synonyms in the API\n",
      "firefox has no Synonyms in the API\n",
      "gmail has no Synonyms in the API\n",
      "iphone has no Synonyms in the API\n",
      "gmail has no Synonyms in the API\n",
      "wirelessly has no Synonyms in the API\n",
      "gmail has no Synonyms in the API\n",
      "xbox has no Synonyms in the API\n",
      "linux has no Synonyms in the API\n",
      "dvr has no Synonyms in the API\n",
      "itunes has no Synonyms in the API\n",
      "spotify has no Synonyms in the API\n",
      "spotify has no Synonyms in the API\n",
      "bittorrent has no Synonyms in the API\n",
      "dropbox has no Synonyms in the API\n",
      "sopapipa has no Synonyms in the API\n",
      "firefox has no Synonyms in the API\n",
      "firefox has no Synonyms in the API\n",
      "xbox has no Synonyms in the API\n",
      "netflix has no Synonyms in the API\n",
      "windowsmacmobile has no Synonyms in the API\n",
      "dropbox has no Synonyms in the API\n",
      "burnaware has no Synonyms in the API\n",
      "firefox has no Synonyms in the API\n",
      "winamp has no Synonyms in the API\n",
      "iphone has no Synonyms in the API\n",
      "craigslist has no Synonyms in the API\n",
      "linux has no Synonyms in the API\n",
      "phishing has no Synonyms in the API\n",
      "ubuntu has no Synonyms in the API\n",
      "itunes has no Synonyms in the API\n",
      "macos has no Synonyms in the API\n",
      "hackintosh has no Synonyms in the API\n",
      "iphone has no Synonyms in the API\n",
      "iphone has no Synonyms in the API\n",
      "firefox has no Synonyms in the API\n",
      "evernote has no Synonyms in the API\n",
      "moleskine has no Synonyms in the API\n",
      "linux has no Synonyms in the API\n",
      "memoryhungry has no Synonyms in the API\n",
      "firefox has no Synonyms in the API\n",
      "droid has no Synonyms in the API\n",
      "customization has no Synonyms in the API\n",
      "ios has no Synonyms in the API\n",
      "adblock has no Synonyms in the API\n",
      "tasker has no Synonyms in the API\n",
      "facebook has no Synonyms in the API\n",
      "craigslist has no Synonyms in the API\n",
      "bittorrent has no Synonyms in the API\n",
      "gmail has no Synonyms in the API\n",
      "declutter has no Synonyms in the API\n",
      "im has no Synonyms in the API\n",
      "trillian has no Synonyms in the API\n",
      "xbmc has no Synonyms in the API\n",
      "ikea has no Synonyms in the API\n",
      "linux has no Synonyms in the API\n",
      "nas4free has no Synonyms in the API\n",
      "autohotkey has no Synonyms in the API\n",
      "skydrive has no Synonyms in the API\n",
      "ddwrt has no Synonyms in the API\n",
      "xbox has no Synonyms in the API\n",
      "aboutconfig has no Synonyms in the API\n",
      "awesomebars has no Synonyms in the API\n",
      "adblock has no Synonyms in the API\n",
      "ultranewb has no Synonyms in the API\n",
      "iphone has no Synonyms in the API\n",
      "gmails has no Synonyms in the API\n",
      "gmails has no Synonyms in the API\n",
      "declutter has no Synonyms in the API\n",
      "decluttering has no Synonyms in the API\n",
      "xbox has no Synonyms in the API\n",
      "firefox has no Synonyms in the API\n",
      "bittorrent has no Synonyms in the API\n",
      "vlc has no Synonyms in the API\n",
      "evernote has no Synonyms in the API\n",
      "firefox has no Synonyms in the API\n",
      "bittorrent has no Synonyms in the API\n",
      "malware has no Synonyms in the API\n",
      "vpn has no Synonyms in the API\n",
      "barbara has no Synonyms in the API\n",
      "linux has no Synonyms in the API\n",
      "imap has no Synonyms in the API\n",
      "antivirus has no Synonyms in the API\n",
      "appbrain has no Synonyms in the API\n",
      "iphone has no Synonyms in the API\n",
      "winamp has no Synonyms in the API\n",
      "xp has no Synonyms in the API\n",
      "xbmc has no Synonyms in the API\n",
      "xbmc has no Synonyms in the API\n",
      "xbmc has no Synonyms in the API\n",
      "xbox has no Synonyms in the API\n",
      "xbmc has no Synonyms in the API\n",
      "xbmc has no Synonyms in the API\n",
      "xbox has no Synonyms in the API\n",
      "xmarks has no Synonyms in the API\n",
      "gmail has no Synonyms in the API\n",
      "inboxes has no Synonyms in the API\n",
      "facebook has no Synonyms in the API\n",
      "firefox has no Synonyms in the API\n",
      "gmail has no Synonyms in the API\n",
      "bittorrent has no Synonyms in the API\n",
      "bittorrent has no Synonyms in the API\n",
      "youtube has no Synonyms in the API\n",
      "nats has no Synonyms in the API\n",
      "CPU times: user 1min 41s, sys: 1.84 s, total: 1min 43s\n",
      "Wall time: 56min 15s\n"
     ]
    }
   ],
   "source": [
    "%time df['oversampled'] = df.loc[:, 'word_labels'].apply(oversample)"
   ]
  },
  {
   "cell_type": "code",
   "execution_count": 193,
   "metadata": {
    "collapsed": true,
    "jupyter": {
     "outputs_hidden": true
    }
   },
   "outputs": [
    {
     "name": "stdout",
     "output_type": "stream",
     "text": [
      "youtube has no Synonyms in the API\n",
      "greasemonkey has no Synonyms in the API\n",
      "hdtv39s has no Synonyms in the API\n",
      "windowsmac has no Synonyms in the API\n",
      "distractionfree has no Synonyms in the API\n",
      "mozilla39s has no Synonyms in the API\n",
      "firefox has no Synonyms in the API\n",
      "offline has no Synonyms in the API\n",
      "inboxes has no Synonyms in the API\n",
      "windowsmac has no Synonyms in the API\n",
      "itunes has no Synonyms in the API\n",
      "gmail has no Synonyms in the API\n",
      "gmail has no Synonyms in the API\n",
      "inbox has no Synonyms in the API\n",
      "ios has no Synonyms in the API\n",
      "itunes has no Synonyms in the API\n",
      "bittorrent has no Synonyms in the API\n",
      "windowsmaclinux has no Synonyms in the API\n",
      "drm has no Synonyms in the API\n",
      "apple39s has no Synonyms in the API\n",
      "iphone has no Synonyms in the API\n",
      "swype has no Synonyms in the API\n",
      "vista39s has no Synonyms in the API\n",
      "macworld has no Synonyms in the API\n",
      "iphoto has no Synonyms in the API\n",
      "lifehacker has no Synonyms in the API\n",
      "vpn has no Synonyms in the API\n",
      "gv has no Synonyms in the API\n",
      "faceoff has no Synonyms in the API\n",
      "lifehacker has no Synonyms in the API\n",
      "dvr has no Synonyms in the API\n",
      "firefox has no Synonyms in the API\n",
      "gmail has no Synonyms in the API\n",
      "facebook has no Synonyms in the API\n",
      "drm has no Synonyms in the API\n",
      "apple39s has no Synonyms in the API\n",
      "iphone has no Synonyms in the API\n",
      "phishing has no Synonyms in the API\n",
      "desktoptabletphone has no Synonyms in the API\n",
      "facebook has no Synonyms in the API\n",
      "gtd has no Synonyms in the API\n",
      "evernote has no Synonyms in the API\n",
      "firefox has no Synonyms in the API\n",
      "amazon39s has no Synonyms in the API\n",
      "ipodcompatible has no Synonyms in the API\n",
      "firefox has no Synonyms in the API\n",
      "hackintosh has no Synonyms in the API\n",
      "leopard39s has no Synonyms in the API\n",
      "gmail has no Synonyms in the API\n",
      "itunes has no Synonyms in the API\n",
      "gmail has no Synonyms in the API\n",
      "apps has no Synonyms in the API\n",
      "hackintosh has no Synonyms in the API\n",
      "leopard39s has no Synonyms in the API\n",
      "tasker has no Synonyms in the API\n",
      "linux has no Synonyms in the API\n",
      "itunes has no Synonyms in the API\n",
      "ipad has no Synonyms in the API\n",
      "iphone has no Synonyms in the API\n",
      "apps has no Synonyms in the API\n",
      "launchy has no Synonyms in the API\n",
      "mp3s has no Synonyms in the API\n",
      "itunes has no Synonyms in the API\n",
      "bloglines has no Synonyms in the API\n",
      "phishing has no Synonyms in the API\n",
      "xp has no Synonyms in the API\n",
      "ipodnova has no Synonyms in the API\n",
      "bittorrent has no Synonyms in the API\n",
      "itunes has no Synonyms in the API\n",
      "ios has no Synonyms in the API\n",
      "photoshop has no Synonyms in the API\n",
      "dropbox has no Synonyms in the API\n",
      "dropbox has no Synonyms in the API\n",
      "google39s has no Synonyms in the API\n",
      "inbox has no Synonyms in the API\n",
      "facebook has no Synonyms in the API\n",
      "2016quot has no Synonyms in the API\n",
      "declutter has no Synonyms in the API\n",
      "tasker has no Synonyms in the API\n",
      "arduino has no Synonyms in the API\n",
      "overclocking has no Synonyms in the API\n",
      "firefox has no Synonyms in the API\n",
      "vpn has no Synonyms in the API\n",
      "firefox has no Synonyms in the API\n",
      "pidgin39s has no Synonyms in the API\n",
      "apps has no Synonyms in the API\n",
      "hbo has no Synonyms in the API\n",
      "runkeeper has no Synonyms in the API\n",
      "iphone has no Synonyms in the API\n",
      "ios has no Synonyms in the API\n",
      "vista39s has no Synonyms in the API\n",
      "firefox has no Synonyms in the API\n",
      "gmail has no Synonyms in the API\n",
      "itunes has no Synonyms in the API\n",
      "gmail has no Synonyms in the API\n",
      "offline has no Synonyms in the API\n",
      "inbox has no Synonyms in the API\n",
      "desktoptabletphone has no Synonyms in the API\n",
      "iphone has no Synonyms in the API\n",
      "netflix has no Synonyms in the API\n",
      "gmail has no Synonyms in the API\n",
      "offline has no Synonyms in the API\n",
      "tasker has no Synonyms in the API\n",
      "firefox has no Synonyms in the API\n",
      "walletbased has no Synonyms in the API\n",
      "extensions—including has no Synonyms in the API\n",
      "inbox has no Synonyms in the API\n",
      "tasker has no Synonyms in the API\n",
      "wifind has no Synonyms in the API\n",
      "webapps has no Synonyms in the API\n",
      "facebook has no Synonyms in the API\n",
      "instagram has no Synonyms in the API\n",
      "macbook has no Synonyms in the API\n",
      "ssd has no Synonyms in the API\n",
      "vsco has no Synonyms in the API\n",
      "photoshop has no Synonyms in the API\n",
      "gv has no Synonyms in the API\n",
      "apple39s has no Synonyms in the API\n",
      "dropbox has no Synonyms in the API\n",
      "firefox has no Synonyms in the API\n",
      "tasker has no Synonyms in the API\n",
      "dropbox has no Synonyms in the API\n",
      "photoshop has no Synonyms in the API\n",
      "photoshop has no Synonyms in the API\n",
      "google39s has no Synonyms in the API\n",
      "autohotkey has no Synonyms in the API\n",
      "google39s has no Synonyms in the API\n",
      "dvr has no Synonyms in the API\n",
      "apps has no Synonyms in the API\n",
      "taskbar has no Synonyms in the API\n",
      "itunes has no Synonyms in the API\n",
      "739s has no Synonyms in the API\n",
      "usb has no Synonyms in the API\n",
      "usb has no Synonyms in the API\n",
      "firefox has no Synonyms in the API\n",
      "privacyplus has no Synonyms in the API\n",
      "cyanogenmod has no Synonyms in the API\n",
      "pomodoro has no Synonyms in the API\n",
      "firefox has no Synonyms in the API\n",
      "bittorrent39s has no Synonyms in the API\n",
      "speedreading has no Synonyms in the API\n",
      "poisoninglike has no Synonyms in the API\n",
      "earbuds has no Synonyms in the API\n",
      "macworld has no Synonyms in the API\n",
      "iphoto has no Synonyms in the API\n",
      "linux has no Synonyms in the API\n",
      "ipodcompatible has no Synonyms in the API\n",
      "iphone39s has no Synonyms in the API\n",
      "ebooks has no Synonyms in the API\n",
      "ereaders has no Synonyms in the API\n",
      "CPU times: user 51.4 s, sys: 818 ms, total: 52.2 s\n",
      "Wall time: 21min 28s\n"
     ]
    }
   ],
   "source": [
    "%time valid['oversampled'] = valid.loc[:, 'word_labels'].apply(oversample)"
   ]
  },
  {
   "cell_type": "code",
   "execution_count": 42,
   "metadata": {},
   "outputs": [],
   "source": [
    "df[['clean_text', 'word_labels', 'oversampled']].to_csv('../data/DFWithOversampledNodes.tsv', sep='\\t')"
   ]
  },
  {
   "cell_type": "code",
   "execution_count": 194,
   "metadata": {},
   "outputs": [],
   "source": [
    "valid[['clean_text', 'word_labels', 'oversampled']].to_csv('../data/ValidWithOversampledNodes.tsv', sep='\\t')"
   ]
  },
  {
   "cell_type": "code",
   "execution_count": 195,
   "metadata": {},
   "outputs": [],
   "source": [
    "#%pdb on\n",
    "#def label_nodes(x):\n",
    "#    lab = Labeler(x)\n",
    "#    return lab.label_ngrams()#\n",
    "\n",
    "#df['node_labels'] = df.apply(label_nodes, axis=1)"
   ]
  },
  {
   "cell_type": "code",
   "execution_count": 35,
   "metadata": {},
   "outputs": [
    {
     "name": "stdout",
     "output_type": "stream",
     "text": [
      "Automatic pdb calling has been turned OFF\n"
     ]
    }
   ],
   "source": [
    "%pdb off"
   ]
  },
  {
   "cell_type": "code",
   "execution_count": 43,
   "metadata": {},
   "outputs": [
    {
     "name": "stdout",
     "output_type": "stream",
     "text": [
      "[('gmail', 1), ('better', 1), ('presentation', 0), ('crowdsourcing', 0), ('slides', 0), ('notes', 0), ('netmail', 1), ('improved', 1), ('windows', 1), ('release', 0)]\n"
     ]
    },
    {
     "data": {
      "text/plain": [
       "(6422, 3743, 2249, 2176)"
      ]
     },
     "execution_count": 43,
     "metadata": {},
     "output_type": "execute_result"
    }
   ],
   "source": [
    "#def labels_length(x):\n",
    "#    lens = [len(i[0].split()) for i in x if i[1] == 1]\n",
    "#    return lens\n",
    "#\n",
    "#df['labels_length'] = df.loc[:, 'node_labels'].apply(labels_length)\n",
    "all_labels = list(chain.from_iterable(df['oversampled'].values.tolist()))\n",
    "print(all_labels[:10])\n",
    "labels_vocab = [i[0] for i in all_labels if i[1] == 1]\n",
    "neg_vocab = [i[0] for i in all_labels if (i[1] == 0) and (i[0] not in labels_vocab)]\n",
    "len(labels_vocab), len(neg_vocab), len(set(labels_vocab)), len(set(neg_vocab)),"
   ]
  },
  {
   "cell_type": "code",
   "execution_count": 29,
   "metadata": {},
   "outputs": [
    {
     "name": "stdout",
     "output_type": "stream",
     "text": [
      "[('better', 1), ('gmail', 1), ('slides', 0), ('crowdsourcing', 0), ('presentation', 0), ('notes', 0), ('windows', 1), ('operating', 0), ('release', 0), ('month', 0)]\n"
     ]
    },
    {
     "data": {
      "text/plain": [
       "(4355, 3963, 1272, 2295)"
      ]
     },
     "execution_count": 29,
     "metadata": {},
     "output_type": "execute_result"
    }
   ],
   "source": [
    "all_labels = list(chain.from_iterable(df['word_labels'].values.tolist()))\n",
    "print(all_labels[:10])\n",
    "labels_vocab = [i[0] for i in all_labels if i[1] == 1]\n",
    "neg_vocab = [i[0] for i in all_labels if (i[1] == 0) and (i[0] not in labels_vocab)]\n",
    "len(labels_vocab), len(neg_vocab), len(set(labels_vocab)), len(set(neg_vocab)),"
   ]
  },
  {
   "cell_type": "code",
   "execution_count": 197,
   "metadata": {},
   "outputs": [
    {
     "name": "stdout",
     "output_type": "stream",
     "text": [
      "[('youtube', 1), ('greasemonkey', 1), ('video', 1), ('firefox', 0), ('web', 0), ('great', 0), ('hq', 0), ('simple', 0), ('bring', 0), ('highquality', 0)]\n"
     ]
    },
    {
     "data": {
      "text/plain": [
       "(3495, 3553)"
      ]
     },
     "execution_count": 197,
     "metadata": {},
     "output_type": "execute_result"
    }
   ],
   "source": [
    "#def labels_length(x):\n",
    "#    lens = [len(i[0].split()) for i in x if i[1] == 1]\n",
    "#    return lens\n",
    "#\n",
    "#df['labels_length'] = df.loc[:, 'node_labels'].apply(labels_length)\n",
    "valid_all_labels = list(chain.from_iterable(valid['oversampled'].values.tolist()))\n",
    "print(valid_all_labels[:10])\n",
    "valid_labels_vocab = [i[0] for i in valid_all_labels if i[1] == 1]\n",
    "valid_neg_vocab = [i[0] for i in valid_all_labels if (i[1] == 0) and (i[0] not in valid_labels_vocab)]\n",
    "len(valid_labels_vocab), len(valid_neg_vocab)"
   ]
  },
  {
   "cell_type": "code",
   "execution_count": 34,
   "metadata": {},
   "outputs": [
    {
     "name": "stdout",
     "output_type": "stream",
     "text": [
      "[('gmails', 1), ('inbox', 1), ('knew', 0), ('phone', 0), ('wanted', 0), ('hopes', 0), ('feature', 0), ('smart', 0), ('just', 0), ('say', 0)]\n"
     ]
    },
    {
     "data": {
      "text/plain": [
       "(718, 3976)"
      ]
     },
     "execution_count": 34,
     "metadata": {},
     "output_type": "execute_result"
    }
   ],
   "source": [
    "valid_all_labels = list(chain.from_iterable(valid['word_labels'].values.tolist()))\n",
    "print(valid_all_labels[:10])\n",
    "valid_labels_vocab = [i[0] for i in valid_all_labels if i[1] == 1]\n",
    "valid_neg_vocab = [i[0] for i in valid_all_labels if (i[1] == 0) and (i[0] not in valid_labels_vocab)]\n",
    "len(valid_labels_vocab), len(valid_neg_vocab)"
   ]
  },
  {
   "cell_type": "code",
   "execution_count": 35,
   "metadata": {},
   "outputs": [
    {
     "name": "stdout",
     "output_type": "stream",
     "text": [
      "[('students', 1), ('prime', 1), ('amazon', 1), ('that39s', 0), ('hitting', 0), ('got', 0), ('summer', 0), ('50', 0), ('free', 0), ('right', 0)]\n"
     ]
    },
    {
     "data": {
      "text/plain": [
       "(720, 3847)"
      ]
     },
     "execution_count": 35,
     "metadata": {},
     "output_type": "execute_result"
    }
   ],
   "source": [
    "test_all_labels = list(chain.from_iterable(test['word_labels'].values.tolist()))\n",
    "print(test_all_labels[:10])\n",
    "test_labels_vocab = [i[0] for i in test_all_labels if i[1] == 1]\n",
    "test_neg_vocab = [i[0] for i in test_all_labels if (i[1] == 0) and (i[0] not in test_labels_vocab)]\n",
    "len(test_labels_vocab), len(test_neg_vocab)"
   ]
  },
  {
   "cell_type": "code",
   "execution_count": 36,
   "metadata": {},
   "outputs": [
    {
     "data": {
      "text/html": [
       "<div>\n",
       "<style scoped>\n",
       "    .dataframe tbody tr th:only-of-type {\n",
       "        vertical-align: middle;\n",
       "    }\n",
       "\n",
       "    .dataframe tbody tr th {\n",
       "        vertical-align: top;\n",
       "    }\n",
       "\n",
       "    .dataframe thead th {\n",
       "        text-align: right;\n",
       "    }\n",
       "</style>\n",
       "<table border=\"1\" class=\"dataframe\">\n",
       "  <thead>\n",
       "    <tr style=\"text-align: right;\">\n",
       "      <th></th>\n",
       "      <th>data_object</th>\n",
       "      <th>ngrams</th>\n",
       "      <th>clean_text</th>\n",
       "      <th>word_labels</th>\n",
       "    </tr>\n",
       "  </thead>\n",
       "  <tbody>\n",
       "    <tr>\n",
       "      <th>0</th>\n",
       "      <td>[(a_left, [tensor([1., 0., 0., 0., 0., 0., 0.,...</td>\n",
       "      <td>[crowdsourcing, a, better, gmail, presentation...</td>\n",
       "      <td>crowdsourcing a better gmail presentation slid...</td>\n",
       "      <td>[(better, 1), (gmail, 1), (slides, 0), (crowds...</td>\n",
       "    </tr>\n",
       "  </tbody>\n",
       "</table>\n",
       "</div>"
      ],
      "text/plain": [
       "                                         data_object  \\\n",
       "0  [(a_left, [tensor([1., 0., 0., 0., 0., 0., 0.,...   \n",
       "\n",
       "                                              ngrams  \\\n",
       "0  [crowdsourcing, a, better, gmail, presentation...   \n",
       "\n",
       "                                          clean_text  \\\n",
       "0  crowdsourcing a better gmail presentation slid...   \n",
       "\n",
       "                                         word_labels  \n",
       "0  [(better, 1), (gmail, 1), (slides, 0), (crowds...  "
      ]
     },
     "execution_count": 36,
     "metadata": {},
     "output_type": "execute_result"
    }
   ],
   "source": [
    "#df = df.drop('word_labeles', axis=1)\n",
    "df.head(1)"
   ]
  },
  {
   "cell_type": "code",
   "execution_count": 37,
   "metadata": {},
   "outputs": [
    {
     "data": {
      "text/plain": [
       "array([Data(a_left=[9, 9], a_right=[9, 9], kp=[1], labels=[1], words=[9], x=[9, 100]),\n",
       "       list(['windows', 'cloud', 'operating', 'system', 'release', 'within', 'a', 'month']),\n",
       "       'windows cloud operating system release within a month',\n",
       "       list([('windows', 1), ('operating', 0), ('release', 0), ('month', 0), ('cloud', 0)])],\n",
       "      dtype=object)"
      ]
     },
     "execution_count": 37,
     "metadata": {},
     "output_type": "execute_result"
    }
   ],
   "source": [
    "df.values[1]"
   ]
  },
  {
   "cell_type": "code",
   "execution_count": 190,
   "metadata": {},
   "outputs": [
    {
     "data": {
      "text/plain": [
       "[(0.9388589859008789, 'decwindows'),\n",
       " (0.9296922087669373, 'wxwindows'),\n",
       " (0.9087926745414734, 'openwindows'),\n",
       " (0.878109335899353, 'mswindows'),\n",
       " (0.8450111746788025, 'windowing'),\n",
       " (0.8273171782493591, 'microsoft'),\n",
       " (0.8271705508232117, 'desktops'),\n",
       " (0.8232629895210266, 'desktop'),\n",
       " (0.8161827921867371, 'macintoshes'),\n",
       " (0.7975568771362305, 'windowtext')]"
      ]
     },
     "execution_count": 190,
     "metadata": {},
     "output_type": "execute_result"
    }
   ],
   "source": [
    "ft_model.get_nearest_neighbors('windows')"
   ]
  },
  {
   "cell_type": "code",
   "execution_count": 40,
   "metadata": {},
   "outputs": [
    {
     "data": {
      "text/html": [
       "<div>\n",
       "<style scoped>\n",
       "    .dataframe tbody tr th:only-of-type {\n",
       "        vertical-align: middle;\n",
       "    }\n",
       "\n",
       "    .dataframe tbody tr th {\n",
       "        vertical-align: top;\n",
       "    }\n",
       "\n",
       "    .dataframe thead th {\n",
       "        text-align: right;\n",
       "    }\n",
       "</style>\n",
       "<table border=\"1\" class=\"dataframe\">\n",
       "  <thead>\n",
       "    <tr style=\"text-align: right;\">\n",
       "      <th></th>\n",
       "      <th>data_object</th>\n",
       "      <th>ngrams</th>\n",
       "      <th>clean_text</th>\n",
       "      <th>word_labels</th>\n",
       "      <th>len</th>\n",
       "    </tr>\n",
       "  </thead>\n",
       "  <tbody>\n",
       "    <tr>\n",
       "      <th>0</th>\n",
       "      <td>[(a_left, [tensor([1., 0., 0., 0., 0., 0., 0.,...</td>\n",
       "      <td>[16, google39s, new, priority, inbox, feature,...</td>\n",
       "      <td>16 google39s new priority inbox feature not on...</td>\n",
       "      <td>[(google39s, 1), (inbox, 1), (feature, 0), (re...</td>\n",
       "      <td>26</td>\n",
       "    </tr>\n",
       "  </tbody>\n",
       "</table>\n",
       "</div>"
      ],
      "text/plain": [
       "                                         data_object  \\\n",
       "0  [(a_left, [tensor([1., 0., 0., 0., 0., 0., 0.,...   \n",
       "\n",
       "                                              ngrams  \\\n",
       "0  [16, google39s, new, priority, inbox, feature,...   \n",
       "\n",
       "                                          clean_text  \\\n",
       "0  16 google39s new priority inbox feature not on...   \n",
       "\n",
       "                                         word_labels  len  \n",
       "0  [(google39s, 1), (inbox, 1), (feature, 0), (re...   26  "
      ]
     },
     "execution_count": 40,
     "metadata": {},
     "output_type": "execute_result"
    }
   ],
   "source": [
    "#df = df.drop('word_labeles', axis=1)\n",
    "df2.head(1)"
   ]
  },
  {
   "cell_type": "code",
   "execution_count": 177,
   "metadata": {},
   "outputs": [
    {
     "data": {
      "text/plain": [
       "(10947, 4104)"
      ]
     },
     "execution_count": 177,
     "metadata": {},
     "output_type": "execute_result"
    }
   ],
   "source": [
    "len(all_labels), len(set(all_labels))"
   ]
  },
  {
   "cell_type": "markdown",
   "metadata": {},
   "source": [
    "### Word frequencies"
   ]
  },
  {
   "cell_type": "code",
   "execution_count": 178,
   "metadata": {},
   "outputs": [],
   "source": [
    "pos_voc = pd.Series(labels_vocab)\n",
    "neg_voc = pd.Series(neg_vocab)"
   ]
  },
  {
   "cell_type": "code",
   "execution_count": 179,
   "metadata": {},
   "outputs": [
    {
     "data": {
      "image/png": "[encoded data removed]",
      "text/plain": [
       "<Figure size 1440x288 with 1 Axes>"
      ]
     },
     "metadata": {
      "needs_background": "light"
     },
     "output_type": "display_data"
    }
   ],
   "source": [
    "pos_voc.value_counts().nlargest(50).plot(kind='bar', figsize=(20, 4),\n",
    "                                         fontsize=20,\n",
    "                                         title='Absolute frequency of positive kw');"
   ]
  },
  {
   "cell_type": "code",
   "execution_count": 180,
   "metadata": {},
   "outputs": [
    {
     "data": {
      "image/png": "[encoded data removed]",
      "text/plain": [
       "<Figure size 1440x288 with 1 Axes>"
      ]
     },
     "metadata": {
      "needs_background": "light"
     },
     "output_type": "display_data"
    }
   ],
   "source": [
    "neg_voc.value_counts().nlargest(50).plot(kind='bar', figsize=(20, 4),\n",
    "                                         fontsize=20,\n",
    "                                         color='green',\n",
    "                                         title='Absolute frequency of negative kw');"
   ]
  },
  {
   "cell_type": "code",
   "execution_count": 181,
   "metadata": {},
   "outputs": [
    {
     "name": "stdout",
     "output_type": "stream",
     "text": [
      "CPU times: user 23.5 s, sys: 199 ms, total: 23.7 s\n",
      "Wall time: 26.1 s\n"
     ]
    }
   ],
   "source": [
    "%%time\n",
    "#labeled_vocabulary = df.explode('node_labels')['node_labels'].unique().tolist()\n",
    "#vocabulary = list({i[0] for i in labeled_vocabulary})\n",
    "#len(labeled_vocabulary), len(vocabulary)\n",
    "\n",
    "'''Computing POS-tags for the words'''\n",
    "def compute_pos(x):\n",
    "    doc = nlp(x)\n",
    "    return {t.text: t.pos_ for t in doc}\n",
    "\n",
    "def compute_dep(x):\n",
    "    doc = nlp(x)\n",
    "    return {t.text: t.dep_ for t in doc}\n",
    "\n",
    "df['pos'] = df.loc[:, 'clean_text'].apply(compute_pos)\n",
    "df['dep'] = df.loc[:, 'clean_text'].apply(compute_dep)"
   ]
  },
  {
   "cell_type": "code",
   "execution_count": 46,
   "metadata": {},
   "outputs": [],
   "source": [
    "valid['pos'] = valid.loc[:, 'clean_text'].apply(compute_pos)\n",
    "valid['dep'] = valid.loc[:, 'clean_text'].apply(compute_dep)"
   ]
  },
  {
   "cell_type": "code",
   "execution_count": 47,
   "metadata": {},
   "outputs": [],
   "source": [
    "test['pos'] = test.loc[:, 'clean_text'].apply(compute_pos)\n",
    "test['dep'] = test.loc[:, 'clean_text'].apply(compute_dep)"
   ]
  },
  {
   "cell_type": "code",
   "execution_count": 184,
   "metadata": {
    "collapsed": true,
    "jupyter": {
     "outputs_hidden": true
    }
   },
   "outputs": [
    {
     "name": "stdout",
     "output_type": "stream",
     "text": [
      "Automatic pdb calling has been turned ON\n",
      "im not found in dict_keys(['chat', 'across', 'i', 'm', 'platforms', 'with', 'pidgin', '24'])\n",
      "workspace—and not found in dict_keys(['clean', 'your', 'workspace', '—', 'and', 'keep', 'it', 'that', 'way'])\n",
      "iphone—the not found in dict_keys(['forget', 'the', 'iphone', '—', 'ipod', 'touch', 'is', 'good', 'enough'])\n",
      "im not found in dict_keys(['how', 'to', 'add', 'facebook', 'chat', 'your', 'i', 'm', 'client'])\n",
      "3g not found in dict_keys(['improve', '3', 'g', 'modem', 'reception', 'with', 'a', 'kitchen', 'pot'])\n",
      "im not found in dict_keys(['meebo', 'adds', 'video', 'and', 'voice', 'chat', 'to', 'webbased', 'i', 'm'])\n",
      "iphone—only not found in dict_keys(['runkeeper', 'is', 'like', 'nike', 'for', 'your', 'iphone', '—', 'only', 'better'])\n",
      "4g not found in dict_keys(['simple', 'root', 'unlocks', 'htc', 'evo', '4', 'g', 'in', 'one', 'click'])\n",
      "im not found in dict_keys(['trillian', '5', 'goes', 'completely', 'free', 'brings', 'crossplatform', 'chat', 'log', 'and', 'i', 'm', 'syncing', 'to', 'all', 'devices'])\n",
      "im not found in dict_keys(['what', 'your', 'i', 'm', 'status', 'says', 'about', 'you'])\n",
      "shouldnt not found in dict_keys(['android', 'task', 'killers', 'explained', 'what', 'they', 'do', 'and', 'why', 'you', 'should', 'nt', 'use', 'them'])\n",
      "theres not found in dict_keys(['as', 'negotiations', 'on', 'this', 'years', 'federal', 'budget', 'continue', 'the', 'tea', 'party', 'yesterday', 'rallied', 'lawn', 'near', 'capitol', 'aiming', 'to', 'buck', 'up', 'republicans', 'stand', 'firm', 'for', 'deep', 'cuts', 'there', 's', 'one', 'week', 'go', 'until', 'another', 'potential', 'government', 'shutdown'])\n",
      "rome—the not found in dict_keys(['by', 'christopher', 'emsden', 'rome', '—', 'the', 'italian', 'government', 'may', 'set', 'up', 'a', 'financial', 'vehicle', 'enabling', 'state', 'to', 'make', 'targeted', 'strategic', 'investments', 'protect', 'companies', 'from', 'foreign', 'takeovers', 'cabinet', 'thursday', 'authorized', 'economy', 'minister', 'giulio', 'tremonti'])\n",
      "material—now not found in dict_keys(['caught', 'downloading', 'copyrighted', 'material', '—', 'now', 'what'])\n",
      "dont not found in dict_keys(['checkbox', 'syndrome', 'why', 'we', 'spend', 'money', 'on', 'things', 'do', 'nt', 'need'])\n",
      "£8million not found in dict_keys(['chelsea', 'are', 'expected', 'to', 'join', 'the', 'chase', 'this', 'summer', 'for', 'qpr', 'forward', 'adel', 'taarabt', '21yearold', 'morocco', 'international', 'who', 'has', 'two', 'years', 'left', 'on', 'his', 'contract', 'looks', 'set', 'leave', 'loftus', 'road', 'in', 'even', 'if', 'rangers', 'win', 'promotion', 'premier', 'league', 'and', 'would', 'command', 'an', 'asking', 'price', 'of', 'around', '£', '8million'])\n",
      "whos not found in dict_keys(['collusion', 'for', 'chrome', 'shows', 'you', 'who', 's', 'tracking', 'on', 'the', 'web', 'as', 'browse'])\n",
      "whos not found in dict_keys(['collusion', 'for', 'firefox', 'shows', 'you', 'who', 's', 'tracking', 'on', 'the', 'web', 'in', 'real', 'time'])\n",
      "dont not found in dict_keys(['do', 'nt', 'like', 'google', 'calendars', 'new', 'look', 'heres', 'how', 'to', 'turn', 'it', 'off'])\n",
      "isnt not found in dict_keys(['everything', 'you', 'can', 'do', 'with', 'adblock', 'plus', 'that', 'is', 'nt', 'just', 'blocking', 'ads'])\n",
      "wont not found in dict_keys(['five', 'extensions', 'you', 'wo', 'nt', 'need', 'with', 'firefox', '3'])\n",
      "hes not found in dict_keys(['forget', 'michelle', 'bachmann', 'judge', 'roy', 'moore', 'now', 'says', 'he', 's', 'going', 'to', 'run', 'for', 'the', 'republican', 'nomination', 'president', 'next', 'year', 'almost', 'makes', 'look', 'like', 'socrates', 'by', 'comparison', 'this', 'is', 'be', 'so', 'much', 'fun'])\n",
      "25gb not found in dict_keys(['get', '25', 'gb', 'of', 'free', 'online', 'storage', 'at', 'streamload', 'mediamax'])\n",
      "5gb not found in dict_keys(['get', '5', 'gb', 'of', 'free', 'online', 'storage', 'from', 'skydrive'])\n",
      "theyre not found in dict_keys(['how', 'to', 'automatically', 'download', 'movies', 'as', 'soon', 'they', 're', 'released', 'with', 'couchpotato'])\n",
      "theyve not found in dict_keys(['how', 'to', 'automatically', 'download', 'tv', 'shows', 'as', 'soon', 'they', 've', 'aired', 'or', 'turn', 'your', 'pc', 'into', 'a', 'tivo'])\n",
      "2g not found in dict_keys(['how', 'to', 'jailbreak', 'your', '2', 'g', 'apple', 'tv'])\n",
      "dont not found in dict_keys(['how', 'to', 'monitor', 'your', 'internet', 'usage', 'so', 'you', 'do', 'nt', 'exceed', 'data', 'cap'])\n",
      "14g not found in dict_keys(['hustler', 'fined', '14', 'g', 'for', 'not', 'using', 'condoms', 'in', 'porn'])\n",
      "wont not found in dict_keys(['illinois', 'prosecutor', 'wo', 'nt', 'pursue', 'death', 'penalty', 'for', 'slaying', 'suspect'])\n",
      "doesnt not found in dict_keys(['in', 'the', 'words', 'of', 'a', 'prominent', 'israeli', 'obama', 'doctrine', 'he', 'only', 'goes', 'if', 'entire', 'world', 'including', 'arab', 'league', 'wants', 'him', 'to', 'go', 'bush', 'except', 'british', 'does', 'nt', 'want'])\n",
      "doesnt not found in dict_keys(['jimenez', 'does', 'nt', 'have', 'his', 'usual', 'stuff'])\n",
      "thats not found in dict_keys(['like', 'many', 'other', 'states', 'arizona', 'is', 'facing', 'a', 'crippling', 'budget', 'deficit', 'and', 'its', 'trying', 'to', 'balance', 'the', 'books', 'by', 'shifting', 'some', 'large', 'costs', 'county', 'local', 'governments', 'that', 's', 'not', 'going', 'over', 'so', 'well', 'on', 'level'])\n",
      "youre not found in dict_keys(['longurl', 'expands', 'short', 'urls', 'so', 'you', 'know', 'where', 're', 'going'])\n",
      "dont not found in dict_keys(['nine', 'great', 'uses', 'for', 'private', 'browsing', 'that', 'do', 'nt', 'involve', 'porn'])\n",
      "isnt not found in dict_keys(['not', 'being', 'a', 'troll', 'is', 'nt', 'enough', 'handbook', 'to', 'model', 'internet', 'citizen'])\n",
      "id not found in dict_keys(['office', 'supplies', 'fetish', 'power', 'plug', 'i', 'd', 'labels'])\n",
      "youre not found in dict_keys(['poor', 'attention', 'span', 'no', 'you', 're', 'just', 'multitasking'])\n",
      "whats not found in dict_keys(['reader', 'poll', 'what', 's', 'your', 'browsers', 'homepage'])\n",
      "weve not found in dict_keys(['reqall', 'rover', 'is', 'a', 'locationbased', 'personal', 'assistant', 'for', 'android', 'and', 'we', 've', 'got', 'beta', 'invites'])\n",
      "dont not found in dict_keys(['six', 'ways', 'you', 'should', 'be', 'using', 'twitter', 'that', 'do', 'nt', 'involve', 'breakfast'])\n",
      "weve not found in dict_keys(['spotify', 'is', 'the', 'best', 'desktop', 'music', 'player', 'we', 've', 'ever', 'used'])\n",
      "2gb not found in dict_keys(['sugarsync', 'offers', '2', 'gb', 'of', 'free', 'windowsmacmobile', 'syncing'])\n",
      "youve not found in dict_keys(['the', 'best', 'mouse', 'you', 've', 'ever', 'had'])\n",
      "dont not found in dict_keys(['the', 'features', 'that', 'matter', 'on', 'your', 'next', 'router', 'and', 'ones', 'do', 'nt'])\n",
      "havent not found in dict_keys(['the', 'great', 'suspender', 'suspends', 'memoryhungry', 'chrome', 'tabs', 'you', 'have', 'nt', 'used', 'lately'])\n",
      "doesnt not found in dict_keys(['top', '10', 'awesome', 'android', 'features', 'that', 'the', 'iphone', 'does', 'nt', 'have'])\n",
      "25gb not found in dict_keys(['turn', 'live', 'skydrive', 'into', 'a', '25', 'gb', 'dropboxstyle', 'sync', 'space'])\n",
      "isnt not found in dict_keys(['use', 'the', 'this', 'is', 'nt', 'my', 'stuff', 'approach', 'for', 'radical', 'decluttering'])\n",
      "doesnt not found in dict_keys(['what', 'do', 'not', 'track', 'does', 'nt'])\n",
      "whats not found in dict_keys(['what', 's', 'all', 'the', 'fuss', 'about', 'evernote', 'should', 'i', 'be', 'using', 'it'])\n",
      "whats not found in dict_keys(['what', 's', 'good', 'and', 'free', 'in', 'the', 'itunes', 'app', 'store'])\n",
      "whats not found in dict_keys(['what', 's', 'happening', 'with', 'the', 'ios', '7', 'jailbreak', 'should', 'i', 'use', 'it'])\n",
      "whats not found in dict_keys(['what', 's', 'new', 'and', 'awesome', 'in', 'firefox', '4'])\n",
      "whats not found in dict_keys(['what', 's', 'new', 'in', 'the', 'windows', '7', 'release', 'candidate'])\n",
      "whats not found in dict_keys(['what', 's', 'the', 'best', 'bittorrent', 'client'])\n",
      "whats not found in dict_keys(['what', 's', 'the', 'best', 'desktop', 'music', 'player'])\n",
      "whats not found in dict_keys(['what', 's', 'the', 'best', 'desktop', 'video', 'player'])\n",
      "whats not found in dict_keys(['what', 's', 'the', 'best', 'home', 'wifi', 'router'])\n",
      "whats not found in dict_keys(['what', 's', 'the', 'best', 'mouse', 'you', 've', 'ever', 'used'])\n",
      "youve not found in dict_keys(['what', 's', 'the', 'best', 'mouse', 'you', 've', 'ever', 'used'])\n",
      "whats not found in dict_keys(['what', 's', 'the', 'best', 'streaming', 'music', 'service'])\n",
      "whats not found in dict_keys(['what', 's', 'the', 'best', 'text', 'editor'])\n",
      "whats not found in dict_keys(['what', 's', 'your', 'favorite', 'notebook'])\n",
      "whats not found in dict_keys(['what', 's', 'the', 'difference', 'between', 'viruses', 'trojans', 'worms', 'and', 'other', 'malware'])\n",
      "doesnt not found in dict_keys(['when', 'it', 'does', 'nt', 'pay', 'to', 'be', 'googles', 'guinea', 'pig'])\n",
      "doesnt not found in dict_keys(['who', 'sen', 'barbara', 'boxer', 'dcalif', 'what', 'said', 'the', 'democratic', 'party', 'does', 'nt', 'rule', 'with', 'an', 'iron', 'fist', 'were', 'not', 'some', 'kind', 'of', 'tea', 'where', 'people', 'march', 'to', 'a', 'cup', 'why', 'its', 'dim', 'anybody', 'understand', 'such', 'gibberish', 'cure', 'oh', 'go', 'read', 'alice', 'in', 'wonderland', 'again', 'advertisement'])\n",
      "isnt not found in dict_keys(['why', 'google', 'is', 'nt', 'making', 'you', 'stupid'])\n",
      "ive not found in dict_keys(['why', 'i', 've', 'stopped', 'relying', 'on', 'online', 'reviews', 'for', 'everything', 'buy'])\n",
      "ive not found in dict_keys(['why', 'i', 've', 'switched', 'from', 'chrome', 'to', 'firefox', '4'])\n",
      "youre not found in dict_keys(['why', 'you', 're', 'better', 'off', 'avoiding', 'the', 'iphone'])\n",
      "whats not found in dict_keys(['windows', '7', 'videos', 'preview', 'what', 's', 'to', 'come'])\n",
      "youve not found in dict_keys(['your', 'facebook', 'has', 'two', 'inboxes', 'and', 'you', 've', 'probably', 'missed', 'messages', 'from', 'the', 'second'])\n",
      "doesnt not found in dict_keys(['new', 'intro', 'video', 'with', 'players', 'working', 'out', 'ok', 'ben', 'goessling', 'wrote', 'from', 'nats', 'park', 'on', 'thursday', 'finally', 'a', 'nationals', 'television', 'ad', 'that', 'does', 'nt', 'suck', 'enquirer', 'when', 'version', 'of', 'this', 'workout', 'footage', 'made', 'it', 'personally', 'i', 'm', 'all', 'in', 'favor', 'videos', 'just', 'wish', 'one', 'had', 'matt', 'stairs', 'running'])\n",
      "im not found in dict_keys(['chat', 'across', 'i', 'm', 'platforms', 'with', 'pidgin', '24'])\n",
      "workspace—and not found in dict_keys(['clean', 'your', 'workspace', '—', 'and', 'keep', 'it', 'that', 'way'])\n",
      "iphone—the not found in dict_keys(['forget', 'the', 'iphone', '—', 'ipod', 'touch', 'is', 'good', 'enough'])\n",
      "im not found in dict_keys(['how', 'to', 'add', 'facebook', 'chat', 'your', 'i', 'm', 'client'])\n",
      "3g not found in dict_keys(['improve', '3', 'g', 'modem', 'reception', 'with', 'a', 'kitchen', 'pot'])\n",
      "im not found in dict_keys(['meebo', 'adds', 'video', 'and', 'voice', 'chat', 'to', 'webbased', 'i', 'm'])\n",
      "iphone—only not found in dict_keys(['runkeeper', 'is', 'like', 'nike', 'for', 'your', 'iphone', '—', 'only', 'better'])\n",
      "4g not found in dict_keys(['simple', 'root', 'unlocks', 'htc', 'evo', '4', 'g', 'in', 'one', 'click'])\n",
      "im not found in dict_keys(['trillian', '5', 'goes', 'completely', 'free', 'brings', 'crossplatform', 'chat', 'log', 'and', 'i', 'm', 'syncing', 'to', 'all', 'devices'])\n",
      "im not found in dict_keys(['what', 'your', 'i', 'm', 'status', 'says', 'about', 'you'])\n",
      "shouldnt not found in dict_keys(['android', 'task', 'killers', 'explained', 'what', 'they', 'do', 'and', 'why', 'you', 'should', 'nt', 'use', 'them'])\n",
      "theres not found in dict_keys(['as', 'negotiations', 'on', 'this', 'years', 'federal', 'budget', 'continue', 'the', 'tea', 'party', 'yesterday', 'rallied', 'lawn', 'near', 'capitol', 'aiming', 'to', 'buck', 'up', 'republicans', 'stand', 'firm', 'for', 'deep', 'cuts', 'there', 's', 'one', 'week', 'go', 'until', 'another', 'potential', 'government', 'shutdown'])\n",
      "rome—the not found in dict_keys(['by', 'christopher', 'emsden', 'rome', '—', 'the', 'italian', 'government', 'may', 'set', 'up', 'a', 'financial', 'vehicle', 'enabling', 'state', 'to', 'make', 'targeted', 'strategic', 'investments', 'protect', 'companies', 'from', 'foreign', 'takeovers', 'cabinet', 'thursday', 'authorized', 'economy', 'minister', 'giulio', 'tremonti'])\n",
      "material—now not found in dict_keys(['caught', 'downloading', 'copyrighted', 'material', '—', 'now', 'what'])\n",
      "dont not found in dict_keys(['checkbox', 'syndrome', 'why', 'we', 'spend', 'money', 'on', 'things', 'do', 'nt', 'need'])\n",
      "£8million not found in dict_keys(['chelsea', 'are', 'expected', 'to', 'join', 'the', 'chase', 'this', 'summer', 'for', 'qpr', 'forward', 'adel', 'taarabt', '21yearold', 'morocco', 'international', 'who', 'has', 'two', 'years', 'left', 'on', 'his', 'contract', 'looks', 'set', 'leave', 'loftus', 'road', 'in', 'even', 'if', 'rangers', 'win', 'promotion', 'premier', 'league', 'and', 'would', 'command', 'an', 'asking', 'price', 'of', 'around', '£', '8million'])\n",
      "whos not found in dict_keys(['collusion', 'for', 'chrome', 'shows', 'you', 'who', 's', 'tracking', 'on', 'the', 'web', 'as', 'browse'])\n",
      "whos not found in dict_keys(['collusion', 'for', 'firefox', 'shows', 'you', 'who', 's', 'tracking', 'on', 'the', 'web', 'in', 'real', 'time'])\n",
      "dont not found in dict_keys(['do', 'nt', 'like', 'google', 'calendars', 'new', 'look', 'heres', 'how', 'to', 'turn', 'it', 'off'])\n",
      "isnt not found in dict_keys(['everything', 'you', 'can', 'do', 'with', 'adblock', 'plus', 'that', 'is', 'nt', 'just', 'blocking', 'ads'])\n",
      "wont not found in dict_keys(['five', 'extensions', 'you', 'wo', 'nt', 'need', 'with', 'firefox', '3'])\n",
      "hes not found in dict_keys(['forget', 'michelle', 'bachmann', 'judge', 'roy', 'moore', 'now', 'says', 'he', 's', 'going', 'to', 'run', 'for', 'the', 'republican', 'nomination', 'president', 'next', 'year', 'almost', 'makes', 'look', 'like', 'socrates', 'by', 'comparison', 'this', 'is', 'be', 'so', 'much', 'fun'])\n",
      "25gb not found in dict_keys(['get', '25', 'gb', 'of', 'free', 'online', 'storage', 'at', 'streamload', 'mediamax'])\n",
      "5gb not found in dict_keys(['get', '5', 'gb', 'of', 'free', 'online', 'storage', 'from', 'skydrive'])\n",
      "theyre not found in dict_keys(['how', 'to', 'automatically', 'download', 'movies', 'as', 'soon', 'they', 're', 'released', 'with', 'couchpotato'])\n",
      "theyve not found in dict_keys(['how', 'to', 'automatically', 'download', 'tv', 'shows', 'as', 'soon', 'they', 've', 'aired', 'or', 'turn', 'your', 'pc', 'into', 'a', 'tivo'])\n",
      "2g not found in dict_keys(['how', 'to', 'jailbreak', 'your', '2', 'g', 'apple', 'tv'])\n",
      "dont not found in dict_keys(['how', 'to', 'monitor', 'your', 'internet', 'usage', 'so', 'you', 'do', 'nt', 'exceed', 'data', 'cap'])\n",
      "14g not found in dict_keys(['hustler', 'fined', '14', 'g', 'for', 'not', 'using', 'condoms', 'in', 'porn'])\n",
      "wont not found in dict_keys(['illinois', 'prosecutor', 'wo', 'nt', 'pursue', 'death', 'penalty', 'for', 'slaying', 'suspect'])\n",
      "doesnt not found in dict_keys(['in', 'the', 'words', 'of', 'a', 'prominent', 'israeli', 'obama', 'doctrine', 'he', 'only', 'goes', 'if', 'entire', 'world', 'including', 'arab', 'league', 'wants', 'him', 'to', 'go', 'bush', 'except', 'british', 'does', 'nt', 'want'])\n",
      "doesnt not found in dict_keys(['jimenez', 'does', 'nt', 'have', 'his', 'usual', 'stuff'])\n",
      "thats not found in dict_keys(['like', 'many', 'other', 'states', 'arizona', 'is', 'facing', 'a', 'crippling', 'budget', 'deficit', 'and', 'its', 'trying', 'to', 'balance', 'the', 'books', 'by', 'shifting', 'some', 'large', 'costs', 'county', 'local', 'governments', 'that', 's', 'not', 'going', 'over', 'so', 'well', 'on', 'level'])\n",
      "youre not found in dict_keys(['longurl', 'expands', 'short', 'urls', 'so', 'you', 'know', 'where', 're', 'going'])\n",
      "dont not found in dict_keys(['nine', 'great', 'uses', 'for', 'private', 'browsing', 'that', 'do', 'nt', 'involve', 'porn'])\n",
      "isnt not found in dict_keys(['not', 'being', 'a', 'troll', 'is', 'nt', 'enough', 'handbook', 'to', 'model', 'internet', 'citizen'])\n",
      "id not found in dict_keys(['office', 'supplies', 'fetish', 'power', 'plug', 'i', 'd', 'labels'])\n",
      "youre not found in dict_keys(['poor', 'attention', 'span', 'no', 'you', 're', 'just', 'multitasking'])\n",
      "whats not found in dict_keys(['reader', 'poll', 'what', 's', 'your', 'browsers', 'homepage'])\n",
      "weve not found in dict_keys(['reqall', 'rover', 'is', 'a', 'locationbased', 'personal', 'assistant', 'for', 'android', 'and', 'we', 've', 'got', 'beta', 'invites'])\n",
      "dont not found in dict_keys(['six', 'ways', 'you', 'should', 'be', 'using', 'twitter', 'that', 'do', 'nt', 'involve', 'breakfast'])\n",
      "weve not found in dict_keys(['spotify', 'is', 'the', 'best', 'desktop', 'music', 'player', 'we', 've', 'ever', 'used'])\n",
      "2gb not found in dict_keys(['sugarsync', 'offers', '2', 'gb', 'of', 'free', 'windowsmacmobile', 'syncing'])\n",
      "youve not found in dict_keys(['the', 'best', 'mouse', 'you', 've', 'ever', 'had'])\n",
      "dont not found in dict_keys(['the', 'features', 'that', 'matter', 'on', 'your', 'next', 'router', 'and', 'ones', 'do', 'nt'])\n",
      "havent not found in dict_keys(['the', 'great', 'suspender', 'suspends', 'memoryhungry', 'chrome', 'tabs', 'you', 'have', 'nt', 'used', 'lately'])\n",
      "doesnt not found in dict_keys(['top', '10', 'awesome', 'android', 'features', 'that', 'the', 'iphone', 'does', 'nt', 'have'])\n",
      "25gb not found in dict_keys(['turn', 'live', 'skydrive', 'into', 'a', '25', 'gb', 'dropboxstyle', 'sync', 'space'])\n",
      "isnt not found in dict_keys(['use', 'the', 'this', 'is', 'nt', 'my', 'stuff', 'approach', 'for', 'radical', 'decluttering'])\n",
      "doesnt not found in dict_keys(['what', 'do', 'not', 'track', 'does', 'nt'])\n",
      "whats not found in dict_keys(['what', 's', 'all', 'the', 'fuss', 'about', 'evernote', 'should', 'i', 'be', 'using', 'it'])\n",
      "whats not found in dict_keys(['what', 's', 'good', 'and', 'free', 'in', 'the', 'itunes', 'app', 'store'])\n",
      "whats not found in dict_keys(['what', 's', 'happening', 'with', 'the', 'ios', '7', 'jailbreak', 'should', 'i', 'use', 'it'])\n",
      "whats not found in dict_keys(['what', 's', 'new', 'and', 'awesome', 'in', 'firefox', '4'])\n",
      "whats not found in dict_keys(['what', 's', 'new', 'in', 'the', 'windows', '7', 'release', 'candidate'])\n",
      "whats not found in dict_keys(['what', 's', 'the', 'best', 'bittorrent', 'client'])\n",
      "whats not found in dict_keys(['what', 's', 'the', 'best', 'desktop', 'music', 'player'])\n",
      "whats not found in dict_keys(['what', 's', 'the', 'best', 'desktop', 'video', 'player'])\n",
      "whats not found in dict_keys(['what', 's', 'the', 'best', 'home', 'wifi', 'router'])\n",
      "whats not found in dict_keys(['what', 's', 'the', 'best', 'mouse', 'you', 've', 'ever', 'used'])\n",
      "youve not found in dict_keys(['what', 's', 'the', 'best', 'mouse', 'you', 've', 'ever', 'used'])\n",
      "whats not found in dict_keys(['what', 's', 'the', 'best', 'streaming', 'music', 'service'])\n",
      "whats not found in dict_keys(['what', 's', 'the', 'best', 'text', 'editor'])\n",
      "whats not found in dict_keys(['what', 's', 'your', 'favorite', 'notebook'])\n",
      "whats not found in dict_keys(['what', 's', 'the', 'difference', 'between', 'viruses', 'trojans', 'worms', 'and', 'other', 'malware'])\n",
      "doesnt not found in dict_keys(['when', 'it', 'does', 'nt', 'pay', 'to', 'be', 'googles', 'guinea', 'pig'])\n",
      "doesnt not found in dict_keys(['who', 'sen', 'barbara', 'boxer', 'dcalif', 'what', 'said', 'the', 'democratic', 'party', 'does', 'nt', 'rule', 'with', 'an', 'iron', 'fist', 'were', 'not', 'some', 'kind', 'of', 'tea', 'where', 'people', 'march', 'to', 'a', 'cup', 'why', 'its', 'dim', 'anybody', 'understand', 'such', 'gibberish', 'cure', 'oh', 'go', 'read', 'alice', 'in', 'wonderland', 'again', 'advertisement'])\n",
      "isnt not found in dict_keys(['why', 'google', 'is', 'nt', 'making', 'you', 'stupid'])\n",
      "ive not found in dict_keys(['why', 'i', 've', 'stopped', 'relying', 'on', 'online', 'reviews', 'for', 'everything', 'buy'])\n",
      "ive not found in dict_keys(['why', 'i', 've', 'switched', 'from', 'chrome', 'to', 'firefox', '4'])\n",
      "youre not found in dict_keys(['why', 'you', 're', 'better', 'off', 'avoiding', 'the', 'iphone'])\n",
      "whats not found in dict_keys(['windows', '7', 'videos', 'preview', 'what', 's', 'to', 'come'])\n",
      "youve not found in dict_keys(['your', 'facebook', 'has', 'two', 'inboxes', 'and', 'you', 've', 'probably', 'missed', 'messages', 'from', 'the', 'second'])\n",
      "doesnt not found in dict_keys(['new', 'intro', 'video', 'with', 'players', 'working', 'out', 'ok', 'ben', 'goessling', 'wrote', 'from', 'nats', 'park', 'on', 'thursday', 'finally', 'a', 'nationals', 'television', 'ad', 'that', 'does', 'nt', 'suck', 'enquirer', 'when', 'version', 'of', 'this', 'workout', 'footage', 'made', 'it', 'personally', 'i', 'm', 'all', 'in', 'favor', 'videos', 'just', 'wish', 'one', 'had', 'matt', 'stairs', 'running'])\n"
     ]
    }
   ],
   "source": [
    "%pdb on\n",
    "rows = df.values[:, 3:]\n",
    "def tags_by_class(label, dict_id, vocab):\n",
    "    tags = []\n",
    "    for row in rows:\n",
    "        for item in row[0]:\n",
    "            if (item[1] == label) and (item[0] in vocab):\n",
    "                try:\n",
    "                    tags.append(row[dict_id][item[0]])\n",
    "                except KeyError:\n",
    "                    print(item[0], 'not found in', row[dict_id].keys())\n",
    "    return tags\n",
    "\n",
    "label_pos = pd.Series(tags_by_class(1, 2, labels_vocab))\n",
    "neg_pos = pd.Series(tags_by_class(0, 2, neg_vocab))\n",
    "label_dep = pd.Series(tags_by_class(1, 3, labels_vocab))\n",
    "neg_dep = pd.Series(tags_by_class(0, 3, neg_vocab))"
   ]
  },
  {
   "cell_type": "code",
   "execution_count": 185,
   "metadata": {},
   "outputs": [
    {
     "data": {
      "text/plain": [
       "(4345, 3899, 4345, 3899)"
      ]
     },
     "execution_count": 185,
     "metadata": {},
     "output_type": "execute_result"
    }
   ],
   "source": [
    "len(label_pos), len(neg_pos), len(label_dep), len(neg_dep)"
   ]
  },
  {
   "cell_type": "markdown",
   "metadata": {},
   "source": [
    "### Tag frequencies"
   ]
  },
  {
   "cell_type": "code",
   "execution_count": 186,
   "metadata": {},
   "outputs": [
    {
     "data": {
      "image/png": "[encoded data removed]",
      "text/plain": [
       "<Figure size 432x288 with 1 Axes>"
      ]
     },
     "metadata": {
      "needs_background": "light"
     },
     "output_type": "display_data"
    }
   ],
   "source": [
    "fig, ax = plt.subplots()\n",
    "label_pos.value_counts(normalize=True).plot(kind='bar',\n",
    "                              title='POS-tags for nodes',\n",
    "                              ax=ax\n",
    "                             )\n",
    "neg_pos.value_counts(normalize=True).plot(kind='bar',\n",
    "                            color='orange',\n",
    "                            alpha=0.2,\n",
    "                            ax=ax,\n",
    "                            )\n",
    "plt.legend(['Keyword', 'Non-keyword']);"
   ]
  },
  {
   "cell_type": "code",
   "execution_count": 187,
   "metadata": {},
   "outputs": [
    {
     "data": {
      "image/png": "[encoded data removed]",
      "text/plain": [
       "<Figure size 432x288 with 1 Axes>"
      ]
     },
     "metadata": {
      "needs_background": "light"
     },
     "output_type": "display_data"
    }
   ],
   "source": [
    "fig, ax = plt.subplots()\n",
    "label_dep.value_counts(normalize=True).plot(kind='bar',\n",
    "                              title='DEP-tags for nodes',\n",
    "                              #alpha=0.5,\n",
    "                              ax=ax\n",
    "                             )\n",
    "neg_dep.value_counts(normalize=True).plot(kind='bar',\n",
    "                            color='orange',\n",
    "                            alpha=0.5,\n",
    "                            ax=ax,\n",
    "                            )\n",
    "plt.legend(['Keyword', 'Non-keyword']);"
   ]
  },
  {
   "cell_type": "markdown",
   "metadata": {},
   "source": [
    "### FastText Embeddings"
   ]
  },
  {
   "cell_type": "code",
   "execution_count": 342,
   "metadata": {},
   "outputs": [],
   "source": [
    "embwriter = SummaryWriter(log_dir='embeddings/')"
   ]
  },
  {
   "cell_type": "code",
   "execution_count": 336,
   "metadata": {},
   "outputs": [],
   "source": [
    "%load_ext tensorboard"
   ]
  },
  {
   "cell_type": "code",
   "execution_count": 337,
   "metadata": {},
   "outputs": [
    {
     "name": "stdout",
     "output_type": "stream",
     "text": [
      "Automatic pdb calling has been turned OFF\n"
     ]
    }
   ],
   "source": [
    "%pdb off"
   ]
  },
  {
   "cell_type": "code",
   "execution_count": 38,
   "metadata": {},
   "outputs": [
    {
     "data": {
      "text/plain": [
       "(torch.Size([3567, 100]), 3567)"
      ]
     },
     "execution_count": 38,
     "metadata": {},
     "output_type": "execute_result"
    }
   ],
   "source": [
    "ulabels_vocab = list(set(labels_vocab))\n",
    "uneg_vocab = list(set(neg_vocab))\n",
    "vectors = torch.stack([torch.tensor(ft_model[i]) for i in ulabels_vocab] + [torch.tensor(ft_model[i]) for i in uneg_vocab])\n",
    "classes = [(w, 1) for w in ulabels_vocab] + [(w, 0) for w in uneg_vocab]\n",
    "vectors.shape, len(classes)"
   ]
  },
  {
   "cell_type": "code",
   "execution_count": 51,
   "metadata": {},
   "outputs": [
    {
     "data": {
      "text/plain": [
       "4425"
      ]
     },
     "execution_count": 51,
     "metadata": {},
     "output_type": "execute_result"
    }
   ],
   "source": [
    "len(ulabels_vocab)+len(uneg_vocab)"
   ]
  },
  {
   "cell_type": "code",
   "execution_count": 39,
   "metadata": {},
   "outputs": [
    {
     "data": {
      "text/plain": [
       "(torch.Size([2393, 100]), 2393)"
      ]
     },
     "execution_count": 39,
     "metadata": {},
     "output_type": "execute_result"
    }
   ],
   "source": [
    "valid_ulabels_vocab = list(set(valid_labels_vocab))\n",
    "valid_uneg_vocab = list(set(valid_neg_vocab))\n",
    "valid_vectors = torch.stack([torch.tensor(ft_model[i]) for i in valid_ulabels_vocab] + [torch.tensor(ft_model[i]) for i in valid_uneg_vocab])\n",
    "valid_classes = [(w, 1) for w in valid_ulabels_vocab] + [(w, 0) for w in valid_uneg_vocab]\n",
    "valid_vectors.shape, len(valid_classes)"
   ]
  },
  {
   "cell_type": "code",
   "execution_count": 40,
   "metadata": {},
   "outputs": [
    {
     "data": {
      "text/plain": [
       "(torch.Size([2470, 100]), 2470)"
      ]
     },
     "execution_count": 40,
     "metadata": {},
     "output_type": "execute_result"
    }
   ],
   "source": [
    "test_ulabels_vocab = list(set(test_labels_vocab))\n",
    "test_uneg_vocab = list(set(test_neg_vocab))\n",
    "test_vectors = torch.stack([torch.tensor(ft_model[i]) for i in test_ulabels_vocab] + [torch.tensor(ft_model[i]) for i in test_uneg_vocab])\n",
    "test_classes = [(w, 1) for w in test_ulabels_vocab] + [(w, 0) for w in test_uneg_vocab]\n",
    "test_vectors.shape, len(test_classes)"
   ]
  },
  {
   "cell_type": "code",
   "execution_count": null,
   "metadata": {},
   "outputs": [],
   "source": []
  },
  {
   "cell_type": "code",
   "execution_count": 354,
   "metadata": {},
   "outputs": [],
   "source": [
    "embwriter2 = SummaryWriter(log_dir='embeddings/LabeledWords2/')"
   ]
  },
  {
   "cell_type": "code",
   "execution_count": 355,
   "metadata": {},
   "outputs": [
    {
     "name": "stdout",
     "output_type": "stream",
     "text": [
      "warning: Embedding dir exists, did you set global_step for add_embedding()?\n"
     ]
    }
   ],
   "source": [
    "embwriter2.add_embedding(vectors, metadata=classes, \n",
    "                        global_step=2, tag='ft_model_unique')"
   ]
  },
  {
   "cell_type": "code",
   "execution_count": 356,
   "metadata": {},
   "outputs": [],
   "source": [
    "pos_vectors = torch.stack([torch.tensor(ft_model[i]) for i in ulabels_vocab])\n",
    "neg_vectors = torch.stack([torch.tensor(ft_model[i]) for i in uneg_vocab])\n",
    "\n",
    "for i in range(pos_vectors.size(1)):\n",
    "    embwriter2.add_histogram('Positive Dimensions', pos_vectors[:, i], i)\n",
    "for i in range(neg_vectors.size(1)):\n",
    "    embwriter2.add_histogram('Negative Dimensions', neg_vectors[:, i], i)"
   ]
  },
  {
   "cell_type": "code",
   "execution_count": null,
   "metadata": {},
   "outputs": [],
   "source": []
  },
  {
   "cell_type": "code",
   "execution_count": 358,
   "metadata": {},
   "outputs": [
    {
     "data": {
      "text/plain": [
       "(1876,)"
      ]
     },
     "execution_count": 358,
     "metadata": {},
     "output_type": "execute_result"
    }
   ],
   "source": [
    "df['clean_text'].unique().shape"
   ]
  },
  {
   "cell_type": "code",
   "execution_count": 537,
   "metadata": {},
   "outputs": [
    {
     "data": {
      "text/plain": [
       "((1877, 6), 1313.8999999999999)"
      ]
     },
     "execution_count": 537,
     "metadata": {},
     "output_type": "execute_result"
    }
   ],
   "source": [
    "dfc = df.copy()\n",
    "dfc = dfc.explode('ngrams')\n",
    "df.shape, df.shape[0]*0.7"
   ]
  },
  {
   "cell_type": "markdown",
   "metadata": {},
   "source": [
    "### Creating a graph"
   ]
  },
  {
   "cell_type": "code",
   "execution_count": 55,
   "metadata": {},
   "outputs": [
    {
     "data": {
      "text/plain": [
       "(4425, 4425, list)"
      ]
     },
     "execution_count": 55,
     "metadata": {},
     "output_type": "execute_result"
    }
   ],
   "source": [
    "len(classes), len(set(classes)), type(classes)"
   ]
  },
  {
   "cell_type": "code",
   "execution_count": 59,
   "metadata": {},
   "outputs": [
    {
     "name": "stdout",
     "output_type": "stream",
     "text": [
      "Automatic pdb calling has been turned ON\n"
     ]
    }
   ],
   "source": [
    "#classes2[:5]\n",
    "%pdb on"
   ]
  },
  {
   "cell_type": "code",
   "execution_count": 57,
   "metadata": {},
   "outputs": [],
   "source": [
    "df['oversampled'] = df['oversampled'].apply(lambda x: tuple(x))"
   ]
  },
  {
   "cell_type": "code",
   "execution_count": 64,
   "metadata": {},
   "outputs": [
    {
     "data": {
      "text/plain": [
       "((15, 6), (0, 6))"
      ]
     },
     "execution_count": 64,
     "metadata": {},
     "output_type": "execute_result"
    }
   ],
   "source": [
    "df.loc[df['oversampled'].str.len() < 1].shape, df.loc[df['oversampled'].isin(['', ' '])].shape"
   ]
  },
  {
   "cell_type": "code",
   "execution_count": 65,
   "metadata": {},
   "outputs": [],
   "source": [
    "dfc = df.loc[df['oversampled'].str.len() > 0].copy()"
   ]
  },
  {
   "cell_type": "code",
   "execution_count": 66,
   "metadata": {},
   "outputs": [],
   "source": [
    "rows = []\n",
    "array = set(dfc['oversampled'].values)\n",
    "for row in array:\n",
    "    s = list(zip(*row))[0]\n",
    "    mask = [w[0] in s for w in classes]\n",
    "    rows.append(mask)"
   ]
  },
  {
   "cell_type": "code",
   "execution_count": 42,
   "metadata": {},
   "outputs": [],
   "source": [
    "rows = []\n",
    "array = df['clean_text'].unique()\n",
    "for row in array:\n",
    "    s = row.lower()\n",
    "    mask = [w[0] in s for w in classes]\n",
    "    rows.append(mask)"
   ]
  },
  {
   "cell_type": "code",
   "execution_count": 43,
   "metadata": {},
   "outputs": [
    {
     "data": {
      "text/plain": [
       "1.0"
      ]
     },
     "execution_count": 43,
     "metadata": {},
     "output_type": "execute_result"
    }
   ],
   "source": [
    "docs = np.array(rows, dtype='float')\n",
    "docs.sum(axis=0).min()"
   ]
  },
  {
   "cell_type": "code",
   "execution_count": 70,
   "metadata": {},
   "outputs": [
    {
     "name": "stdout",
     "output_type": "stream",
     "text": [
      "Automatic pdb calling has been turned OFF\n"
     ]
    }
   ],
   "source": [
    "%pdb off"
   ]
  },
  {
   "cell_type": "code",
   "execution_count": 240,
   "metadata": {},
   "outputs": [],
   "source": [
    "valid['oversampled'] = valid['oversampled'].apply(lambda x: tuple(x))\n",
    "validc = valid.loc[valid['oversampled'].str.len() > 0].copy()"
   ]
  },
  {
   "cell_type": "code",
   "execution_count": 241,
   "metadata": {},
   "outputs": [
    {
     "data": {
      "text/plain": [
       "(4024, 4024)"
      ]
     },
     "execution_count": 241,
     "metadata": {},
     "output_type": "execute_result"
    }
   ],
   "source": [
    "valid_classes = list(set(chain.from_iterable(validc['oversampled'])))\n",
    "len(valid_classes), len(set(valid_classes))"
   ]
  },
  {
   "cell_type": "code",
   "execution_count": 242,
   "metadata": {},
   "outputs": [],
   "source": [
    "valid_pos = [i[0] for i in valid_classes if i[1] == 1]\n",
    "for i in range(len(valid_classes)):\n",
    "    if (valid_classes[i][0] in valid_pos) and (valid_classes[i][0]):\n",
    "        valid_classes[i] = (valid_classes[i][0], 1)"
   ]
  },
  {
   "cell_type": "code",
   "execution_count": 243,
   "metadata": {},
   "outputs": [
    {
     "name": "stdout",
     "output_type": "stream",
     "text": [
      "4024 3745\n"
     ]
    }
   ],
   "source": [
    "print(len(valid_classes), len(set(valid_classes)))\n",
    "valid_classes = list(set(valid_classes))"
   ]
  },
  {
   "cell_type": "code",
   "execution_count": 244,
   "metadata": {},
   "outputs": [],
   "source": [
    "valid_rows = []\n",
    "valid_array = set(validc['oversampled'].values)\n",
    "for row in valid_array:\n",
    "    s = list(zip(*row))[0]\n",
    "    mask = [w[0] in s for w in valid_classes]\n",
    "    valid_rows.append(mask)"
   ]
  },
  {
   "cell_type": "code",
   "execution_count": 44,
   "metadata": {},
   "outputs": [],
   "source": [
    "valid_rows = []\n",
    "valid_array = valid['clean_text'].unique()\n",
    "for row in valid_array:\n",
    "    s = row.lower()\n",
    "    mask = [w[0] in s for w in valid_classes]\n",
    "    valid_rows.append(mask)"
   ]
  },
  {
   "cell_type": "code",
   "execution_count": 45,
   "metadata": {},
   "outputs": [],
   "source": [
    "test_rows = []\n",
    "test_array = test['clean_text'].unique()\n",
    "for row in test_array:\n",
    "    s = row.lower()\n",
    "    mask = [w[0] in s for w in test_classes]\n",
    "    test_rows.append(mask)"
   ]
  },
  {
   "cell_type": "code",
   "execution_count": 46,
   "metadata": {},
   "outputs": [
    {
     "name": "stdout",
     "output_type": "stream",
     "text": [
      "1876 3567 3567\n"
     ]
    }
   ],
   "source": [
    "print(len(rows), len(rows[0]), len(classes))"
   ]
  },
  {
   "cell_type": "code",
   "execution_count": 47,
   "metadata": {},
   "outputs": [
    {
     "name": "stdout",
     "output_type": "stream",
     "text": [
      "271 2393 2393\n"
     ]
    }
   ],
   "source": [
    "print(len(valid_rows), len(valid_rows[0]), len(valid_classes))"
   ]
  },
  {
   "cell_type": "code",
   "execution_count": 48,
   "metadata": {},
   "outputs": [
    {
     "name": "stdout",
     "output_type": "stream",
     "text": [
      "300 2470 2470\n"
     ]
    }
   ],
   "source": [
    "print(len(test_rows), len(test_rows[0]), len(test_classes))"
   ]
  },
  {
   "cell_type": "code",
   "execution_count": 49,
   "metadata": {},
   "outputs": [
    {
     "name": "stdout",
     "output_type": "stream",
     "text": [
      "(3567, 3567)\n"
     ]
    }
   ],
   "source": [
    "#docs = np.array(rows, dtype='float')\n",
    "matrix = np.matmul(docs.T, docs)\n",
    "\n",
    "print(matrix.shape)\n",
    "\n",
    "matrix[matrix > 1] = 1\n",
    "np.fill_diagonal(matrix, 0)\n",
    "dm = pd.DataFrame(matrix, columns=classes, index=classes)"
   ]
  },
  {
   "cell_type": "code",
   "execution_count": 50,
   "metadata": {},
   "outputs": [
    {
     "name": "stdout",
     "output_type": "stream",
     "text": [
      "(2393, 2393)\n"
     ]
    }
   ],
   "source": [
    "valid_docs = np.array(valid_rows, dtype='float')\n",
    "valid_matrix = np.matmul(valid_docs.T, valid_docs)\n",
    "\n",
    "print(valid_matrix.shape)\n",
    "\n",
    "valid_matrix[valid_matrix > 1] = 1\n",
    "np.fill_diagonal(valid_matrix, 0)\n",
    "valid_dm = pd.DataFrame(valid_matrix, columns=valid_classes, index=valid_classes)"
   ]
  },
  {
   "cell_type": "code",
   "execution_count": 51,
   "metadata": {},
   "outputs": [
    {
     "name": "stdout",
     "output_type": "stream",
     "text": [
      "(2470, 2470)\n"
     ]
    }
   ],
   "source": [
    "test_docs = np.array(test_rows, dtype='float')\n",
    "test_matrix = np.matmul(test_docs.T, test_docs)\n",
    "\n",
    "print(test_matrix.shape)\n",
    "\n",
    "test_matrix[test_matrix > 1] = 1\n",
    "np.fill_diagonal(test_matrix, 0)\n",
    "test_dm = pd.DataFrame(test_matrix, columns=test_classes, index=test_classes)"
   ]
  },
  {
   "cell_type": "code",
   "execution_count": 52,
   "metadata": {},
   "outputs": [
    {
     "data": {
      "text/plain": [
       "Series([], dtype: float64)"
      ]
     },
     "execution_count": 52,
     "metadata": {},
     "output_type": "execute_result"
    }
   ],
   "source": [
    "dm.sum(axis=1)[dm.sum(axis=1) == 0]"
   ]
  },
  {
   "cell_type": "code",
   "execution_count": 53,
   "metadata": {},
   "outputs": [
    {
     "data": {
      "text/plain": [
       "Series([], dtype: float64)"
      ]
     },
     "execution_count": 53,
     "metadata": {},
     "output_type": "execute_result"
    }
   ],
   "source": [
    "test_dm.sum(axis=1)[test_dm.sum(axis=1) == 0]"
   ]
  },
  {
   "cell_type": "code",
   "execution_count": 54,
   "metadata": {},
   "outputs": [
    {
     "data": {
      "text/plain": [
       "Series([], dtype: float64)"
      ]
     },
     "execution_count": 54,
     "metadata": {},
     "output_type": "execute_result"
    }
   ],
   "source": [
    "valid_dm.sum(axis=1)[valid_dm.sum(axis=1) == 0]"
   ]
  },
  {
   "cell_type": "code",
   "execution_count": 55,
   "metadata": {},
   "outputs": [],
   "source": [
    "def get_edges(words, data):\n",
    "    edges = []\n",
    "    for w in words:\n",
    "        neighbours = data.loc[data.loc[w] == 1].index.tolist()\n",
    "        edges.extend(list(zip([w]*len(neighbours), neighbours)))\n",
    "        \n",
    "    return edges"
   ]
  },
  {
   "cell_type": "code",
   "execution_count": 56,
   "metadata": {},
   "outputs": [],
   "source": [
    "import networkx as nx"
   ]
  },
  {
   "cell_type": "code",
   "execution_count": 57,
   "metadata": {},
   "outputs": [
    {
     "data": {
      "text/plain": [
       "((3567,),\n",
       " Index([('content', 1), ('gallery', 1), ('cleaning', 1), ('bad', 1),\n",
       "        ('account', 1)],\n",
       "       dtype='object'))"
      ]
     },
     "execution_count": 57,
     "metadata": {},
     "output_type": "execute_result"
    }
   ],
   "source": [
    "dm.columns.shape, dm.columns[:5]"
   ]
  },
  {
   "cell_type": "code",
   "execution_count": 69,
   "metadata": {},
   "outputs": [
    {
     "name": "stdout",
     "output_type": "stream",
     "text": [
      "Automatic pdb calling has been turned ON\n"
     ]
    }
   ],
   "source": [
    "%pdb on"
   ]
  },
  {
   "cell_type": "code",
   "execution_count": 58,
   "metadata": {},
   "outputs": [],
   "source": [
    "nodes = [i[0] for i in dm.columns]\n",
    "nodes_labels = [i[1] for i in dm.columns]"
   ]
  },
  {
   "cell_type": "code",
   "execution_count": 59,
   "metadata": {},
   "outputs": [],
   "source": [
    "valid_nodes = [i[0] for i in valid_dm.columns]\n",
    "valid_nodes_labels = [i[1] for i in valid_dm.columns]"
   ]
  },
  {
   "cell_type": "code",
   "execution_count": 60,
   "metadata": {},
   "outputs": [],
   "source": [
    "test_nodes = [i[0] for i in test_dm.columns]\n",
    "test_nodes_labels = [i[1] for i in test_dm.columns]"
   ]
  },
  {
   "cell_type": "code",
   "execution_count": 61,
   "metadata": {},
   "outputs": [],
   "source": [
    "G = nx.Graph()\n",
    "G.add_nodes_from(nodes)"
   ]
  },
  {
   "cell_type": "code",
   "execution_count": 62,
   "metadata": {},
   "outputs": [],
   "source": [
    "Gvalid = nx.Graph()\n",
    "Gvalid.add_nodes_from(valid_nodes)"
   ]
  },
  {
   "cell_type": "code",
   "execution_count": 63,
   "metadata": {},
   "outputs": [],
   "source": [
    "Gtest = nx.Graph()\n",
    "Gtest.add_nodes_from(test_nodes)"
   ]
  },
  {
   "cell_type": "code",
   "execution_count": 64,
   "metadata": {},
   "outputs": [
    {
     "data": {
      "text/plain": [
       "{}"
      ]
     },
     "execution_count": 64,
     "metadata": {},
     "output_type": "execute_result"
    }
   ],
   "source": [
    "G.nodes['kevin']"
   ]
  },
  {
   "cell_type": "code",
   "execution_count": 65,
   "metadata": {},
   "outputs": [
    {
     "data": {
      "text/html": [
       "<div>\n",
       "<style scoped>\n",
       "    .dataframe tbody tr th:only-of-type {\n",
       "        vertical-align: middle;\n",
       "    }\n",
       "\n",
       "    .dataframe tbody tr th {\n",
       "        vertical-align: top;\n",
       "    }\n",
       "\n",
       "    .dataframe thead th {\n",
       "        text-align: right;\n",
       "    }\n",
       "</style>\n",
       "<table border=\"1\" class=\"dataframe\">\n",
       "  <thead>\n",
       "    <tr style=\"text-align: right;\">\n",
       "      <th></th>\n",
       "      <th>content</th>\n",
       "      <th>gallery</th>\n",
       "      <th>cleaning</th>\n",
       "      <th>bad</th>\n",
       "      <th>account</th>\n",
       "      <th>mcqueen</th>\n",
       "      <th>virtualdesktop</th>\n",
       "      <th>early</th>\n",
       "      <th>3</th>\n",
       "      <th>magazines</th>\n",
       "      <th>...</th>\n",
       "      <th>index</th>\n",
       "      <th>long</th>\n",
       "      <th>faces</th>\n",
       "      <th>subject</th>\n",
       "      <th>disasters</th>\n",
       "      <th>months</th>\n",
       "      <th>favicon</th>\n",
       "      <th>arab</th>\n",
       "      <th>hat</th>\n",
       "      <th>host</th>\n",
       "    </tr>\n",
       "  </thead>\n",
       "  <tbody>\n",
       "    <tr>\n",
       "      <th>content</th>\n",
       "      <td>0.0</td>\n",
       "      <td>0.0</td>\n",
       "      <td>0.0</td>\n",
       "      <td>0.0</td>\n",
       "      <td>0.0</td>\n",
       "      <td>0.0</td>\n",
       "      <td>0.0</td>\n",
       "      <td>0.0</td>\n",
       "      <td>0.0</td>\n",
       "      <td>0.0</td>\n",
       "      <td>...</td>\n",
       "      <td>0.0</td>\n",
       "      <td>0.0</td>\n",
       "      <td>0.0</td>\n",
       "      <td>0.0</td>\n",
       "      <td>0.0</td>\n",
       "      <td>0.0</td>\n",
       "      <td>0.0</td>\n",
       "      <td>0.0</td>\n",
       "      <td>0.0</td>\n",
       "      <td>0.0</td>\n",
       "    </tr>\n",
       "    <tr>\n",
       "      <th>gallery</th>\n",
       "      <td>0.0</td>\n",
       "      <td>0.0</td>\n",
       "      <td>0.0</td>\n",
       "      <td>0.0</td>\n",
       "      <td>0.0</td>\n",
       "      <td>0.0</td>\n",
       "      <td>0.0</td>\n",
       "      <td>0.0</td>\n",
       "      <td>0.0</td>\n",
       "      <td>0.0</td>\n",
       "      <td>...</td>\n",
       "      <td>0.0</td>\n",
       "      <td>0.0</td>\n",
       "      <td>0.0</td>\n",
       "      <td>0.0</td>\n",
       "      <td>0.0</td>\n",
       "      <td>0.0</td>\n",
       "      <td>0.0</td>\n",
       "      <td>0.0</td>\n",
       "      <td>0.0</td>\n",
       "      <td>1.0</td>\n",
       "    </tr>\n",
       "    <tr>\n",
       "      <th>cleaning</th>\n",
       "      <td>0.0</td>\n",
       "      <td>0.0</td>\n",
       "      <td>0.0</td>\n",
       "      <td>0.0</td>\n",
       "      <td>0.0</td>\n",
       "      <td>0.0</td>\n",
       "      <td>0.0</td>\n",
       "      <td>1.0</td>\n",
       "      <td>0.0</td>\n",
       "      <td>0.0</td>\n",
       "      <td>...</td>\n",
       "      <td>0.0</td>\n",
       "      <td>0.0</td>\n",
       "      <td>0.0</td>\n",
       "      <td>0.0</td>\n",
       "      <td>0.0</td>\n",
       "      <td>1.0</td>\n",
       "      <td>0.0</td>\n",
       "      <td>0.0</td>\n",
       "      <td>0.0</td>\n",
       "      <td>0.0</td>\n",
       "    </tr>\n",
       "    <tr>\n",
       "      <th>bad</th>\n",
       "      <td>0.0</td>\n",
       "      <td>0.0</td>\n",
       "      <td>0.0</td>\n",
       "      <td>0.0</td>\n",
       "      <td>0.0</td>\n",
       "      <td>0.0</td>\n",
       "      <td>0.0</td>\n",
       "      <td>0.0</td>\n",
       "      <td>0.0</td>\n",
       "      <td>0.0</td>\n",
       "      <td>...</td>\n",
       "      <td>0.0</td>\n",
       "      <td>0.0</td>\n",
       "      <td>0.0</td>\n",
       "      <td>0.0</td>\n",
       "      <td>0.0</td>\n",
       "      <td>0.0</td>\n",
       "      <td>0.0</td>\n",
       "      <td>0.0</td>\n",
       "      <td>0.0</td>\n",
       "      <td>0.0</td>\n",
       "    </tr>\n",
       "    <tr>\n",
       "      <th>account</th>\n",
       "      <td>0.0</td>\n",
       "      <td>0.0</td>\n",
       "      <td>0.0</td>\n",
       "      <td>0.0</td>\n",
       "      <td>0.0</td>\n",
       "      <td>0.0</td>\n",
       "      <td>0.0</td>\n",
       "      <td>0.0</td>\n",
       "      <td>0.0</td>\n",
       "      <td>0.0</td>\n",
       "      <td>...</td>\n",
       "      <td>0.0</td>\n",
       "      <td>0.0</td>\n",
       "      <td>0.0</td>\n",
       "      <td>0.0</td>\n",
       "      <td>0.0</td>\n",
       "      <td>0.0</td>\n",
       "      <td>0.0</td>\n",
       "      <td>0.0</td>\n",
       "      <td>0.0</td>\n",
       "      <td>0.0</td>\n",
       "    </tr>\n",
       "  </tbody>\n",
       "</table>\n",
       "<p>5 rows × 3567 columns</p>\n",
       "</div>"
      ],
      "text/plain": [
       "          content  gallery  cleaning  bad  account  mcqueen  virtualdesktop  \\\n",
       "content       0.0      0.0       0.0  0.0      0.0      0.0             0.0   \n",
       "gallery       0.0      0.0       0.0  0.0      0.0      0.0             0.0   \n",
       "cleaning      0.0      0.0       0.0  0.0      0.0      0.0             0.0   \n",
       "bad           0.0      0.0       0.0  0.0      0.0      0.0             0.0   \n",
       "account       0.0      0.0       0.0  0.0      0.0      0.0             0.0   \n",
       "\n",
       "          early    3  magazines  ...  index  long  faces  subject  disasters  \\\n",
       "content     0.0  0.0        0.0  ...    0.0   0.0    0.0      0.0        0.0   \n",
       "gallery     0.0  0.0        0.0  ...    0.0   0.0    0.0      0.0        0.0   \n",
       "cleaning    1.0  0.0        0.0  ...    0.0   0.0    0.0      0.0        0.0   \n",
       "bad         0.0  0.0        0.0  ...    0.0   0.0    0.0      0.0        0.0   \n",
       "account     0.0  0.0        0.0  ...    0.0   0.0    0.0      0.0        0.0   \n",
       "\n",
       "          months  favicon  arab  hat  host  \n",
       "content      0.0      0.0   0.0  0.0   0.0  \n",
       "gallery      0.0      0.0   0.0  0.0   1.0  \n",
       "cleaning     1.0      0.0   0.0  0.0   0.0  \n",
       "bad          0.0      0.0   0.0  0.0   0.0  \n",
       "account      0.0      0.0   0.0  0.0   0.0  \n",
       "\n",
       "[5 rows x 3567 columns]"
      ]
     },
     "execution_count": 65,
     "metadata": {},
     "output_type": "execute_result"
    }
   ],
   "source": [
    "dm.columns = nodes\n",
    "dm.index = nodes\n",
    "dm.head()"
   ]
  },
  {
   "cell_type": "code",
   "execution_count": 66,
   "metadata": {},
   "outputs": [
    {
     "data": {
      "text/html": [
       "<div>\n",
       "<style scoped>\n",
       "    .dataframe tbody tr th:only-of-type {\n",
       "        vertical-align: middle;\n",
       "    }\n",
       "\n",
       "    .dataframe tbody tr th {\n",
       "        vertical-align: top;\n",
       "    }\n",
       "\n",
       "    .dataframe thead th {\n",
       "        text-align: right;\n",
       "    }\n",
       "</style>\n",
       "<table border=\"1\" class=\"dataframe\">\n",
       "  <thead>\n",
       "    <tr style=\"text-align: right;\">\n",
       "      <th></th>\n",
       "      <th>album</th>\n",
       "      <th>history</th>\n",
       "      <th>content</th>\n",
       "      <th>financebased</th>\n",
       "      <th>quicktime</th>\n",
       "      <th>quotdiy</th>\n",
       "      <th>cleaning</th>\n",
       "      <th>office</th>\n",
       "      <th>pages</th>\n",
       "      <th>video</th>\n",
       "      <th>...</th>\n",
       "      <th>conversation</th>\n",
       "      <th>disabled</th>\n",
       "      <th>36</th>\n",
       "      <th>stomach</th>\n",
       "      <th>jailbreak</th>\n",
       "      <th>connect</th>\n",
       "      <th>months</th>\n",
       "      <th>favicon</th>\n",
       "      <th>night</th>\n",
       "      <th>set</th>\n",
       "    </tr>\n",
       "  </thead>\n",
       "  <tbody>\n",
       "    <tr>\n",
       "      <th>album</th>\n",
       "      <td>0.0</td>\n",
       "      <td>0.0</td>\n",
       "      <td>0.0</td>\n",
       "      <td>0.0</td>\n",
       "      <td>0.0</td>\n",
       "      <td>0.0</td>\n",
       "      <td>0.0</td>\n",
       "      <td>0.0</td>\n",
       "      <td>0.0</td>\n",
       "      <td>0.0</td>\n",
       "      <td>...</td>\n",
       "      <td>0.0</td>\n",
       "      <td>0.0</td>\n",
       "      <td>0.0</td>\n",
       "      <td>0.0</td>\n",
       "      <td>0.0</td>\n",
       "      <td>0.0</td>\n",
       "      <td>0.0</td>\n",
       "      <td>0.0</td>\n",
       "      <td>0.0</td>\n",
       "      <td>0.0</td>\n",
       "    </tr>\n",
       "    <tr>\n",
       "      <th>history</th>\n",
       "      <td>0.0</td>\n",
       "      <td>0.0</td>\n",
       "      <td>0.0</td>\n",
       "      <td>0.0</td>\n",
       "      <td>0.0</td>\n",
       "      <td>0.0</td>\n",
       "      <td>0.0</td>\n",
       "      <td>0.0</td>\n",
       "      <td>0.0</td>\n",
       "      <td>0.0</td>\n",
       "      <td>...</td>\n",
       "      <td>0.0</td>\n",
       "      <td>0.0</td>\n",
       "      <td>0.0</td>\n",
       "      <td>0.0</td>\n",
       "      <td>0.0</td>\n",
       "      <td>0.0</td>\n",
       "      <td>0.0</td>\n",
       "      <td>0.0</td>\n",
       "      <td>0.0</td>\n",
       "      <td>0.0</td>\n",
       "    </tr>\n",
       "    <tr>\n",
       "      <th>content</th>\n",
       "      <td>0.0</td>\n",
       "      <td>0.0</td>\n",
       "      <td>0.0</td>\n",
       "      <td>0.0</td>\n",
       "      <td>0.0</td>\n",
       "      <td>0.0</td>\n",
       "      <td>0.0</td>\n",
       "      <td>0.0</td>\n",
       "      <td>0.0</td>\n",
       "      <td>0.0</td>\n",
       "      <td>...</td>\n",
       "      <td>0.0</td>\n",
       "      <td>0.0</td>\n",
       "      <td>0.0</td>\n",
       "      <td>0.0</td>\n",
       "      <td>0.0</td>\n",
       "      <td>0.0</td>\n",
       "      <td>0.0</td>\n",
       "      <td>0.0</td>\n",
       "      <td>0.0</td>\n",
       "      <td>0.0</td>\n",
       "    </tr>\n",
       "    <tr>\n",
       "      <th>financebased</th>\n",
       "      <td>0.0</td>\n",
       "      <td>0.0</td>\n",
       "      <td>0.0</td>\n",
       "      <td>0.0</td>\n",
       "      <td>0.0</td>\n",
       "      <td>0.0</td>\n",
       "      <td>0.0</td>\n",
       "      <td>0.0</td>\n",
       "      <td>0.0</td>\n",
       "      <td>0.0</td>\n",
       "      <td>...</td>\n",
       "      <td>0.0</td>\n",
       "      <td>0.0</td>\n",
       "      <td>0.0</td>\n",
       "      <td>0.0</td>\n",
       "      <td>0.0</td>\n",
       "      <td>0.0</td>\n",
       "      <td>0.0</td>\n",
       "      <td>0.0</td>\n",
       "      <td>0.0</td>\n",
       "      <td>0.0</td>\n",
       "    </tr>\n",
       "    <tr>\n",
       "      <th>quicktime</th>\n",
       "      <td>0.0</td>\n",
       "      <td>0.0</td>\n",
       "      <td>0.0</td>\n",
       "      <td>0.0</td>\n",
       "      <td>0.0</td>\n",
       "      <td>0.0</td>\n",
       "      <td>0.0</td>\n",
       "      <td>0.0</td>\n",
       "      <td>0.0</td>\n",
       "      <td>0.0</td>\n",
       "      <td>...</td>\n",
       "      <td>0.0</td>\n",
       "      <td>0.0</td>\n",
       "      <td>0.0</td>\n",
       "      <td>0.0</td>\n",
       "      <td>0.0</td>\n",
       "      <td>0.0</td>\n",
       "      <td>0.0</td>\n",
       "      <td>0.0</td>\n",
       "      <td>0.0</td>\n",
       "      <td>0.0</td>\n",
       "    </tr>\n",
       "  </tbody>\n",
       "</table>\n",
       "<p>5 rows × 2393 columns</p>\n",
       "</div>"
      ],
      "text/plain": [
       "              album  history  content  financebased  quicktime  quotdiy  \\\n",
       "album           0.0      0.0      0.0           0.0        0.0      0.0   \n",
       "history         0.0      0.0      0.0           0.0        0.0      0.0   \n",
       "content         0.0      0.0      0.0           0.0        0.0      0.0   \n",
       "financebased    0.0      0.0      0.0           0.0        0.0      0.0   \n",
       "quicktime       0.0      0.0      0.0           0.0        0.0      0.0   \n",
       "\n",
       "              cleaning  office  pages  video  ...  conversation  disabled  \\\n",
       "album              0.0     0.0    0.0    0.0  ...           0.0       0.0   \n",
       "history            0.0     0.0    0.0    0.0  ...           0.0       0.0   \n",
       "content            0.0     0.0    0.0    0.0  ...           0.0       0.0   \n",
       "financebased       0.0     0.0    0.0    0.0  ...           0.0       0.0   \n",
       "quicktime          0.0     0.0    0.0    0.0  ...           0.0       0.0   \n",
       "\n",
       "               36  stomach  jailbreak  connect  months  favicon  night  set  \n",
       "album         0.0      0.0        0.0      0.0     0.0      0.0    0.0  0.0  \n",
       "history       0.0      0.0        0.0      0.0     0.0      0.0    0.0  0.0  \n",
       "content       0.0      0.0        0.0      0.0     0.0      0.0    0.0  0.0  \n",
       "financebased  0.0      0.0        0.0      0.0     0.0      0.0    0.0  0.0  \n",
       "quicktime     0.0      0.0        0.0      0.0     0.0      0.0    0.0  0.0  \n",
       "\n",
       "[5 rows x 2393 columns]"
      ]
     },
     "execution_count": 66,
     "metadata": {},
     "output_type": "execute_result"
    }
   ],
   "source": [
    "valid_dm.columns = valid_nodes\n",
    "valid_dm.index = valid_nodes\n",
    "valid_dm.head()"
   ]
  },
  {
   "cell_type": "code",
   "execution_count": 67,
   "metadata": {},
   "outputs": [
    {
     "data": {
      "text/html": [
       "<div>\n",
       "<style scoped>\n",
       "    .dataframe tbody tr th:only-of-type {\n",
       "        vertical-align: middle;\n",
       "    }\n",
       "\n",
       "    .dataframe tbody tr th {\n",
       "        vertical-align: top;\n",
       "    }\n",
       "\n",
       "    .dataframe thead th {\n",
       "        text-align: right;\n",
       "    }\n",
       "</style>\n",
       "<table border=\"1\" class=\"dataframe\">\n",
       "  <thead>\n",
       "    <tr style=\"text-align: right;\">\n",
       "      <th></th>\n",
       "      <th>album</th>\n",
       "      <th>exploit</th>\n",
       "      <th>images</th>\n",
       "      <th>gadgets</th>\n",
       "      <th>energy</th>\n",
       "      <th>739s</th>\n",
       "      <th>cleaning</th>\n",
       "      <th>lastpass</th>\n",
       "      <th>gtdgmail</th>\n",
       "      <th>video</th>\n",
       "      <th>...</th>\n",
       "      <th>finder</th>\n",
       "      <th>long</th>\n",
       "      <th>mild</th>\n",
       "      <th>surfaces</th>\n",
       "      <th>quotsoonquot</th>\n",
       "      <th>subject</th>\n",
       "      <th>connect</th>\n",
       "      <th>suw</th>\n",
       "      <th>applauncherandthensome</th>\n",
       "      <th>set</th>\n",
       "    </tr>\n",
       "  </thead>\n",
       "  <tbody>\n",
       "    <tr>\n",
       "      <th>album</th>\n",
       "      <td>0.0</td>\n",
       "      <td>0.0</td>\n",
       "      <td>0.0</td>\n",
       "      <td>0.0</td>\n",
       "      <td>0.0</td>\n",
       "      <td>0.0</td>\n",
       "      <td>0.0</td>\n",
       "      <td>0.0</td>\n",
       "      <td>0.0</td>\n",
       "      <td>0.0</td>\n",
       "      <td>...</td>\n",
       "      <td>0.0</td>\n",
       "      <td>0.0</td>\n",
       "      <td>0.0</td>\n",
       "      <td>0.0</td>\n",
       "      <td>0.0</td>\n",
       "      <td>0.0</td>\n",
       "      <td>0.0</td>\n",
       "      <td>0.0</td>\n",
       "      <td>0.0</td>\n",
       "      <td>0.0</td>\n",
       "    </tr>\n",
       "    <tr>\n",
       "      <th>exploit</th>\n",
       "      <td>0.0</td>\n",
       "      <td>0.0</td>\n",
       "      <td>0.0</td>\n",
       "      <td>0.0</td>\n",
       "      <td>0.0</td>\n",
       "      <td>0.0</td>\n",
       "      <td>0.0</td>\n",
       "      <td>0.0</td>\n",
       "      <td>0.0</td>\n",
       "      <td>0.0</td>\n",
       "      <td>...</td>\n",
       "      <td>0.0</td>\n",
       "      <td>0.0</td>\n",
       "      <td>0.0</td>\n",
       "      <td>0.0</td>\n",
       "      <td>0.0</td>\n",
       "      <td>0.0</td>\n",
       "      <td>0.0</td>\n",
       "      <td>0.0</td>\n",
       "      <td>0.0</td>\n",
       "      <td>0.0</td>\n",
       "    </tr>\n",
       "    <tr>\n",
       "      <th>images</th>\n",
       "      <td>0.0</td>\n",
       "      <td>0.0</td>\n",
       "      <td>0.0</td>\n",
       "      <td>0.0</td>\n",
       "      <td>0.0</td>\n",
       "      <td>0.0</td>\n",
       "      <td>0.0</td>\n",
       "      <td>0.0</td>\n",
       "      <td>0.0</td>\n",
       "      <td>0.0</td>\n",
       "      <td>...</td>\n",
       "      <td>0.0</td>\n",
       "      <td>0.0</td>\n",
       "      <td>0.0</td>\n",
       "      <td>0.0</td>\n",
       "      <td>0.0</td>\n",
       "      <td>0.0</td>\n",
       "      <td>0.0</td>\n",
       "      <td>0.0</td>\n",
       "      <td>0.0</td>\n",
       "      <td>0.0</td>\n",
       "    </tr>\n",
       "    <tr>\n",
       "      <th>gadgets</th>\n",
       "      <td>0.0</td>\n",
       "      <td>0.0</td>\n",
       "      <td>0.0</td>\n",
       "      <td>0.0</td>\n",
       "      <td>0.0</td>\n",
       "      <td>0.0</td>\n",
       "      <td>0.0</td>\n",
       "      <td>0.0</td>\n",
       "      <td>0.0</td>\n",
       "      <td>0.0</td>\n",
       "      <td>...</td>\n",
       "      <td>0.0</td>\n",
       "      <td>0.0</td>\n",
       "      <td>0.0</td>\n",
       "      <td>0.0</td>\n",
       "      <td>0.0</td>\n",
       "      <td>0.0</td>\n",
       "      <td>0.0</td>\n",
       "      <td>0.0</td>\n",
       "      <td>0.0</td>\n",
       "      <td>0.0</td>\n",
       "    </tr>\n",
       "    <tr>\n",
       "      <th>energy</th>\n",
       "      <td>0.0</td>\n",
       "      <td>0.0</td>\n",
       "      <td>0.0</td>\n",
       "      <td>0.0</td>\n",
       "      <td>0.0</td>\n",
       "      <td>0.0</td>\n",
       "      <td>0.0</td>\n",
       "      <td>0.0</td>\n",
       "      <td>0.0</td>\n",
       "      <td>0.0</td>\n",
       "      <td>...</td>\n",
       "      <td>0.0</td>\n",
       "      <td>0.0</td>\n",
       "      <td>0.0</td>\n",
       "      <td>0.0</td>\n",
       "      <td>0.0</td>\n",
       "      <td>0.0</td>\n",
       "      <td>0.0</td>\n",
       "      <td>0.0</td>\n",
       "      <td>0.0</td>\n",
       "      <td>0.0</td>\n",
       "    </tr>\n",
       "  </tbody>\n",
       "</table>\n",
       "<p>5 rows × 2470 columns</p>\n",
       "</div>"
      ],
      "text/plain": [
       "         album  exploit  images  gadgets  energy  739s  cleaning  lastpass  \\\n",
       "album      0.0      0.0     0.0      0.0     0.0   0.0       0.0       0.0   \n",
       "exploit    0.0      0.0     0.0      0.0     0.0   0.0       0.0       0.0   \n",
       "images     0.0      0.0     0.0      0.0     0.0   0.0       0.0       0.0   \n",
       "gadgets    0.0      0.0     0.0      0.0     0.0   0.0       0.0       0.0   \n",
       "energy     0.0      0.0     0.0      0.0     0.0   0.0       0.0       0.0   \n",
       "\n",
       "         gtdgmail  video  ...  finder  long  mild  surfaces  quotsoonquot  \\\n",
       "album         0.0    0.0  ...     0.0   0.0   0.0       0.0           0.0   \n",
       "exploit       0.0    0.0  ...     0.0   0.0   0.0       0.0           0.0   \n",
       "images        0.0    0.0  ...     0.0   0.0   0.0       0.0           0.0   \n",
       "gadgets       0.0    0.0  ...     0.0   0.0   0.0       0.0           0.0   \n",
       "energy        0.0    0.0  ...     0.0   0.0   0.0       0.0           0.0   \n",
       "\n",
       "         subject  connect  suw  applauncherandthensome  set  \n",
       "album        0.0      0.0  0.0                     0.0  0.0  \n",
       "exploit      0.0      0.0  0.0                     0.0  0.0  \n",
       "images       0.0      0.0  0.0                     0.0  0.0  \n",
       "gadgets      0.0      0.0  0.0                     0.0  0.0  \n",
       "energy       0.0      0.0  0.0                     0.0  0.0  \n",
       "\n",
       "[5 rows x 2470 columns]"
      ]
     },
     "execution_count": 67,
     "metadata": {},
     "output_type": "execute_result"
    }
   ],
   "source": [
    "test_dm.columns = test_nodes\n",
    "test_dm.index = test_nodes\n",
    "test_dm.head()"
   ]
  },
  {
   "cell_type": "code",
   "execution_count": 71,
   "metadata": {},
   "outputs": [],
   "source": [
    "test_dm.to_csv('../data/TestDMGraphAdj.tsv', sep='\\t')"
   ]
  },
  {
   "cell_type": "code",
   "execution_count": 81,
   "metadata": {},
   "outputs": [],
   "source": [
    "dm.shape\n",
    "dm.to_csv('../data/DMGraphAdj.tsv', sep='\\t')"
   ]
  },
  {
   "cell_type": "code",
   "execution_count": 68,
   "metadata": {},
   "outputs": [
    {
     "name": "stdout",
     "output_type": "stream",
     "text": [
      "CPU times: user 5 µs, sys: 0 ns, total: 5 µs\n",
      "Wall time: 9.3 µs\n"
     ]
    }
   ],
   "source": [
    "%%time\n",
    "edges = get_edges(nodes, dm)\n",
    "G.add_edges_from(edges)"
   ]
  },
  {
   "cell_type": "code",
   "execution_count": 69,
   "metadata": {},
   "outputs": [
    {
     "data": {
      "text/plain": [
       "((2393,), (2393,))"
      ]
     },
     "execution_count": 69,
     "metadata": {},
     "output_type": "execute_result"
    }
   ],
   "source": [
    "valid_dm.index.shape, valid_dm.index.unique().shape"
   ]
  },
  {
   "cell_type": "code",
   "execution_count": 70,
   "metadata": {},
   "outputs": [
    {
     "name": "stdout",
     "output_type": "stream",
     "text": [
      "CPU times: user 2.17 s, sys: 41.3 ms, total: 2.21 s\n",
      "Wall time: 2.2 s\n"
     ]
    }
   ],
   "source": [
    "%%time\n",
    "valid_edges = get_edges(valid_nodes, valid_dm)\n",
    "Gvalid.add_edges_from(valid_edges)"
   ]
  },
  {
   "cell_type": "code",
   "execution_count": 71,
   "metadata": {},
   "outputs": [
    {
     "name": "stdout",
     "output_type": "stream",
     "text": [
      "CPU times: user 2.42 s, sys: 114 ms, total: 2.53 s\n",
      "Wall time: 2.54 s\n"
     ]
    }
   ],
   "source": [
    "%%time\n",
    "test_edges = get_edges(test_nodes, test_dm)\n",
    "Gtest.add_edges_from(test_edges)"
   ]
  },
  {
   "cell_type": "code",
   "execution_count": 72,
   "metadata": {},
   "outputs": [
    {
     "data": {
      "text/plain": [
       "(True, True, True)"
      ]
     },
     "execution_count": 72,
     "metadata": {},
     "output_type": "execute_result"
    }
   ],
   "source": [
    "nx.is_connected(G), nx.is_connected(Gvalid), nx.is_connected(Gtest) "
   ]
  },
  {
   "cell_type": "code",
   "execution_count": 73,
   "metadata": {},
   "outputs": [],
   "source": [
    "labeled_vocabulary = dict(zip(nodes, nodes_labels))"
   ]
  },
  {
   "cell_type": "code",
   "execution_count": 74,
   "metadata": {},
   "outputs": [],
   "source": [
    "valid_labeled_vocabulary = dict(zip(valid_nodes, valid_nodes_labels))"
   ]
  },
  {
   "cell_type": "code",
   "execution_count": 75,
   "metadata": {},
   "outputs": [],
   "source": [
    "test_labeled_vocabulary = dict(zip(test_nodes, test_nodes_labels))"
   ]
  },
  {
   "cell_type": "code",
   "execution_count": 76,
   "metadata": {},
   "outputs": [],
   "source": [
    "from bokeh.io import output_file, show\n",
    "from bokeh.models import (BoxZoomTool, Circle, HoverTool,\n",
    "                          MultiLine, Plot, Range1d, ResetTool,)\n",
    "from bokeh.palettes import Spectral4\n",
    "from bokeh.plotting import from_networkx"
   ]
  },
  {
   "cell_type": "code",
   "execution_count": 86,
   "metadata": {},
   "outputs": [
    {
     "name": "stdout",
     "output_type": "stream",
     "text": [
      "Automatic pdb calling has been turned OFF\n"
     ]
    }
   ],
   "source": [
    "%pdb off"
   ]
  },
  {
   "cell_type": "code",
   "execution_count": 77,
   "metadata": {},
   "outputs": [],
   "source": [
    "attrs = {n: {\"text\": n,\n",
    "             \"degree\": G.degree[n], \n",
    "             'label': labeled_vocabulary[n],\n",
    "             'colour': 'red' if labeled_vocabulary[n] == 1 else 'lightskyblue',\n",
    "             'x': ft_model[n]} \n",
    "         for n in G.nodes}\n",
    "\n",
    "nx.set_node_attributes(G, attrs)"
   ]
  },
  {
   "cell_type": "code",
   "execution_count": 78,
   "metadata": {},
   "outputs": [],
   "source": [
    "valid_attrs = {n: {\"text\": n,\n",
    "             \"degree\": Gvalid.degree[n], \n",
    "             'label': valid_labeled_vocabulary[n],\n",
    "             'colour': 'red' if valid_labeled_vocabulary[n] == 1 else 'lightskyblue',\n",
    "             'x': ft_model[n]} \n",
    "         for n in Gvalid.nodes}\n",
    "\n",
    "nx.set_node_attributes(Gvalid, valid_attrs)"
   ]
  },
  {
   "cell_type": "code",
   "execution_count": 79,
   "metadata": {},
   "outputs": [],
   "source": [
    "test_attrs = {n: {\"text\": n,\n",
    "             \"degree\": Gtest.degree[n], \n",
    "             'label': test_labeled_vocabulary[n],\n",
    "             'colour': 'red' if test_labeled_vocabulary[n] == 1 else 'lightskyblue',\n",
    "             'x': ft_model[n]} \n",
    "         for n in Gtest.nodes}\n",
    "\n",
    "nx.set_node_attributes(Gtest, test_attrs)"
   ]
  },
  {
   "cell_type": "code",
   "execution_count": 80,
   "metadata": {},
   "outputs": [],
   "source": [
    "def show_bokeh(G, params, filename, colorfill='colour'):\n",
    "    plot = Plot(plot_width=1500, plot_height=1000,\n",
    "                x_range=Range1d(-1.1, 1.1), y_range=Range1d(-1.1, 1.1))\n",
    "    plot.title.text = \"Graph Interaction Demonstration\"\n",
    "\n",
    "    node_hover_tool = HoverTool(tooltips=[*params])\n",
    "    plot.add_tools(\n",
    "        node_hover_tool, \n",
    "        BoxZoomTool(), \n",
    "        ResetTool()\n",
    "    )\n",
    "\n",
    "    graph_renderer = from_networkx(G, nx.spring_layout, \n",
    "                                   scale=1, center=(0, 0))\n",
    "\n",
    "    graph_renderer.node_renderer.glyph = Circle(\n",
    "        size=15, \n",
    "        #fill_color=Spectral4[0]\n",
    "        fill_color='colour'\n",
    "    )\n",
    "    #graph_renderer.edge_renderer.glyph = MultiLine(\n",
    "    #    line_color=\"edge_color\", \n",
    "    #    line_alpha=0.8, \n",
    "    #    line_width=1\n",
    "    #)\n",
    "    plot.renderers.append(graph_renderer)\n",
    "\n",
    "    output_file(\"../plots/{}.html\".format(filename))\n",
    "    show(plot)"
   ]
  },
  {
   "cell_type": "code",
   "execution_count": 89,
   "metadata": {},
   "outputs": [],
   "source": [
    "params = [('text', '@text'), ('label', '@label')]\n",
    "filename = 'UnigramsGraphOversampled'\n",
    "show_bokeh(G, params, filename, colorfill='colour')"
   ]
  },
  {
   "cell_type": "code",
   "execution_count": 576,
   "metadata": {},
   "outputs": [],
   "source": [
    "params = [('text', '@text'), ('label', '@label')]\n",
    "filename = 'UnigramsGraph2'\n",
    "show_bokeh(G2, params, filename, colorfill='colour')"
   ]
  },
  {
   "cell_type": "code",
   "execution_count": 77,
   "metadata": {},
   "outputs": [
    {
     "data": {
      "text/plain": [
       "True"
      ]
     },
     "execution_count": 77,
     "metadata": {},
     "output_type": "execute_result"
    }
   ],
   "source": [
    "nx.is_connected(Gtest)#nx.is_connected(G), nx.is_connected(Gvalid), "
   ]
  },
  {
   "cell_type": "code",
   "execution_count": 116,
   "metadata": {},
   "outputs": [
    {
     "data": {
      "text/plain": [
       "True"
      ]
     },
     "execution_count": 116,
     "metadata": {},
     "output_type": "execute_result"
    }
   ],
   "source": [
    "subgraph = max(nx.connected_components(G), key=len)\n",
    "G = G.subgraph(subgraph)\n",
    "nx.is_connected(G)"
   ]
  },
  {
   "cell_type": "markdown",
   "metadata": {},
   "source": [
    "### Computing centrality metrics"
   ]
  },
  {
   "cell_type": "code",
   "execution_count": 117,
   "metadata": {},
   "outputs": [
    {
     "name": "stdout",
     "output_type": "stream",
     "text": [
      "CPU times: user 91.4 ms, sys: 0 ns, total: 91.4 ms\n",
      "Wall time: 89.7 ms\n"
     ]
    }
   ],
   "source": [
    "%time cent_degree = nx.degree_centrality(G)"
   ]
  },
  {
   "cell_type": "code",
   "execution_count": 118,
   "metadata": {},
   "outputs": [
    {
     "name": "stdout",
     "output_type": "stream",
     "text": [
      "CPU times: user 2.85 s, sys: 0 ns, total: 2.85 s\n",
      "Wall time: 2.86 s\n"
     ]
    }
   ],
   "source": [
    "%time cent_eigen = nx.eigenvector_centrality(G)"
   ]
  },
  {
   "cell_type": "code",
   "execution_count": 119,
   "metadata": {},
   "outputs": [
    {
     "name": "stdout",
     "output_type": "stream",
     "text": [
      "CPU times: user 3min 43s, sys: 12.4 ms, total: 3min 43s\n",
      "Wall time: 3min 43s\n"
     ]
    }
   ],
   "source": [
    "%time cent_closeness = nx.closeness_centrality(G)"
   ]
  },
  {
   "cell_type": "code",
   "execution_count": 120,
   "metadata": {},
   "outputs": [
    {
     "name": "stdout",
     "output_type": "stream",
     "text": [
      "CPU times: user 5min 20s, sys: 3.55 ms, total: 5min 20s\n",
      "Wall time: 5min 20s\n"
     ]
    }
   ],
   "source": [
    "%time cent_between = nx.betweenness_centrality(G)"
   ]
  },
  {
   "cell_type": "code",
   "execution_count": 121,
   "metadata": {},
   "outputs": [
    {
     "name": "stdout",
     "output_type": "stream",
     "text": [
      "CPU times: user 7min 41s, sys: 0 ns, total: 7min 41s\n",
      "Wall time: 7min 41s\n"
     ]
    }
   ],
   "source": [
    "%time cent_voterank = nx.voterank(G)"
   ]
  },
  {
   "cell_type": "code",
   "execution_count": 123,
   "metadata": {},
   "outputs": [],
   "source": [
    "index = G.nodes\n",
    "data = [\n",
    "    [labeled_vocabulary[i], cent_degree[i], cent_eigen[i], cent_closeness[i], cent_between[i]]\n",
    "    for i in index\n",
    "]\n",
    "columns = ['label', 'cent_degree', 'cent_eigen', 'cent_closeness', 'cent_between']\n",
    "cent_df = pd.DataFrame(data, index=index, columns=columns)"
   ]
  },
  {
   "cell_type": "code",
   "execution_count": 124,
   "metadata": {},
   "outputs": [
    {
     "data": {
      "image/png": "[encoded data removed]",
      "text/plain": [
       "<Figure size 432x288 with 1 Axes>"
      ]
     },
     "metadata": {
      "needs_background": "light"
     },
     "output_type": "display_data"
    }
   ],
   "source": [
    "fig, ax = plt.subplots()\n",
    "cent_df.loc[cent_df['label'] == 1]['cent_degree'].plot.kde(ax=ax)\n",
    "cent_df.loc[cent_df['label'] == 0]['cent_degree'].plot.kde(ax=ax, alpha=0.7)\n",
    "plt.legend(['positive', 'negative'])\n",
    "plt.title('Degree Centrality');"
   ]
  },
  {
   "cell_type": "code",
   "execution_count": 125,
   "metadata": {},
   "outputs": [
    {
     "data": {
      "image/png": "[encoded data removed]",
      "text/plain": [
       "<Figure size 432x288 with 1 Axes>"
      ]
     },
     "metadata": {
      "needs_background": "light"
     },
     "output_type": "display_data"
    }
   ],
   "source": [
    "fig, ax = plt.subplots()\n",
    "cent_df.loc[cent_df['label'] == 1]['cent_eigen'].plot.kde(ax=ax)\n",
    "cent_df.loc[cent_df['label'] == 0]['cent_eigen'].plot.kde(ax=ax, alpha=0.7)\n",
    "plt.legend(['positive', 'negative'])\n",
    "plt.title('Eigenvector Centrality');"
   ]
  },
  {
   "cell_type": "code",
   "execution_count": 126,
   "metadata": {},
   "outputs": [
    {
     "data": {
      "image/png": "[encoded data removed]",
      "text/plain": [
       "<Figure size 432x288 with 1 Axes>"
      ]
     },
     "metadata": {
      "needs_background": "light"
     },
     "output_type": "display_data"
    }
   ],
   "source": [
    "fig, ax = plt.subplots()\n",
    "cent_df.loc[cent_df['label'] == 1]['cent_closeness'].plot.kde(ax=ax)\n",
    "cent_df.loc[cent_df['label'] == 0]['cent_closeness'].plot.kde(ax=ax, alpha=0.7)\n",
    "plt.legend(['positive', 'negative'])\n",
    "plt.title('Closeness Centrality');"
   ]
  },
  {
   "cell_type": "code",
   "execution_count": 127,
   "metadata": {},
   "outputs": [
    {
     "data": {
      "image/png": "[encoded data removed]",
      "text/plain": [
       "<Figure size 432x288 with 1 Axes>"
      ]
     },
     "metadata": {
      "needs_background": "light"
     },
     "output_type": "display_data"
    }
   ],
   "source": [
    "fig, ax = plt.subplots()\n",
    "cent_df.loc[cent_df['label'] == 1]['cent_between'].plot.kde(ax=ax)\n",
    "cent_df.loc[cent_df['label'] == 0]['cent_between'].plot.kde(ax=ax, alpha=0.7)\n",
    "plt.legend(['positive', 'negative'])\n",
    "plt.title('Betweenness Centrality');"
   ]
  },
  {
   "cell_type": "code",
   "execution_count": 130,
   "metadata": {},
   "outputs": [
    {
     "data": {
      "text/plain": [
       "2170"
      ]
     },
     "execution_count": 130,
     "metadata": {},
     "output_type": "execute_result"
    }
   ],
   "source": [
    "cent_df['label'].value_counts()[0]"
   ]
  },
  {
   "cell_type": "code",
   "execution_count": 131,
   "metadata": {},
   "outputs": [
    {
     "data": {
      "text/plain": [
       "(0.45806451612903226, 0.8485663082437276, 994, 1894)"
      ]
     },
     "execution_count": 131,
     "metadata": {},
     "output_type": "execute_result"
    }
   ],
   "source": [
    "voterank = [(i, labeled_vocabulary[i])for i in cent_voterank]\n",
    "vr = pd.DataFrame(voterank, columns=['node', 'label'])\n",
    "vr0 = (vr['label'] == 0).sum()/cent_df['label'].value_counts()[0]\n",
    "vr1 = (vr['label'] == 1).sum()/cent_df['label'].value_counts()[1]\n",
    "vr0, vr1, (vr['label'] == 0).sum(), (vr['label'] == 1).sum()"
   ]
  },
  {
   "cell_type": "markdown",
   "metadata": {},
   "source": [
    "### Training the model"
   ]
  },
  {
   "cell_type": "code",
   "execution_count": 81,
   "metadata": {},
   "outputs": [
    {
     "data": {
      "text/plain": [
       "Data(colour=[3567], degree=[3567], edge_index=[2, 312496], label=[3567], text=[3567], x=[3567, 100])"
      ]
     },
     "execution_count": 81,
     "metadata": {},
     "output_type": "execute_result"
    }
   ],
   "source": [
    "graph_data = pyg_utils.from_networkx(G)\n",
    "graph_data"
   ]
  },
  {
   "cell_type": "code",
   "execution_count": 82,
   "metadata": {},
   "outputs": [
    {
     "data": {
      "text/plain": [
       "Data(colour=[2393], degree=[2393], edge_index=[2, 231726], label=[2393], text=[2393], x=[2393, 100])"
      ]
     },
     "execution_count": 82,
     "metadata": {},
     "output_type": "execute_result"
    }
   ],
   "source": [
    "graph_valid = pyg_utils.from_networkx(Gvalid)\n",
    "graph_valid"
   ]
  },
  {
   "cell_type": "code",
   "execution_count": 260,
   "metadata": {},
   "outputs": [
    {
     "data": {
      "text/plain": [
       "(torch.Size([1875]), torch.Size([1870]))"
      ]
     },
     "execution_count": 260,
     "metadata": {},
     "output_type": "execute_result"
    }
   ],
   "source": [
    "graph_valid.label[graph_valid.label == 1].shape, graph_valid.label[graph_valid.label == 0].shape"
   ]
  },
  {
   "cell_type": "code",
   "execution_count": 83,
   "metadata": {},
   "outputs": [
    {
     "data": {
      "text/plain": [
       "Data(colour=[2470], degree=[2470], edge_index=[2, 227324], label=[2470], text=[2470], x=[2470, 100])"
      ]
     },
     "execution_count": 83,
     "metadata": {},
     "output_type": "execute_result"
    }
   ],
   "source": [
    "graph_test = pyg_utils.from_networkx(Gtest)\n",
    "graph_test"
   ]
  },
  {
   "cell_type": "code",
   "execution_count": 79,
   "metadata": {},
   "outputs": [],
   "source": [
    "#torch.save(graph_data, '../data/1graph_datakp5DataList.pt')\n",
    "#torch.save(graph_valid, '../data/1Validgraph_dataLH2DataList.pt')\n",
    "torch.save(graph_test, '../data/1Testgraph_dataLH2DataList.pt')"
   ]
  },
  {
   "cell_type": "code",
   "execution_count": 14,
   "metadata": {},
   "outputs": [],
   "source": [
    "#train_size = int(graph_data.x.size(0)*0.7)\n",
    "#test_size = int(graph_data.x.size(0)*0.1)\n",
    "#val_size = graph_data.x.size(0) - (train_size + test_size)\n",
    "#train_mask = torch.tensor([True]*train_size + [False]*(test_size + val_size))\n",
    "#val_mask = torch.tensor([False]*train_size + [True]*val_size + [False]*test_size)\n",
    "#test_mask = torch.tensor([False]*(train_size + val_size) + [True]*test_size)"
   ]
  },
  {
   "cell_type": "code",
   "execution_count": 15,
   "metadata": {},
   "outputs": [],
   "source": [
    "#print(train_mask.shape, val_mask.shape, test_mask.shape)\n",
    "#torch.where(train_mask), torch.where(val_mask), torch.where(test_mask)"
   ]
  },
  {
   "cell_type": "code",
   "execution_count": 16,
   "metadata": {},
   "outputs": [],
   "source": [
    "#graph_data.train_mask = train_mask\n",
    "#graph_data.val_mask = val_mask\n",
    "#graph_data.test_mask = test_mask\n",
    "#graph_data"
   ]
  },
  {
   "cell_type": "code",
   "execution_count": 84,
   "metadata": {},
   "outputs": [],
   "source": [
    "class GNNStack(nn.Module):\n",
    "    def __init__(self, input_dim, hidden_dim, \n",
    "                 output_dim, dropout=0.25,\n",
    "                 gcn_dropout=None,\n",
    "                 nconvs=3, conv_layer=pyg_nn.GCNConv,\n",
    "                 aggr='add', \n",
    "                 flow='source_to_target',\n",
    "                 weight=torch.tensor([1, 1])):\n",
    "        \n",
    "        super(GNNStack, self).__init__()\n",
    "        self.conv = conv_layer\n",
    "        self.dropout = dropout\n",
    "        self.gcn_dropout = gcn_dropout\n",
    "        self.num_layers = nconvs\n",
    "        self.class_weight = weight\n",
    "        \n",
    "        self.convs = nn.ModuleList()\n",
    "        self.convs.append(self.build_conv_model(input_dim, hidden_dim, \n",
    "                                                aggr, flow))\n",
    "        self.lns = nn.ModuleList()\n",
    "        #for i in range(nconvs):\n",
    "        #    self.lns.append(nn.LayerNorm(hidden_dim))\n",
    "\n",
    "        for l in range(self.num_layers-1):\n",
    "            self.convs.append(self.build_conv_model(hidden_dim, hidden_dim, \n",
    "                                                    aggr, flow))\n",
    "\n",
    "        self.post_mp = nn.Sequential(\n",
    "            nn.Linear(hidden_dim, hidden_dim),\n",
    "            nn.ReLU(),\n",
    "            nn.Dropout(dropout), \n",
    "            nn.Linear(hidden_dim, output_dim),\n",
    "        )\n",
    "\n",
    "    def build_conv_model(self, input_dim, hidden_dim, aggr, flow):\n",
    "        return self.conv(input_dim, hidden_dim, aggr=aggr, flow=flow)\n",
    "\n",
    "    def forward(self, data, training=True):\n",
    "        x, edge_index = data.x, data.edge_index\n",
    "        \n",
    "        for i in range(self.num_layers):\n",
    "            x = self.convs[i](x, edge_index)\n",
    "            emb = x\n",
    "            x = F.relu(x)\n",
    "            if self.gcn_dropout:\n",
    "                x = F.dropout(x, p=self.gcn_dropout, training=training)\n",
    "            #if not i == self.num_layers - 1:\n",
    "            #    x = self.lns[i](x)\n",
    "\n",
    "        x = self.post_mp(x)\n",
    "\n",
    "        return emb, F.log_softmax(x, dim=1)\n",
    "\n",
    "    def loss(self, pred, label):\n",
    "        #print('Got it')\n",
    "        return F.nll_loss(pred, label, \n",
    "                          weight=self.class_weight)"
   ]
  },
  {
   "cell_type": "code",
   "execution_count": 85,
   "metadata": {},
   "outputs": [],
   "source": [
    "'''Adding a function to get accuracy'''\n",
    "def get_accuracy(preds, targets):\n",
    "    \n",
    "    preds = preds.argmax(dim=1)\n",
    "    ncorrects = preds.eq(targets).sum().item()\n",
    "    return ncorrects / len(targets)"
   ]
  },
  {
   "cell_type": "code",
   "execution_count": 116,
   "metadata": {},
   "outputs": [],
   "source": [
    "train_ds = torch.load('../data/1graph_datakp5DataListOversampled.pt')\n",
    "valid_ds = torch.load('../data/1Validgraph_dataLH2DataListOversampled.pt')\n",
    "test_ds = graph_test#torch.load('../data/1Testgraph_dataLH2DataList.pt')"
   ]
  },
  {
   "cell_type": "code",
   "execution_count": 87,
   "metadata": {},
   "outputs": [
    {
     "data": {
      "text/plain": [
       "(tensor(1272), tensor(2295))"
      ]
     },
     "execution_count": 87,
     "metadata": {},
     "output_type": "execute_result"
    }
   ],
   "source": [
    "sum([i == 1 for i in train_ds.label]), sum([i == 0 for i in train_ds.label])"
   ]
  },
  {
   "cell_type": "code",
   "execution_count": 88,
   "metadata": {},
   "outputs": [
    {
     "data": {
      "text/plain": [
       "(tensor(356), tensor(2037))"
      ]
     },
     "execution_count": 88,
     "metadata": {},
     "output_type": "execute_result"
    }
   ],
   "source": [
    "sum([i == 1 for i in valid_ds.label]), sum([i == 0 for i in valid_ds.label])"
   ]
  },
  {
   "cell_type": "code",
   "execution_count": 93,
   "metadata": {},
   "outputs": [
    {
     "name": "stdout",
     "output_type": "stream",
     "text": [
      "Automatic pdb calling has been turned OFF\n"
     ]
    }
   ],
   "source": [
    "%pdb off"
   ]
  },
  {
   "cell_type": "code",
   "execution_count": 128,
   "metadata": {},
   "outputs": [],
   "source": [
    "def train_node_clf(train, valid, \n",
    "                   epochs,\n",
    "                   hidden_dim,\n",
    "                   conv_type,\n",
    "                   aggr,\n",
    "                   #writer,\n",
    "                   flow='source_to_target',\n",
    "                   heads=1,\n",
    "                   dropout=0.25,\n",
    "                   gcn_dropout=0.25,\n",
    "                   optimiser=optim.Adam,\n",
    "                   verbose=False,\n",
    "                   lr=3e-5,\n",
    "                   class_weight=torch.tensor([1., 1.])):\n",
    "    \n",
    "    dim = train.x.shape[1]\n",
    "    model = GNNStack(dim, hidden_dim, 2, \n",
    "                     dropout=dropout,\n",
    "                     gcn_dropout=gcn_dropout,\n",
    "                     nconvs=heads,\n",
    "                     conv_layer=conv_type,\n",
    "                     aggr=aggr,\n",
    "                     flow=flow,\n",
    "                     weight=class_weight,\n",
    "                    )\n",
    "    \n",
    "    opt = optimiser(model.parameters(), lr=lr)\n",
    "    train_losses = []\n",
    "    train_accuracies = []\n",
    "    valid_losses = []\n",
    "    valid_accuracies = []\n",
    "    \n",
    "    train_label = train.label\n",
    "    valid_label = valid.label\n",
    "    \n",
    "    for epoch in range(epochs):\n",
    "        model.train()\n",
    "        opt.zero_grad()\n",
    "        embedding, train_pred = model(train, training=True)\n",
    "        #writer.add_histogram('convs.0.weight', \n",
    "        #                     dict(model.named_parameters())['convs.0.weight'],\n",
    "        #                    epoch)\n",
    "        #writer.add_histogram('convs.1.weight', \n",
    "        #                     dict(model.named_parameters())['convs.1.weight'],\n",
    "        #                    epoch)\n",
    "        #writer.add_histogram('convs.2.weight', \n",
    "        #                     dict(model.named_parameters())['convs.2.weight'],\n",
    "        #                    epoch)\n",
    "        #if epoch != 0:\n",
    "        #    writer.add_histogram('convs.2.weight Gradients', \n",
    "        #                         dict(model.named_parameters())['convs.2.weight'].grad,\n",
    "        #                        epoch)\n",
    "        #    writer.add_histogram('post_mp.2.weight Gradients', \n",
    "        #                         dict(model.named_parameters())['post_mp.2.weight'].grad,\n",
    "        #                        epoch)\n",
    "        train_loss = model.loss(train_pred, train_label)\n",
    "        train_loss.backward()\n",
    "        opt.step()\n",
    "        train_acc = get_accuracy(train_pred, train_label)\n",
    "        train_losses.append(train_loss.item())\n",
    "        train_accuracies.append(train_acc)\n",
    "        \n",
    "        #with torch.no_grad():\n",
    "        #    model.eval()\n",
    "        #    valid_embedding, valid_pred = model(valid, training=False)\n",
    "        #    valid_loss = model.loss(valid_pred, valid_label)\n",
    "        #    valid_acc = get_accuracy(valid_pred, valid_label)\n",
    "        #    valid_losses.append(valid_loss.item())\n",
    "        #    valid_accuracies.append(valid_acc)\n",
    "        \n",
    "        if verbose:\n",
    "            print('Epoch', epoch)\n",
    "            print('Training Loss', train_loss.item())\n",
    "            print('Training Accuracy', train_acc)\n",
    "            #print('Validation Loss', valid_loss.item())\n",
    "            #print('Validation Accuracy', valid_acc)\n",
    "            print('#########################################################')\n",
    "        \n",
    "\n",
    "\n",
    "    return model, train_losses, train_accuracies, valid_losses, valid_accuracies"
   ]
  },
  {
   "cell_type": "code",
   "execution_count": 129,
   "metadata": {
    "collapsed": true,
    "jupyter": {
     "outputs_hidden": true
    }
   },
   "outputs": [
    {
     "name": "stdout",
     "output_type": "stream",
     "text": [
      "Epoch 0\n",
      "Training Loss 0.6951614618301392\n",
      "Training Accuracy 0.49454793275783737\n",
      "#########################################################\n",
      "Epoch 1\n",
      "Training Loss 0.6948332190513611\n",
      "Training Accuracy 0.49886415265788275\n",
      "#########################################################\n",
      "Epoch 2\n",
      "Training Loss 0.6934030055999756\n",
      "Training Accuracy 0.5018173557473875\n",
      "#########################################################\n",
      "Epoch 3\n",
      "Training Loss 0.6935195326805115\n",
      "Training Accuracy 0.506133575647433\n",
      "#########################################################\n",
      "Epoch 4\n",
      "Training Loss 0.6928786635398865\n",
      "Training Accuracy 0.5095411176737846\n",
      "#########################################################\n",
      "Epoch 5\n",
      "Training Loss 0.6927970051765442\n",
      "Training Accuracy 0.5077237619263971\n",
      "#########################################################\n",
      "Epoch 6\n",
      "Training Loss 0.6919621229171753\n",
      "Training Accuracy 0.5168105406633349\n",
      "#########################################################\n",
      "Epoch 7\n",
      "Training Loss 0.6923808455467224\n",
      "Training Accuracy 0.514311676510677\n",
      "#########################################################\n",
      "Epoch 8\n",
      "Training Loss 0.6917523741722107\n",
      "Training Accuracy 0.5274875056792367\n",
      "#########################################################\n",
      "Epoch 9\n",
      "Training Loss 0.6918603181838989\n",
      "Training Accuracy 0.5236256247160381\n",
      "#########################################################\n",
      "Epoch 10\n",
      "Training Loss 0.6915801167488098\n",
      "Training Accuracy 0.5202180826896865\n",
      "#########################################################\n",
      "Epoch 11\n",
      "Training Loss 0.6914637684822083\n",
      "Training Accuracy 0.516356201726488\n",
      "#########################################################\n",
      "Epoch 12\n",
      "Training Loss 0.6907983422279358\n",
      "Training Accuracy 0.5336210813266697\n",
      "#########################################################\n",
      "Epoch 13\n",
      "Training Loss 0.6909258365631104\n",
      "Training Accuracy 0.5290776919582009\n",
      "#########################################################\n",
      "Epoch 14\n",
      "Training Loss 0.6902723908424377\n",
      "Training Accuracy 0.5399818264425261\n",
      "#########################################################\n",
      "Epoch 15\n",
      "Training Loss 0.6898613572120667\n",
      "Training Accuracy 0.5379373012267151\n",
      "#########################################################\n",
      "Epoch 16\n",
      "Training Loss 0.6892672777175903\n",
      "Training Accuracy 0.5499772830531576\n",
      "#########################################################\n",
      "Epoch 17\n",
      "Training Loss 0.6875002980232239\n",
      "Training Accuracy 0.5642889595638346\n",
      "#########################################################\n",
      "Epoch 18\n",
      "Training Loss 0.6876339912414551\n",
      "Training Accuracy 0.5651976374375284\n",
      "#########################################################\n",
      "Epoch 19\n",
      "Training Loss 0.6863315105438232\n",
      "Training Accuracy 0.580872330758746\n",
      "#########################################################\n",
      "Epoch 20\n",
      "Training Loss 0.6860644221305847\n",
      "Training Accuracy 0.5781462971376647\n",
      "#########################################################\n",
      "Epoch 21\n",
      "Training Loss 0.6855736970901489\n",
      "Training Accuracy 0.591094956837801\n",
      "#########################################################\n",
      "Epoch 22\n",
      "Training Loss 0.6840553283691406\n",
      "Training Accuracy 0.5979100408905044\n",
      "#########################################################\n",
      "Epoch 23\n",
      "Training Loss 0.6826791763305664\n",
      "Training Accuracy 0.5929123125851885\n",
      "#########################################################\n",
      "Epoch 24\n",
      "Training Loss 0.6818962097167969\n",
      "Training Accuracy 0.599273057701045\n",
      "#########################################################\n",
      "Epoch 25\n",
      "Training Loss 0.6791990995407104\n",
      "Training Accuracy 0.6099500227169469\n",
      "#########################################################\n",
      "Epoch 26\n",
      "Training Loss 0.6780807971954346\n",
      "Training Accuracy 0.6060881417537483\n",
      "#########################################################\n",
      "Epoch 27\n",
      "Training Loss 0.6779329180717468\n",
      "Training Accuracy 0.599273057701045\n",
      "#########################################################\n",
      "Epoch 28\n",
      "Training Loss 0.6745916604995728\n",
      "Training Accuracy 0.6097228532485234\n",
      "#########################################################\n",
      "Epoch 29\n",
      "Training Loss 0.6736224293708801\n",
      "Training Accuracy 0.6094956837801\n",
      "#########################################################\n",
      "Epoch 30\n",
      "Training Loss 0.6687889099121094\n",
      "Training Accuracy 0.6206269877328487\n",
      "#########################################################\n",
      "Epoch 31\n",
      "Training Loss 0.6698367595672607\n",
      "Training Accuracy 0.6219900045433894\n",
      "#########################################################\n",
      "Epoch 32\n",
      "Training Loss 0.6658666133880615\n",
      "Training Accuracy 0.6174466151749205\n",
      "#########################################################\n",
      "Epoch 33\n",
      "Training Loss 0.6620755791664124\n",
      "Training Accuracy 0.6226715129486597\n",
      "#########################################################\n",
      "Epoch 34\n",
      "Training Loss 0.6613044142723083\n",
      "Training Accuracy 0.6231258518855066\n",
      "#########################################################\n",
      "Epoch 35\n",
      "Training Loss 0.6594813466072083\n",
      "Training Accuracy 0.6163107678328033\n",
      "#########################################################\n",
      "Epoch 36\n",
      "Training Loss 0.6533889770507812\n",
      "Training Accuracy 0.6235801908223535\n",
      "#########################################################\n",
      "Epoch 37\n",
      "Training Loss 0.6518664956092834\n",
      "Training Accuracy 0.6219900045433894\n",
      "#########################################################\n",
      "Epoch 38\n",
      "Training Loss 0.6491708159446716\n",
      "Training Accuracy 0.6322126306224444\n",
      "#########################################################\n",
      "Epoch 39\n",
      "Training Loss 0.6458909511566162\n",
      "Training Accuracy 0.6333484779645616\n",
      "#########################################################\n",
      "Epoch 40\n",
      "Training Loss 0.6442703008651733\n",
      "Training Accuracy 0.6363016810540664\n",
      "#########################################################\n",
      "Epoch 41\n",
      "Training Loss 0.6417751908302307\n",
      "Training Accuracy 0.6278964107223989\n",
      "#########################################################\n",
      "Epoch 42\n",
      "Training Loss 0.6401282548904419\n",
      "Training Accuracy 0.6303952748750568\n",
      "#########################################################\n",
      "Epoch 43\n",
      "Training Loss 0.6340903043746948\n",
      "Training Accuracy 0.6349386642435256\n",
      "#########################################################\n",
      "Epoch 44\n",
      "Training Loss 0.6303325295448303\n",
      "Training Accuracy 0.6388005452067242\n",
      "#########################################################\n",
      "Epoch 45\n",
      "Training Loss 0.6302859783172607\n",
      "Training Accuracy 0.6399363925488414\n",
      "#########################################################\n",
      "Epoch 46\n",
      "Training Loss 0.6311226487159729\n",
      "Training Accuracy 0.6403907314856884\n",
      "#########################################################\n",
      "Epoch 47\n",
      "Training Loss 0.6259044408798218\n",
      "Training Accuracy 0.6474329850068151\n",
      "#########################################################\n",
      "Epoch 48\n",
      "Training Loss 0.6256328225135803\n",
      "Training Accuracy 0.6501590186278964\n",
      "#########################################################\n",
      "Epoch 49\n",
      "Training Loss 0.623456597328186\n",
      "Training Accuracy 0.6542480690595184\n",
      "#########################################################\n",
      "Epoch 50\n",
      "Training Loss 0.616534948348999\n",
      "Training Accuracy 0.659700136301681\n",
      "#########################################################\n",
      "Epoch 51\n",
      "Training Loss 0.6163574457168579\n",
      "Training Accuracy 0.654020899591095\n",
      "#########################################################\n",
      "Epoch 52\n",
      "Training Loss 0.6170006394386292\n",
      "Training Accuracy 0.6583371194911404\n",
      "#########################################################\n",
      "Epoch 53\n",
      "Training Loss 0.6148352026939392\n",
      "Training Accuracy 0.6556110858700591\n",
      "#########################################################\n",
      "Epoch 54\n",
      "Training Loss 0.6117331981658936\n",
      "Training Accuracy 0.6619718309859155\n",
      "#########################################################\n",
      "Epoch 55\n",
      "Training Loss 0.6094237565994263\n",
      "Training Accuracy 0.6665152203543844\n",
      "#########################################################\n",
      "Epoch 56\n",
      "Training Loss 0.6069609522819519\n",
      "Training Accuracy 0.6674238982280781\n",
      "#########################################################\n",
      "Epoch 57\n",
      "Training Loss 0.6084768176078796\n",
      "Training Accuracy 0.6694684234438891\n",
      "#########################################################\n",
      "Epoch 58\n",
      "Training Loss 0.6024237871170044\n",
      "Training Accuracy 0.6737846433439346\n",
      "#########################################################\n",
      "Epoch 59\n",
      "Training Loss 0.6004058122634888\n",
      "Training Accuracy 0.6735574738755111\n",
      "#########################################################\n",
      "Epoch 60\n",
      "Training Loss 0.6013601422309875\n",
      "Training Accuracy 0.6733303044070876\n",
      "#########################################################\n",
      "Epoch 61\n",
      "Training Loss 0.5976519584655762\n",
      "Training Accuracy 0.6771921853702862\n",
      "#########################################################\n",
      "Epoch 62\n",
      "Training Loss 0.5950556993484497\n",
      "Training Accuracy 0.6828714220808724\n",
      "#########################################################\n",
      "Epoch 63\n",
      "Training Loss 0.5914303064346313\n",
      "Training Accuracy 0.684234438891413\n",
      "#########################################################\n",
      "Epoch 64\n",
      "Training Loss 0.5901992321014404\n",
      "Training Accuracy 0.6796910495229441\n",
      "#########################################################\n",
      "Epoch 65\n",
      "Training Loss 0.5897265076637268\n",
      "Training Accuracy 0.6799182189913675\n",
      "#########################################################\n",
      "Epoch 66\n",
      "Training Loss 0.5846198201179504\n",
      "Training Accuracy 0.6974102680599727\n",
      "#########################################################\n",
      "Epoch 67\n",
      "Training Loss 0.5843901038169861\n",
      "Training Accuracy 0.6869604725124944\n",
      "#########################################################\n",
      "Epoch 68\n",
      "Training Loss 0.5869312286376953\n",
      "Training Accuracy 0.6860517946388005\n",
      "#########################################################\n",
      "Epoch 69\n",
      "Training Loss 0.5800488591194153\n",
      "Training Accuracy 0.6976374375283961\n",
      "#########################################################\n",
      "Epoch 70\n",
      "Training Loss 0.5783947706222534\n",
      "Training Accuracy 0.6942298955020445\n",
      "#########################################################\n",
      "Epoch 71\n",
      "Training Loss 0.5785265564918518\n",
      "Training Accuracy 0.7010449795547479\n",
      "#########################################################\n",
      "Epoch 72\n",
      "Training Loss 0.5766184329986572\n",
      "Training Accuracy 0.6978646069968196\n",
      "#########################################################\n",
      "Epoch 73\n",
      "Training Loss 0.5701313614845276\n",
      "Training Accuracy 0.7049068605179464\n",
      "#########################################################\n",
      "Epoch 74\n",
      "Training Loss 0.5686244964599609\n",
      "Training Accuracy 0.7053611994547933\n",
      "#########################################################\n",
      "Epoch 75\n",
      "Training Loss 0.5670756101608276\n",
      "Training Accuracy 0.7064970467969105\n",
      "#########################################################\n",
      "Epoch 76\n",
      "Training Loss 0.5644410848617554\n",
      "Training Accuracy 0.7139936392548841\n",
      "#########################################################\n",
      "Epoch 77\n",
      "Training Loss 0.559318482875824\n",
      "Training Accuracy 0.7119491140390731\n",
      "#########################################################\n",
      "Epoch 78\n",
      "Training Loss 0.5636718273162842\n",
      "Training Accuracy 0.7155838255338483\n",
      "#########################################################\n",
      "Epoch 79\n",
      "Training Loss 0.5588244199752808\n",
      "Training Accuracy 0.7169468423443889\n",
      "#########################################################\n",
      "Epoch 80\n",
      "Training Loss 0.558459460735321\n",
      "Training Accuracy 0.714447978191731\n",
      "#########################################################\n",
      "Epoch 81\n",
      "Training Loss 0.5578554272651672\n",
      "Training Accuracy 0.7171740118128124\n",
      "#########################################################\n",
      "Epoch 82\n",
      "Training Loss 0.5492112040519714\n",
      "Training Accuracy 0.7251249432076329\n",
      "#########################################################\n",
      "Epoch 83\n",
      "Training Loss 0.5548325181007385\n",
      "Training Accuracy 0.7155838255338483\n",
      "#########################################################\n",
      "Epoch 84\n",
      "Training Loss 0.5502305030822754\n",
      "Training Accuracy 0.7230804179918219\n",
      "#########################################################\n",
      "Epoch 85\n",
      "Training Loss 0.547964334487915\n",
      "Training Accuracy 0.724670604270786\n",
      "#########################################################\n",
      "Epoch 86\n",
      "Training Loss 0.5455929040908813\n",
      "Training Accuracy 0.728759654702408\n",
      "#########################################################\n",
      "Epoch 87\n",
      "Training Loss 0.5458218455314636\n",
      "Training Accuracy 0.7248977737392095\n",
      "#########################################################\n",
      "Epoch 88\n",
      "Training Loss 0.5439715385437012\n",
      "Training Accuracy 0.7255792821444798\n",
      "#########################################################\n",
      "Epoch 89\n",
      "Training Loss 0.5366827249526978\n",
      "Training Accuracy 0.7337573830077238\n",
      "#########################################################\n",
      "Epoch 90\n",
      "Training Loss 0.531181812286377\n",
      "Training Accuracy 0.736937755565652\n",
      "#########################################################\n",
      "Epoch 91\n",
      "Training Loss 0.5363475680351257\n",
      "Training Accuracy 0.7312585188550659\n",
      "#########################################################\n",
      "Epoch 92\n",
      "Training Loss 0.528905987739563\n",
      "Training Accuracy 0.7442071785552021\n",
      "#########################################################\n",
      "Epoch 93\n",
      "Training Loss 0.5311689972877502\n",
      "Training Accuracy 0.7383007723761926\n",
      "#########################################################\n",
      "Epoch 94\n",
      "Training Loss 0.526890218257904\n",
      "Training Accuracy 0.7394366197183099\n",
      "#########################################################\n",
      "Epoch 95\n",
      "Training Loss 0.5275130271911621\n",
      "Training Accuracy 0.7417083144025443\n",
      "#########################################################\n",
      "Epoch 96\n",
      "Training Loss 0.5213442444801331\n",
      "Training Accuracy 0.7517037710131759\n",
      "#########################################################\n",
      "Epoch 97\n",
      "Training Loss 0.5224088430404663\n",
      "Training Accuracy 0.7439800090867787\n",
      "#########################################################\n",
      "Epoch 98\n",
      "Training Loss 0.5131198167800903\n",
      "Training Accuracy 0.7469332121762835\n",
      "#########################################################\n",
      "Epoch 99\n",
      "Training Loss 0.5160768032073975\n",
      "Training Accuracy 0.7498864152657883\n",
      "#########################################################\n",
      "Epoch 100\n",
      "Training Loss 0.5134071111679077\n",
      "Training Accuracy 0.7544298046342571\n",
      "#########################################################\n",
      "Epoch 101\n",
      "Training Loss 0.5108559727668762\n",
      "Training Accuracy 0.7523852794184461\n",
      "#########################################################\n",
      "Epoch 102\n",
      "Training Loss 0.5053434371948242\n",
      "Training Accuracy 0.7567014993184916\n",
      "#########################################################\n",
      "Epoch 103\n",
      "Training Loss 0.5070865154266357\n",
      "Training Accuracy 0.7560199909132213\n",
      "#########################################################\n",
      "Epoch 104\n",
      "Training Loss 0.4992888271808624\n",
      "Training Accuracy 0.7621535665606542\n",
      "#########################################################\n",
      "Epoch 105\n",
      "Training Loss 0.5007942318916321\n",
      "Training Accuracy 0.7632894139027715\n",
      "#########################################################\n",
      "Epoch 106\n",
      "Training Loss 0.4972967505455017\n",
      "Training Accuracy 0.7621535665606542\n",
      "#########################################################\n",
      "Epoch 107\n",
      "Training Loss 0.4954926669597626\n",
      "Training Accuracy 0.7592003634711495\n",
      "#########################################################\n",
      "Epoch 108\n",
      "Training Loss 0.4930412173271179\n",
      "Training Accuracy 0.7641980917764652\n",
      "#########################################################\n",
      "Epoch 109\n",
      "Training Loss 0.4892089366912842\n",
      "Training Accuracy 0.7755565651976375\n",
      "#########################################################\n",
      "Epoch 110\n",
      "Training Loss 0.48818913102149963\n",
      "Training Accuracy 0.7766924125397546\n",
      "#########################################################\n",
      "Epoch 111\n",
      "Training Loss 0.4845355153083801\n",
      "Training Accuracy 0.7698773284870514\n",
      "#########################################################\n",
      "Epoch 112\n",
      "Training Loss 0.47995251417160034\n",
      "Training Accuracy 0.7757837346660609\n",
      "#########################################################\n",
      "Epoch 113\n",
      "Training Loss 0.47326594591140747\n",
      "Training Accuracy 0.7778282598818719\n",
      "#########################################################\n",
      "Epoch 114\n",
      "Training Loss 0.4812145233154297\n",
      "Training Accuracy 0.7719218537028624\n",
      "#########################################################\n",
      "Epoch 115\n",
      "Training Loss 0.4745329022407532\n",
      "Training Accuracy 0.7760109041344844\n",
      "#########################################################\n",
      "Epoch 116\n",
      "Training Loss 0.47099584341049194\n",
      "Training Accuracy 0.7800999545661064\n",
      "#########################################################\n",
      "Epoch 117\n",
      "Training Loss 0.46270880103111267\n",
      "Training Accuracy 0.7869150386188096\n",
      "#########################################################\n",
      "Epoch 118\n",
      "Training Loss 0.46383875608444214\n",
      "Training Accuracy 0.78759654702408\n",
      "#########################################################\n",
      "Epoch 119\n",
      "Training Loss 0.4619106352329254\n",
      "Training Accuracy 0.7825988187187642\n",
      "#########################################################\n",
      "Epoch 120\n",
      "Training Loss 0.46036866307258606\n",
      "Training Accuracy 0.7812358019082235\n",
      "#########################################################\n",
      "Epoch 121\n",
      "Training Loss 0.4539639353752136\n",
      "Training Accuracy 0.793730122671513\n",
      "#########################################################\n",
      "Epoch 122\n",
      "Training Loss 0.45496228337287903\n",
      "Training Accuracy 0.7925942753293957\n",
      "#########################################################\n",
      "Epoch 123\n",
      "Training Loss 0.4510818421840668\n",
      "Training Accuracy 0.7971376646978646\n",
      "#########################################################\n",
      "Epoch 124\n",
      "Training Loss 0.45014727115631104\n",
      "Training Accuracy 0.7930486142662426\n",
      "#########################################################\n",
      "Epoch 125\n",
      "Training Loss 0.4453035891056061\n",
      "Training Accuracy 0.7975920036347115\n",
      "#########################################################\n",
      "Epoch 126\n",
      "Training Loss 0.4425804913043976\n",
      "Training Accuracy 0.7962289868241709\n",
      "#########################################################\n",
      "Epoch 127\n",
      "Training Loss 0.4413837194442749\n",
      "Training Accuracy 0.7989550204452521\n",
      "#########################################################\n",
      "Epoch 128\n",
      "Training Loss 0.4420967996120453\n",
      "Training Accuracy 0.8048614266242617\n",
      "#########################################################\n",
      "Epoch 129\n",
      "Training Loss 0.4350551962852478\n",
      "Training Accuracy 0.8012267151294866\n",
      "#########################################################\n",
      "Epoch 130\n",
      "Training Loss 0.4359232485294342\n",
      "Training Accuracy 0.8023625624716039\n",
      "#########################################################\n",
      "Epoch 131\n",
      "Training Loss 0.4326923191547394\n",
      "Training Accuracy 0.8021353930031804\n",
      "#########################################################\n",
      "Epoch 132\n",
      "Training Loss 0.427359014749527\n",
      "Training Accuracy 0.8089504770558837\n",
      "#########################################################\n",
      "Epoch 133\n",
      "Training Loss 0.4202357530593872\n",
      "Training Accuracy 0.8109950022716946\n",
      "#########################################################\n",
      "Epoch 134\n",
      "Training Loss 0.4228348731994629\n",
      "Training Accuracy 0.8134938664243526\n",
      "#########################################################\n",
      "Epoch 135\n",
      "Training Loss 0.4180747866630554\n",
      "Training Accuracy 0.8109950022716946\n",
      "#########################################################\n",
      "Epoch 136\n",
      "Training Loss 0.4139055609703064\n",
      "Training Accuracy 0.8171285779191276\n",
      "#########################################################\n",
      "Epoch 137\n",
      "Training Loss 0.4064083993434906\n",
      "Training Accuracy 0.8169014084507042\n",
      "#########################################################\n",
      "Epoch 138\n",
      "Training Loss 0.41672539710998535\n",
      "Training Accuracy 0.8091776465243071\n",
      "#########################################################\n",
      "Epoch 139\n",
      "Training Loss 0.41520875692367554\n",
      "Training Accuracy 0.8180372557928215\n",
      "#########################################################\n",
      "Epoch 140\n",
      "Training Loss 0.4069327414035797\n",
      "Training Accuracy 0.8203089504770559\n",
      "#########################################################\n",
      "Epoch 141\n",
      "Training Loss 0.4124273657798767\n",
      "Training Accuracy 0.8125851885506588\n",
      "#########################################################\n",
      "Epoch 142\n",
      "Training Loss 0.39723172783851624\n",
      "Training Accuracy 0.8234893230349841\n",
      "#########################################################\n",
      "Epoch 143\n",
      "Training Loss 0.40211251378059387\n",
      "Training Accuracy 0.8162199000454339\n",
      "#########################################################\n",
      "Epoch 144\n",
      "Training Loss 0.39762288331985474\n",
      "Training Accuracy 0.8216719672875965\n",
      "#########################################################\n",
      "Epoch 145\n",
      "Training Loss 0.3956066370010376\n",
      "Training Accuracy 0.8212176283507496\n",
      "#########################################################\n",
      "Epoch 146\n",
      "Training Loss 0.38784506916999817\n",
      "Training Accuracy 0.8289413902771468\n",
      "#########################################################\n",
      "Epoch 147\n",
      "Training Loss 0.3855806589126587\n",
      "Training Accuracy 0.8318945933666515\n",
      "#########################################################\n",
      "Epoch 148\n",
      "Training Loss 0.39057931303977966\n",
      "Training Accuracy 0.8268968650613358\n",
      "#########################################################\n",
      "Epoch 149\n",
      "Training Loss 0.3890020549297333\n",
      "Training Accuracy 0.823943661971831\n",
      "#########################################################\n",
      "Epoch 150\n",
      "Training Loss 0.38039302825927734\n",
      "Training Accuracy 0.8330304407087687\n",
      "#########################################################\n",
      "Epoch 151\n",
      "Training Loss 0.3724246323108673\n",
      "Training Accuracy 0.8355293048614266\n",
      "#########################################################\n",
      "Epoch 152\n",
      "Training Loss 0.37064817547798157\n",
      "Training Accuracy 0.8409813721035893\n",
      "#########################################################\n",
      "Epoch 153\n",
      "Training Loss 0.37527039647102356\n",
      "Training Accuracy 0.84234438891413\n",
      "#########################################################\n",
      "Epoch 154\n",
      "Training Loss 0.36600130796432495\n",
      "Training Accuracy 0.8491594729668333\n",
      "#########################################################\n",
      "Epoch 155\n",
      "Training Loss 0.3753823935985565\n",
      "Training Accuracy 0.8357564743298501\n",
      "#########################################################\n",
      "Epoch 156\n",
      "Training Loss 0.3542703092098236\n",
      "Training Accuracy 0.8514311676510677\n",
      "#########################################################\n",
      "Epoch 157\n",
      "Training Loss 0.3561479151248932\n",
      "Training Accuracy 0.843934575193094\n",
      "#########################################################\n",
      "Epoch 158\n",
      "Training Loss 0.3656105399131775\n",
      "Training Accuracy 0.8443889141299409\n",
      "#########################################################\n",
      "Epoch 159\n",
      "Training Loss 0.3544910252094269\n",
      "Training Accuracy 0.8527941844616084\n",
      "#########################################################\n",
      "Epoch 160\n",
      "Training Loss 0.35038119554519653\n",
      "Training Accuracy 0.8475692866878691\n",
      "#########################################################\n",
      "Epoch 161\n",
      "Training Loss 0.3562704026699066\n",
      "Training Accuracy 0.8432530667878237\n",
      "#########################################################\n",
      "Epoch 162\n",
      "Training Loss 0.3447593152523041\n",
      "Training Accuracy 0.8534756928668787\n",
      "#########################################################\n",
      "Epoch 163\n",
      "Training Loss 0.3512396514415741\n",
      "Training Accuracy 0.8466606088141754\n",
      "#########################################################\n",
      "Epoch 164\n",
      "Training Loss 0.34471550583839417\n",
      "Training Accuracy 0.852112676056338\n",
      "#########################################################\n",
      "Epoch 165\n",
      "Training Loss 0.33834531903266907\n",
      "Training Accuracy 0.8568832348932304\n",
      "#########################################################\n",
      "Epoch 166\n",
      "Training Loss 0.34186914563179016\n",
      "Training Accuracy 0.8543843707405725\n",
      "#########################################################\n",
      "Epoch 167\n",
      "Training Loss 0.3382846713066101\n",
      "Training Accuracy 0.8557473875511131\n",
      "#########################################################\n",
      "Epoch 168\n",
      "Training Loss 0.3325037956237793\n",
      "Training Accuracy 0.8605179463880055\n",
      "#########################################################\n",
      "Epoch 169\n",
      "Training Loss 0.33387717604637146\n",
      "Training Accuracy 0.8552930486142662\n",
      "#########################################################\n",
      "Epoch 170\n",
      "Training Loss 0.3351885974407196\n",
      "Training Accuracy 0.8593820990458882\n",
      "#########################################################\n",
      "Epoch 171\n",
      "Training Loss 0.32239270210266113\n",
      "Training Accuracy 0.8591549295774648\n",
      "#########################################################\n",
      "Epoch 172\n",
      "Training Loss 0.32334810495376587\n",
      "Training Accuracy 0.8609722853248524\n",
      "#########################################################\n",
      "Epoch 173\n",
      "Training Loss 0.3183290958404541\n",
      "Training Accuracy 0.8655156746933212\n",
      "#########################################################\n",
      "Epoch 174\n",
      "Training Loss 0.3206941783428192\n",
      "Training Accuracy 0.8652885052248978\n",
      "#########################################################\n",
      "Epoch 175\n",
      "Training Loss 0.31387391686439514\n",
      "Training Accuracy 0.8680145388459791\n",
      "#########################################################\n",
      "Epoch 176\n",
      "Training Loss 0.31464260816574097\n",
      "Training Accuracy 0.864379827351204\n",
      "#########################################################\n",
      "Epoch 177\n",
      "Training Loss 0.31063777208328247\n",
      "Training Accuracy 0.8741481144934121\n",
      "#########################################################\n",
      "Epoch 178\n",
      "Training Loss 0.30931705236434937\n",
      "Training Accuracy 0.8732394366197183\n",
      "#########################################################\n",
      "Epoch 179\n",
      "Training Loss 0.30970299243927\n",
      "Training Accuracy 0.872557928214448\n",
      "#########################################################\n",
      "Epoch 180\n",
      "Training Loss 0.31229209899902344\n",
      "Training Accuracy 0.8691503861880964\n",
      "#########################################################\n",
      "Epoch 181\n",
      "Training Loss 0.2826881408691406\n",
      "Training Accuracy 0.8877782825988187\n",
      "#########################################################\n",
      "Epoch 182\n",
      "Training Loss 0.3077999949455261\n",
      "Training Accuracy 0.8680145388459791\n",
      "#########################################################\n",
      "Epoch 183\n",
      "Training Loss 0.30164045095443726\n",
      "Training Accuracy 0.8714220808723308\n",
      "#########################################################\n",
      "Epoch 184\n",
      "Training Loss 0.29027172923088074\n",
      "Training Accuracy 0.8757383007723762\n",
      "#########################################################\n",
      "Epoch 185\n",
      "Training Loss 0.29659348726272583\n",
      "Training Accuracy 0.8771013175829169\n",
      "#########################################################\n",
      "Epoch 186\n",
      "Training Loss 0.2996838688850403\n",
      "Training Accuracy 0.8714220808723308\n",
      "#########################################################\n",
      "Epoch 187\n",
      "Training Loss 0.29467061161994934\n",
      "Training Accuracy 0.8723307587460245\n",
      "#########################################################\n",
      "Epoch 188\n",
      "Training Loss 0.2912985682487488\n",
      "Training Accuracy 0.8809631985461154\n",
      "#########################################################\n",
      "Epoch 189\n",
      "Training Loss 0.28476667404174805\n",
      "Training Accuracy 0.8836892321671967\n",
      "#########################################################\n",
      "Epoch 190\n",
      "Training Loss 0.29278984665870667\n",
      "Training Accuracy 0.8732394366197183\n",
      "#########################################################\n",
      "Epoch 191\n",
      "Training Loss 0.2798992395401001\n",
      "Training Accuracy 0.8793730122671513\n",
      "#########################################################\n",
      "Epoch 192\n",
      "Training Loss 0.2834325134754181\n",
      "Training Accuracy 0.8818718764198091\n",
      "#########################################################\n",
      "Epoch 193\n",
      "Training Loss 0.2811461389064789\n",
      "Training Accuracy 0.8845979100408905\n",
      "#########################################################\n",
      "Epoch 194\n",
      "Training Loss 0.27388864755630493\n",
      "Training Accuracy 0.8898228078146297\n",
      "#########################################################\n",
      "Epoch 195\n",
      "Training Loss 0.2694568932056427\n",
      "Training Accuracy 0.8898228078146297\n",
      "#########################################################\n",
      "Epoch 196\n",
      "Training Loss 0.28041914105415344\n",
      "Training Accuracy 0.884370740572467\n",
      "#########################################################\n",
      "Epoch 197\n",
      "Training Loss 0.26170456409454346\n",
      "Training Accuracy 0.8859609268514311\n",
      "#########################################################\n",
      "Epoch 198\n",
      "Training Loss 0.2662505507469177\n",
      "Training Accuracy 0.8893684688777829\n",
      "#########################################################\n",
      "Epoch 199\n",
      "Training Loss 0.26433026790618896\n",
      "Training Accuracy 0.8930031803725579\n",
      "#########################################################\n",
      "Epoch 200\n",
      "Training Loss 0.26757773756980896\n",
      "Training Accuracy 0.8905043162199\n",
      "#########################################################\n",
      "Epoch 201\n",
      "Training Loss 0.26516592502593994\n",
      "Training Accuracy 0.8909586551567469\n",
      "#########################################################\n",
      "Epoch 202\n",
      "Training Loss 0.24912190437316895\n",
      "Training Accuracy 0.9018627896410722\n",
      "#########################################################\n",
      "Epoch 203\n",
      "Training Loss 0.24324966967105865\n",
      "Training Accuracy 0.8984552476147206\n",
      "#########################################################\n",
      "Epoch 204\n",
      "Training Loss 0.2543275058269501\n",
      "Training Accuracy 0.8952748750567924\n",
      "#########################################################\n",
      "Epoch 205\n",
      "Training Loss 0.2434474378824234\n",
      "Training Accuracy 0.8980009086778737\n",
      "#########################################################\n",
      "Epoch 206\n",
      "Training Loss 0.2564188838005066\n",
      "Training Accuracy 0.8982280781462971\n",
      "#########################################################\n",
      "Epoch 207\n",
      "Training Loss 0.24543121457099915\n",
      "Training Accuracy 0.9000454338936847\n",
      "#########################################################\n",
      "Epoch 208\n",
      "Training Loss 0.2469225972890854\n",
      "Training Accuracy 0.9023171285779191\n",
      "#########################################################\n",
      "Epoch 209\n",
      "Training Loss 0.2527329921722412\n",
      "Training Accuracy 0.896637891867333\n",
      "#########################################################\n",
      "Epoch 210\n",
      "Training Loss 0.24419614672660828\n",
      "Training Accuracy 0.8982280781462971\n",
      "#########################################################\n",
      "Epoch 211\n",
      "Training Loss 0.2401653528213501\n",
      "Training Accuracy 0.8993639254884144\n",
      "#########################################################\n",
      "Epoch 212\n",
      "Training Loss 0.24510037899017334\n",
      "Training Accuracy 0.8995910949568378\n",
      "#########################################################\n",
      "Epoch 213\n",
      "Training Loss 0.2376672327518463\n",
      "Training Accuracy 0.9050431621990005\n",
      "#########################################################\n",
      "Epoch 214\n",
      "Training Loss 0.23584145307540894\n",
      "Training Accuracy 0.9057246706042708\n",
      "#########################################################\n",
      "Epoch 215\n",
      "Training Loss 0.23556381464004517\n",
      "Training Accuracy 0.9075420263516584\n",
      "#########################################################\n",
      "Epoch 216\n",
      "Training Loss 0.22112195193767548\n",
      "Training Accuracy 0.9064061790095411\n",
      "#########################################################\n",
      "Epoch 217\n",
      "Training Loss 0.22914500534534454\n",
      "Training Accuracy 0.9082235347569286\n",
      "#########################################################\n",
      "Epoch 218\n",
      "Training Loss 0.2269972413778305\n",
      "Training Accuracy 0.9070876874148115\n",
      "#########################################################\n",
      "Epoch 219\n",
      "Training Loss 0.222248837351799\n",
      "Training Accuracy 0.9127669241253975\n",
      "#########################################################\n",
      "Epoch 220\n",
      "Training Loss 0.22226913273334503\n",
      "Training Accuracy 0.91094956837801\n",
      "#########################################################\n",
      "Epoch 221\n",
      "Training Loss 0.21919818222522736\n",
      "Training Accuracy 0.9107223989095865\n",
      "#########################################################\n",
      "Epoch 222\n",
      "Training Loss 0.21966128051280975\n",
      "Training Accuracy 0.9100408905043162\n",
      "#########################################################\n",
      "Epoch 223\n",
      "Training Loss 0.21306277811527252\n",
      "Training Accuracy 0.9173103134938664\n",
      "#########################################################\n",
      "Epoch 224\n",
      "Training Loss 0.2076648324728012\n",
      "Training Accuracy 0.9166288050885961\n",
      "#########################################################\n",
      "Epoch 225\n",
      "Training Loss 0.219143345952034\n",
      "Training Accuracy 0.9148114493412085\n",
      "#########################################################\n",
      "Epoch 226\n",
      "Training Loss 0.22239527106285095\n",
      "Training Accuracy 0.9098137210358928\n",
      "#########################################################\n",
      "Epoch 227\n",
      "Training Loss 0.20427146553993225\n",
      "Training Accuracy 0.9173103134938664\n",
      "#########################################################\n",
      "Epoch 228\n",
      "Training Loss 0.2142162322998047\n",
      "Training Accuracy 0.9125397546569741\n",
      "#########################################################\n",
      "Epoch 229\n",
      "Training Loss 0.2108100801706314\n",
      "Training Accuracy 0.9139027714675148\n",
      "#########################################################\n",
      "Epoch 230\n",
      "Training Loss 0.20309989154338837\n",
      "Training Accuracy 0.9186733303044071\n",
      "#########################################################\n",
      "Epoch 231\n",
      "Training Loss 0.20680184662342072\n",
      "Training Accuracy 0.9189004997728305\n",
      "#########################################################\n",
      "Epoch 232\n",
      "Training Loss 0.2029324322938919\n",
      "Training Accuracy 0.9236710586097229\n",
      "#########################################################\n",
      "Epoch 233\n",
      "Training Loss 0.19992691278457642\n",
      "Training Accuracy 0.9195820081781009\n",
      "#########################################################\n",
      "Epoch 234\n",
      "Training Loss 0.20505505800247192\n",
      "Training Accuracy 0.912994093593821\n",
      "#########################################################\n",
      "Epoch 235\n",
      "Training Loss 0.18832503259181976\n",
      "Training Accuracy 0.9254884143571104\n",
      "#########################################################\n",
      "Epoch 236\n",
      "Training Loss 0.19462409615516663\n",
      "Training Accuracy 0.9200363471149478\n",
      "#########################################################\n",
      "Epoch 237\n",
      "Training Loss 0.1904836744070053\n",
      "Training Accuracy 0.9261699227623807\n",
      "#########################################################\n",
      "Epoch 238\n",
      "Training Loss 0.19134366512298584\n",
      "Training Accuracy 0.9195820081781009\n",
      "#########################################################\n",
      "Epoch 239\n",
      "Training Loss 0.1915755718946457\n",
      "Training Accuracy 0.9245797364834166\n",
      "#########################################################\n",
      "Epoch 240\n",
      "Training Loss 0.19222749769687653\n",
      "Training Accuracy 0.9263970922308041\n",
      "#########################################################\n",
      "Epoch 241\n",
      "Training Loss 0.19623008370399475\n",
      "Training Accuracy 0.9204906860517946\n",
      "#########################################################\n",
      "Epoch 242\n",
      "Training Loss 0.1923050582408905\n",
      "Training Accuracy 0.9198091776465243\n",
      "#########################################################\n",
      "Epoch 243\n",
      "Training Loss 0.18676289916038513\n",
      "Training Accuracy 0.9286687869150386\n",
      "#########################################################\n",
      "Epoch 244\n",
      "Training Loss 0.19058720767498016\n",
      "Training Accuracy 0.9270786006360745\n",
      "#########################################################\n",
      "Epoch 245\n",
      "Training Loss 0.19159118831157684\n",
      "Training Accuracy 0.921172194457065\n",
      "#########################################################\n",
      "Epoch 246\n",
      "Training Loss 0.18430571258068085\n",
      "Training Accuracy 0.9275329395729214\n",
      "#########################################################\n",
      "Epoch 247\n",
      "Training Loss 0.17406931519508362\n",
      "Training Accuracy 0.930940481599273\n",
      "#########################################################\n",
      "Epoch 248\n",
      "Training Loss 0.18854333460330963\n",
      "Training Accuracy 0.9238982280781463\n",
      "#########################################################\n",
      "Epoch 249\n",
      "Training Loss 0.1763782501220703\n",
      "Training Accuracy 0.9304861426624261\n",
      "#########################################################\n",
      "Epoch 250\n",
      "Training Loss 0.17938245832920074\n",
      "Training Accuracy 0.9282144479781917\n",
      "#########################################################\n",
      "Epoch 251\n",
      "Training Loss 0.17920935153961182\n",
      "Training Accuracy 0.9282144479781917\n",
      "#########################################################\n",
      "Epoch 252\n",
      "Training Loss 0.17223244905471802\n",
      "Training Accuracy 0.9336665152203544\n",
      "#########################################################\n",
      "Epoch 253\n",
      "Training Loss 0.16992416977882385\n",
      "Training Accuracy 0.9282144479781917\n",
      "#########################################################\n",
      "Epoch 254\n",
      "Training Loss 0.1677132546901703\n",
      "Training Accuracy 0.937074057246706\n",
      "#########################################################\n",
      "Epoch 255\n",
      "Training Loss 0.1750197559595108\n",
      "Training Accuracy 0.9338936846887779\n",
      "#########################################################\n",
      "Epoch 256\n",
      "Training Loss 0.16794469952583313\n",
      "Training Accuracy 0.932985006815084\n",
      "#########################################################\n",
      "Epoch 257\n",
      "Training Loss 0.17274919152259827\n",
      "Training Accuracy 0.929350295320309\n",
      "#########################################################\n",
      "Epoch 258\n",
      "Training Loss 0.1583947092294693\n",
      "Training Accuracy 0.9379827351203999\n",
      "#########################################################\n",
      "Epoch 259\n",
      "Training Loss 0.1667778342962265\n",
      "Training Accuracy 0.9325306678782371\n",
      "#########################################################\n",
      "Epoch 260\n",
      "Training Loss 0.1564132571220398\n",
      "Training Accuracy 0.9400272603362109\n",
      "#########################################################\n",
      "Epoch 261\n",
      "Training Loss 0.16111986339092255\n",
      "Training Accuracy 0.9357110404361654\n",
      "#########################################################\n",
      "Epoch 262\n",
      "Training Loss 0.15807226300239563\n",
      "Training Accuracy 0.9384370740572467\n",
      "#########################################################\n",
      "Epoch 263\n",
      "Training Loss 0.16338743269443512\n",
      "Training Accuracy 0.9327578373466606\n",
      "#########################################################\n",
      "Epoch 264\n",
      "Training Loss 0.1589427888393402\n",
      "Training Accuracy 0.9393457519309405\n",
      "#########################################################\n",
      "Epoch 265\n",
      "Training Loss 0.1578412652015686\n",
      "Training Accuracy 0.9379827351203999\n",
      "#########################################################\n",
      "Epoch 266\n",
      "Training Loss 0.16527751088142395\n",
      "Training Accuracy 0.9323034984098137\n",
      "#########################################################\n",
      "Epoch 267\n",
      "Training Loss 0.14948825538158417\n",
      "Training Accuracy 0.943207632894139\n",
      "#########################################################\n",
      "Epoch 268\n",
      "Training Loss 0.15398326516151428\n",
      "Training Accuracy 0.9418446160835984\n",
      "#########################################################\n",
      "Epoch 269\n",
      "Training Loss 0.14735911786556244\n",
      "Training Accuracy 0.9463880054520672\n",
      "#########################################################\n",
      "Epoch 270\n",
      "Training Loss 0.1522848755121231\n",
      "Training Accuracy 0.9398000908677874\n",
      "#########################################################\n",
      "Epoch 271\n",
      "Training Loss 0.16375257074832916\n",
      "Training Accuracy 0.9363925488414357\n",
      "#########################################################\n",
      "Epoch 272\n",
      "Training Loss 0.14575350284576416\n",
      "Training Accuracy 0.9470695138573376\n",
      "#########################################################\n",
      "Epoch 273\n",
      "Training Loss 0.13797733187675476\n",
      "Training Accuracy 0.9475238527941845\n",
      "#########################################################\n",
      "Epoch 274\n",
      "Training Loss 0.15748007595539093\n",
      "Training Accuracy 0.9373012267151295\n",
      "#########################################################\n",
      "Epoch 275\n",
      "Training Loss 0.14475180208683014\n",
      "Training Accuracy 0.9425261244888687\n",
      "#########################################################\n",
      "Epoch 276\n",
      "Training Loss 0.15367043018341064\n",
      "Training Accuracy 0.9402544298046343\n",
      "#########################################################\n",
      "Epoch 277\n",
      "Training Loss 0.1364486813545227\n",
      "Training Accuracy 0.9468423443889141\n",
      "#########################################################\n",
      "Epoch 278\n",
      "Training Loss 0.14596246182918549\n",
      "Training Accuracy 0.94525215810995\n",
      "#########################################################\n",
      "Epoch 279\n",
      "Training Loss 0.14474351704120636\n",
      "Training Accuracy 0.9418446160835984\n",
      "#########################################################\n",
      "Epoch 280\n",
      "Training Loss 0.13365252315998077\n",
      "Training Accuracy 0.9479781917310314\n",
      "#########################################################\n",
      "Epoch 281\n",
      "Training Loss 0.14484788477420807\n",
      "Training Accuracy 0.9425261244888687\n",
      "#########################################################\n",
      "Epoch 282\n",
      "Training Loss 0.14506448805332184\n",
      "Training Accuracy 0.9445706497046797\n",
      "#########################################################\n",
      "Epoch 283\n",
      "Training Loss 0.13310027122497559\n",
      "Training Accuracy 0.9459336665152204\n",
      "#########################################################\n",
      "Epoch 284\n",
      "Training Loss 0.1359199434518814\n",
      "Training Accuracy 0.94525215810995\n",
      "#########################################################\n",
      "Epoch 285\n",
      "Training Loss 0.13172565400600433\n",
      "Training Accuracy 0.9520672421626534\n",
      "#########################################################\n",
      "Epoch 286\n",
      "Training Loss 0.13699427247047424\n",
      "Training Accuracy 0.9461608359836438\n",
      "#########################################################\n",
      "Epoch 287\n",
      "Training Loss 0.12655606865882874\n",
      "Training Accuracy 0.9495683780099955\n",
      "#########################################################\n",
      "Epoch 288\n",
      "Training Loss 0.14415936172008514\n",
      "Training Accuracy 0.9422989550204453\n",
      "#########################################################\n",
      "Epoch 289\n",
      "Training Loss 0.12884819507598877\n",
      "Training Accuracy 0.9495683780099955\n",
      "#########################################################\n",
      "Epoch 290\n",
      "Training Loss 0.13328883051872253\n",
      "Training Accuracy 0.9482053611994548\n",
      "#########################################################\n",
      "Epoch 291\n",
      "Training Loss 0.13442568480968475\n",
      "Training Accuracy 0.9491140390731486\n",
      "#########################################################\n",
      "Epoch 292\n",
      "Training Loss 0.12019028514623642\n",
      "Training Accuracy 0.955474784189005\n",
      "#########################################################\n",
      "Epoch 293\n",
      "Training Loss 0.137241929769516\n",
      "Training Accuracy 0.9470695138573376\n",
      "#########################################################\n",
      "Epoch 294\n",
      "Training Loss 0.12896670401096344\n",
      "Training Accuracy 0.951385733757383\n",
      "#########################################################\n",
      "Epoch 295\n",
      "Training Loss 0.13056112825870514\n",
      "Training Accuracy 0.9484325306678782\n",
      "#########################################################\n",
      "Epoch 296\n",
      "Training Loss 0.13139794766902924\n",
      "Training Accuracy 0.9509313948205361\n",
      "#########################################################\n",
      "Epoch 297\n",
      "Training Loss 0.13319715857505798\n",
      "Training Accuracy 0.9507042253521126\n",
      "#########################################################\n",
      "Epoch 298\n",
      "Training Loss 0.1186910942196846\n",
      "Training Accuracy 0.955474784189005\n",
      "#########################################################\n",
      "Epoch 299\n",
      "Training Loss 0.119277223944664\n",
      "Training Accuracy 0.9547932757837346\n",
      "#########################################################\n",
      "Epoch 300\n",
      "Training Loss 0.11999019235372543\n",
      "Training Accuracy 0.9541117673784644\n",
      "#########################################################\n",
      "Epoch 301\n",
      "Training Loss 0.11444884538650513\n",
      "Training Accuracy 0.9568378009995456\n",
      "#########################################################\n",
      "Epoch 302\n",
      "Training Loss 0.12145008891820908\n",
      "Training Accuracy 0.9557019536574285\n",
      "#########################################################\n",
      "Epoch 303\n",
      "Training Loss 0.12557005882263184\n",
      "Training Accuracy 0.9509313948205361\n",
      "#########################################################\n",
      "Epoch 304\n",
      "Training Loss 0.11908326297998428\n",
      "Training Accuracy 0.953430258973194\n",
      "#########################################################\n",
      "Epoch 305\n",
      "Training Loss 0.12084328383207321\n",
      "Training Accuracy 0.9509313948205361\n",
      "#########################################################\n",
      "Epoch 306\n",
      "Training Loss 0.1211155354976654\n",
      "Training Accuracy 0.9532030895047705\n",
      "#########################################################\n",
      "Epoch 307\n",
      "Training Loss 0.11768791079521179\n",
      "Training Accuracy 0.9532030895047705\n",
      "#########################################################\n",
      "Epoch 308\n",
      "Training Loss 0.10670719295740128\n",
      "Training Accuracy 0.9606996819627442\n",
      "#########################################################\n",
      "Epoch 309\n",
      "Training Loss 0.111845001578331\n",
      "Training Accuracy 0.959563834620627\n",
      "#########################################################\n",
      "Epoch 310\n",
      "Training Loss 0.10684636235237122\n",
      "Training Accuracy 0.9584279872785098\n",
      "#########################################################\n",
      "Epoch 311\n",
      "Training Loss 0.1158052533864975\n",
      "Training Accuracy 0.9520672421626534\n",
      "#########################################################\n",
      "Epoch 312\n",
      "Training Loss 0.11277472972869873\n",
      "Training Accuracy 0.9568378009995456\n",
      "#########################################################\n",
      "Epoch 313\n",
      "Training Loss 0.1010245829820633\n",
      "Training Accuracy 0.9611540208995911\n",
      "#########################################################\n",
      "Epoch 314\n",
      "Training Loss 0.11573892086744308\n",
      "Training Accuracy 0.9552476147205815\n",
      "#########################################################\n",
      "Epoch 315\n",
      "Training Loss 0.10185889899730682\n",
      "Training Accuracy 0.961608359836438\n",
      "#########################################################\n",
      "Epoch 316\n",
      "Training Loss 0.11097791790962219\n",
      "Training Accuracy 0.9577464788732394\n",
      "#########################################################\n",
      "Epoch 317\n",
      "Training Loss 0.1079714223742485\n",
      "Training Accuracy 0.9611540208995911\n",
      "#########################################################\n",
      "Epoch 318\n",
      "Training Loss 0.11450041085481644\n",
      "Training Accuracy 0.9559291231258519\n",
      "#########################################################\n",
      "Epoch 319\n",
      "Training Loss 0.10435511916875839\n",
      "Training Accuracy 0.9609268514311676\n",
      "#########################################################\n",
      "Epoch 320\n",
      "Training Loss 0.09634308516979218\n",
      "Training Accuracy 0.9650159018627896\n",
      "#########################################################\n",
      "Epoch 321\n",
      "Training Loss 0.10663056373596191\n",
      "Training Accuracy 0.9593366651522035\n",
      "#########################################################\n",
      "Epoch 322\n",
      "Training Loss 0.1030970886349678\n",
      "Training Accuracy 0.9629713766469786\n",
      "#########################################################\n",
      "Epoch 323\n",
      "Training Loss 0.10932654142379761\n",
      "Training Accuracy 0.9606996819627442\n",
      "#########################################################\n",
      "Epoch 324\n",
      "Training Loss 0.10220834612846375\n",
      "Training Accuracy 0.9625170377101318\n",
      "#########################################################\n",
      "Epoch 325\n",
      "Training Loss 0.10398335754871368\n",
      "Training Accuracy 0.9591094956837801\n",
      "#########################################################\n",
      "Epoch 326\n",
      "Training Loss 0.10268460959196091\n",
      "Training Accuracy 0.961608359836438\n",
      "#########################################################\n",
      "Epoch 327\n",
      "Training Loss 0.10746238380670547\n",
      "Training Accuracy 0.959563834620627\n",
      "#########################################################\n",
      "Epoch 328\n",
      "Training Loss 0.09777656942605972\n",
      "Training Accuracy 0.9654702407996365\n",
      "#########################################################\n",
      "Epoch 329\n",
      "Training Loss 0.10027285665273666\n",
      "Training Accuracy 0.961608359836438\n",
      "#########################################################\n",
      "Epoch 330\n",
      "Training Loss 0.10796406865119934\n",
      "Training Accuracy 0.9600181735574739\n",
      "#########################################################\n",
      "Epoch 331\n",
      "Training Loss 0.0875377431511879\n",
      "Training Accuracy 0.9679691049522944\n",
      "#########################################################\n",
      "Epoch 332\n",
      "Training Loss 0.09283740073442459\n",
      "Training Accuracy 0.9638800545206724\n",
      "#########################################################\n",
      "Epoch 333\n",
      "Training Loss 0.10326311737298965\n",
      "Training Accuracy 0.9618355293048614\n",
      "#########################################################\n",
      "Epoch 334\n",
      "Training Loss 0.09707321226596832\n",
      "Training Accuracy 0.963652885052249\n",
      "#########################################################\n",
      "Epoch 335\n",
      "Training Loss 0.1106552705168724\n",
      "Training Accuracy 0.9591094956837801\n",
      "#########################################################\n",
      "Epoch 336\n",
      "Training Loss 0.09536149352788925\n",
      "Training Accuracy 0.9627442071785552\n",
      "#########################################################\n",
      "Epoch 337\n",
      "Training Loss 0.0991976261138916\n",
      "Training Accuracy 0.9584279872785098\n",
      "#########################################################\n",
      "Epoch 338\n",
      "Training Loss 0.09805093705654144\n",
      "Training Accuracy 0.9622898682417084\n",
      "#########################################################\n",
      "Epoch 339\n",
      "Training Loss 0.09045141935348511\n",
      "Training Accuracy 0.9675147660154475\n",
      "#########################################################\n",
      "Epoch 340\n",
      "Training Loss 0.1015554741024971\n",
      "Training Accuracy 0.9627442071785552\n",
      "#########################################################\n",
      "Epoch 341\n",
      "Training Loss 0.0890825018286705\n",
      "Training Accuracy 0.9670604270786006\n",
      "#########################################################\n",
      "Epoch 342\n",
      "Training Loss 0.08598259836435318\n",
      "Training Accuracy 0.9693321217628351\n",
      "#########################################################\n",
      "Epoch 343\n",
      "Training Loss 0.0803668200969696\n",
      "Training Accuracy 0.9695592912312585\n",
      "#########################################################\n",
      "Epoch 344\n",
      "Training Loss 0.09131216257810593\n",
      "Training Accuracy 0.9675147660154475\n",
      "#########################################################\n",
      "Epoch 345\n",
      "Training Loss 0.09056074172258377\n",
      "Training Accuracy 0.9650159018627896\n",
      "#########################################################\n",
      "Epoch 346\n",
      "Training Loss 0.10041143745183945\n",
      "Training Accuracy 0.961608359836438\n",
      "#########################################################\n",
      "Epoch 347\n",
      "Training Loss 0.09390393644571304\n",
      "Training Accuracy 0.9654702407996365\n",
      "#########################################################\n",
      "Epoch 348\n",
      "Training Loss 0.09104706346988678\n",
      "Training Accuracy 0.9684234438891413\n",
      "#########################################################\n",
      "Epoch 349\n",
      "Training Loss 0.08528520911931992\n",
      "Training Accuracy 0.9681962744207179\n",
      "#########################################################\n",
      "Epoch 350\n",
      "Training Loss 0.08231247216463089\n",
      "Training Accuracy 0.9700136301681054\n",
      "#########################################################\n",
      "Epoch 351\n",
      "Training Loss 0.08177972584962845\n",
      "Training Accuracy 0.9684234438891413\n",
      "#########################################################\n",
      "Epoch 352\n",
      "Training Loss 0.09267237782478333\n",
      "Training Accuracy 0.9672875965470241\n",
      "#########################################################\n",
      "Epoch 353\n",
      "Training Loss 0.08605381101369858\n",
      "Training Accuracy 0.9668332576101772\n",
      "#########################################################\n",
      "Epoch 354\n",
      "Training Loss 0.08803603798151016\n",
      "Training Accuracy 0.9666060881417537\n",
      "#########################################################\n",
      "Epoch 355\n",
      "Training Loss 0.09288465976715088\n",
      "Training Accuracy 0.9666060881417537\n",
      "#########################################################\n",
      "Epoch 356\n",
      "Training Loss 0.086176797747612\n",
      "Training Accuracy 0.9686506133575647\n",
      "#########################################################\n",
      "Epoch 357\n",
      "Training Loss 0.08477343618869781\n",
      "Training Accuracy 0.9709223080417991\n",
      "#########################################################\n",
      "Epoch 358\n",
      "Training Loss 0.08818483352661133\n",
      "Training Accuracy 0.9652430713312131\n",
      "#########################################################\n",
      "Epoch 359\n",
      "Training Loss 0.08811581879854202\n",
      "Training Accuracy 0.9679691049522944\n",
      "#########################################################\n",
      "Epoch 360\n",
      "Training Loss 0.08080232888460159\n",
      "Training Accuracy 0.9695592912312585\n",
      "#########################################################\n",
      "Epoch 361\n",
      "Training Loss 0.08603420108556747\n",
      "Training Accuracy 0.9681962744207179\n",
      "#########################################################\n",
      "Epoch 362\n",
      "Training Loss 0.07224223762750626\n",
      "Training Accuracy 0.9745570195365743\n",
      "#########################################################\n",
      "Epoch 363\n",
      "Training Loss 0.08409452438354492\n",
      "Training Accuracy 0.9716038164470695\n",
      "#########################################################\n",
      "Epoch 364\n",
      "Training Loss 0.08380246162414551\n",
      "Training Accuracy 0.9695592912312585\n",
      "#########################################################\n",
      "Epoch 365\n",
      "Training Loss 0.0870884358882904\n",
      "Training Accuracy 0.96569741026806\n",
      "#########################################################\n",
      "Epoch 366\n",
      "Training Loss 0.08679506927728653\n",
      "Training Accuracy 0.9720581553839164\n",
      "#########################################################\n",
      "Epoch 367\n",
      "Training Loss 0.08185520023107529\n",
      "Training Accuracy 0.9688777828259881\n",
      "#########################################################\n",
      "Epoch 368\n",
      "Training Loss 0.07950342446565628\n",
      "Training Accuracy 0.9720581553839164\n",
      "#########################################################\n",
      "Epoch 369\n",
      "Training Loss 0.08078409731388092\n",
      "Training Accuracy 0.9729668332576101\n",
      "#########################################################\n",
      "Epoch 370\n",
      "Training Loss 0.08144856989383698\n",
      "Training Accuracy 0.969786460699682\n",
      "#########################################################\n",
      "Epoch 371\n",
      "Training Loss 0.085853710770607\n",
      "Training Accuracy 0.9695592912312585\n",
      "#########################################################\n",
      "Epoch 372\n",
      "Training Loss 0.07573156803846359\n",
      "Training Accuracy 0.9729668332576101\n",
      "#########################################################\n",
      "Epoch 373\n",
      "Training Loss 0.08068685233592987\n",
      "Training Accuracy 0.9716038164470695\n",
      "#########################################################\n",
      "Epoch 374\n",
      "Training Loss 0.07558105885982513\n",
      "Training Accuracy 0.9727396637891867\n",
      "#########################################################\n",
      "Epoch 375\n",
      "Training Loss 0.08629117161035538\n",
      "Training Accuracy 0.9679691049522944\n",
      "#########################################################\n",
      "Epoch 376\n",
      "Training Loss 0.07184083759784698\n",
      "Training Accuracy 0.9743298500681509\n",
      "#########################################################\n",
      "Epoch 377\n",
      "Training Loss 0.07206129282712936\n",
      "Training Accuracy 0.9741026805997274\n",
      "#########################################################\n",
      "Epoch 378\n",
      "Training Loss 0.07513240724802017\n",
      "Training Accuracy 0.9702407996365289\n",
      "#########################################################\n",
      "Epoch 379\n",
      "Training Loss 0.07441315054893494\n",
      "Training Accuracy 0.9720581553839164\n",
      "#########################################################\n",
      "Epoch 380\n",
      "Training Loss 0.0762813612818718\n",
      "Training Accuracy 0.9741026805997274\n",
      "#########################################################\n",
      "Epoch 381\n",
      "Training Loss 0.069638691842556\n",
      "Training Accuracy 0.9743298500681509\n",
      "#########################################################\n",
      "Epoch 382\n",
      "Training Loss 0.06561511009931564\n",
      "Training Accuracy 0.9761472058155384\n",
      "#########################################################\n",
      "Epoch 383\n",
      "Training Loss 0.07015611976385117\n",
      "Training Accuracy 0.973875511131304\n",
      "#########################################################\n",
      "Epoch 384\n",
      "Training Loss 0.08202151209115982\n",
      "Training Accuracy 0.9709223080417991\n",
      "#########################################################\n",
      "Epoch 385\n",
      "Training Loss 0.06689732521772385\n",
      "Training Accuracy 0.9772830531576556\n",
      "#########################################################\n",
      "Epoch 386\n",
      "Training Loss 0.07688669860363007\n",
      "Training Accuracy 0.9729668332576101\n",
      "#########################################################\n",
      "Epoch 387\n",
      "Training Loss 0.0716177225112915\n",
      "Training Accuracy 0.9731940027260336\n",
      "#########################################################\n",
      "Epoch 388\n",
      "Training Loss 0.0722522959113121\n",
      "Training Accuracy 0.9743298500681509\n",
      "#########################################################\n",
      "Epoch 389\n",
      "Training Loss 0.07092640548944473\n",
      "Training Accuracy 0.9713766469786461\n",
      "#########################################################\n",
      "Epoch 390\n",
      "Training Loss 0.06929267942905426\n",
      "Training Accuracy 0.9736483416628805\n",
      "#########################################################\n",
      "Epoch 391\n",
      "Training Loss 0.06630413234233856\n",
      "Training Accuracy 0.9729668332576101\n",
      "#########################################################\n",
      "Epoch 392\n",
      "Training Loss 0.0684853047132492\n",
      "Training Accuracy 0.9747841890049977\n",
      "#########################################################\n",
      "Epoch 393\n",
      "Training Loss 0.07015039026737213\n",
      "Training Accuracy 0.9750113584734211\n",
      "#########################################################\n",
      "Epoch 394\n",
      "Training Loss 0.06095844507217407\n",
      "Training Accuracy 0.9768287142208087\n",
      "#########################################################\n",
      "Epoch 395\n",
      "Training Loss 0.06608016788959503\n",
      "Training Accuracy 0.9772830531576556\n",
      "#########################################################\n",
      "Epoch 396\n",
      "Training Loss 0.07431480288505554\n",
      "Training Accuracy 0.9725124943207633\n",
      "#########################################################\n",
      "Epoch 397\n",
      "Training Loss 0.062069185078144073\n",
      "Training Accuracy 0.9781917310313494\n",
      "#########################################################\n",
      "Epoch 398\n",
      "Training Loss 0.06833991408348083\n",
      "Training Accuracy 0.9727396637891867\n",
      "#########################################################\n",
      "Epoch 399\n",
      "Training Loss 0.07100433856248856\n",
      "Training Accuracy 0.975465697410268\n",
      "#########################################################\n",
      "CPU times: user 1h 11min 4s, sys: 11min 51s, total: 1h 22min 56s\n",
      "Wall time: 22min 43s\n"
     ]
    }
   ],
   "source": [
    "%%time \n",
    "epochs = 400\n",
    "hidden_dim = 200\n",
    "conv_type = pyg_nn.TransformerConv\n",
    "aggr = 'add'\n",
    "flow = 'source_to_target'\n",
    "heads = 3\n",
    "dropout = 0.5\n",
    "gcn_dropout = 0.5\n",
    "optimiser = optim.Adam\n",
    "verbose = True\n",
    "lr = 2e-4\n",
    "class_weight = torch.tensor([1., 1.])\n",
    "net, train_losses, train_accs, valid_losses, valid_accs = train_node_clf(\n",
    "    #graph_data,\n",
    "    train_ds,\n",
    "    train_ds,\n",
    "    epochs, \n",
    "    hidden_dim,\n",
    "    conv_type=conv_type,\n",
    "    aggr=aggr,\n",
    "    flow=flow,\n",
    "    heads=heads,\n",
    "    dropout=dropout,\n",
    "    optimiser=optimiser,\n",
    "    lr=lr,\n",
    "    verbose=verbose,\n",
    "    class_weight=class_weight,\n",
    ")"
   ]
  },
  {
   "cell_type": "markdown",
   "metadata": {},
   "source": [
    "Visualising the losses and accuracies."
   ]
  },
  {
   "cell_type": "code",
   "execution_count": 1,
   "metadata": {},
   "outputs": [],
   "source": [
    "#plt.plot(range(epochs), train_losses)\n",
    "#plt.plot(range(epochs), valid_losses, color='red')\n",
    "#plt.title('Losses')\n",
    "#plt.legend(['train', 'validation']);\n",
    "#plt.savefig('../plots/GATLosses{}.png'.format(datetime.today()));"
   ]
  },
  {
   "cell_type": "code",
   "execution_count": 2,
   "metadata": {},
   "outputs": [],
   "source": [
    "#plt.plot(range(epochs), train_accs)\n",
    "#plt.plot(range(epochs), valid_accs, color='red')\n",
    "#plt.title('Accuracies')\n",
    "#plt.legend(['train', 'validation']);\n",
    "#plt.savefig('../plots/GATAccuracies{}.png'.format(datetime.today()));"
   ]
  },
  {
   "cell_type": "code",
   "execution_count": 114,
   "metadata": {},
   "outputs": [
    {
     "name": "stdout",
     "output_type": "stream",
     "text": [
      "tensor(0.8190, grad_fn=<NllLossBackward>)\n",
      "0.2805668016194332\n",
      "CPU times: user 1.47 s, sys: 165 ms, total: 1.64 s\n",
      "Wall time: 825 ms\n"
     ]
    }
   ],
   "source": [
    "%%time\n",
    "embedding, test_pred = net(test_ds, training=False)\n",
    "test_label = test_ds.label\n",
    "test_loss = net.loss(test_pred, test_label)\n",
    "test_acc = get_accuracy(test_pred, test_label)\n",
    "print(test_loss)\n",
    "print(test_acc)"
   ]
  },
  {
   "cell_type": "code",
   "execution_count": 115,
   "metadata": {},
   "outputs": [
    {
     "name": "stdout",
     "output_type": "stream",
     "text": [
      "              precision    recall  f1-score   support\n",
      "\n",
      "           0       0.95      0.16      0.28      2103\n",
      "           1       0.17      0.95      0.28       367\n",
      "\n",
      "    accuracy                           0.28      2470\n",
      "   macro avg       0.56      0.56      0.28      2470\n",
      "weighted avg       0.83      0.28      0.28      2470\n",
      "\n"
     ]
    }
   ],
   "source": [
    "print(classification_report(test_label, test_pred.argmax(1))) '''GAT Imbalanced Data'''"
   ]
  },
  {
   "cell_type": "code",
   "execution_count": 89,
   "metadata": {},
   "outputs": [
    {
     "name": "stdout",
     "output_type": "stream",
     "text": [
      "tensor(0.3873, grad_fn=<NllLossBackward>)\n",
      "0.8452975920036347\n",
      "CPU times: user 783 ms, sys: 95.6 ms, total: 878 ms\n",
      "Wall time: 220 ms\n"
     ]
    }
   ],
   "source": [
    "%%time\n",
    "embedding, train_pred = net(train_ds, training=False)\n",
    "train_label = train_ds.label\n",
    "train_loss = net.loss(train_pred, train_label)\n",
    "train_acc = get_accuracy(train_pred, train_label)\n",
    "print(train_loss)\n",
    "print(train_acc)"
   ]
  },
  {
   "cell_type": "code",
   "execution_count": 90,
   "metadata": {},
   "outputs": [
    {
     "name": "stdout",
     "output_type": "stream",
     "text": [
      "              precision    recall  f1-score   support\n",
      "\n",
      "           0       0.86      0.82      0.84      2170\n",
      "           1       0.84      0.87      0.85      2232\n",
      "\n",
      "    accuracy                           0.85      4402\n",
      "   macro avg       0.85      0.85      0.85      4402\n",
      "weighted avg       0.85      0.85      0.85      4402\n",
      "\n"
     ]
    }
   ],
   "source": [
    "print(classification_report(train_label, train_pred.argmax(1)))"
   ]
  },
  {
   "cell_type": "code",
   "execution_count": 130,
   "metadata": {},
   "outputs": [
    {
     "name": "stdout",
     "output_type": "stream",
     "text": [
      "tensor(1.0445, grad_fn=<NllLossBackward>)\n",
      "0.6955941255006676\n",
      "CPU times: user 6.7 s, sys: 942 ms, total: 7.64 s\n",
      "Wall time: 3.14 s\n"
     ]
    }
   ],
   "source": [
    "%%time\n",
    "embedding, valid_pred = net(valid_ds, training=False)\n",
    "valid_label = valid_ds.label\n",
    "valid_loss = net.loss(valid_pred, valid_label)\n",
    "valid_acc = get_accuracy(valid_pred, valid_label)\n",
    "print(valid_loss)\n",
    "print(valid_acc)"
   ]
  },
  {
   "cell_type": "code",
   "execution_count": 131,
   "metadata": {},
   "outputs": [
    {
     "name": "stdout",
     "output_type": "stream",
     "text": [
      "              precision    recall  f1-score   support\n",
      "\n",
      "           0       0.72      0.63      0.67      1870\n",
      "           1       0.67      0.76      0.71      1875\n",
      "\n",
      "    accuracy                           0.70      3745\n",
      "   macro avg       0.70      0.70      0.69      3745\n",
      "weighted avg       0.70      0.70      0.69      3745\n",
      "\n"
     ]
    }
   ],
   "source": [
    "print(classification_report(valid_label, valid_pred.argmax(1)))"
   ]
  },
  {
   "cell_type": "markdown",
   "metadata": {},
   "source": [
    "### Visualising errors on the test graph"
   ]
  },
  {
   "cell_type": "code",
   "execution_count": 93,
   "metadata": {},
   "outputs": [
    {
     "data": {
      "text/plain": [
       "<networkx.classes.graph.Graph at 0x7fe08593df70>"
      ]
     },
     "execution_count": 93,
     "metadata": {},
     "output_type": "execute_result"
    }
   ],
   "source": [
    "Gtest"
   ]
  },
  {
   "cell_type": "code",
   "execution_count": 105,
   "metadata": {},
   "outputs": [],
   "source": [
    "cdict = dict(zip(test_ds.text, zip(test_label.tolist(), test_pred.argmax(1).tolist())))"
   ]
  },
  {
   "cell_type": "code",
   "execution_count": 108,
   "metadata": {},
   "outputs": [],
   "source": [
    "test_attrs = {n: {\"text\": n,\n",
    "             \"degree\": Gtest.degree[n], \n",
    "             'label': test_labeled_vocabulary[n],\n",
    "             'colour': 'red' if len(set(cdict[n])) == 2 else 'green',\n",
    "             'x': ft_model[n]} \n",
    "         for n in Gtest.nodes}\n",
    "\n",
    "nx.set_node_attributes(Gtest, test_attrs)"
   ]
  },
  {
   "cell_type": "code",
   "execution_count": 113,
   "metadata": {
    "collapsed": true,
    "jupyter": {
     "outputs_hidden": true
    }
   },
   "outputs": [
    {
     "data": {
      "text/plain": [
       "{'text': 'bookmarks',\n",
       " 'degree': 80,\n",
       " 'label': 1,\n",
       " 'colour': 'green',\n",
       " 'x': array([-0.10288477,  0.04339846,  0.45202053, -0.5082762 ,  0.07505745,\n",
       "         0.4930952 ,  0.22593859, -0.27250767, -0.30209467, -0.2545395 ,\n",
       "         0.44719356, -0.14187859, -0.7718823 ,  0.5743875 , -0.8588605 ,\n",
       "        -0.16661246, -0.34453103,  0.6001299 ,  0.08255415, -0.22060111,\n",
       "        -0.22824895,  0.3138491 ,  0.19341873, -0.40819907, -0.49947572,\n",
       "        -0.00939848,  0.01349518, -0.0938243 ,  0.45880097, -0.02785795,\n",
       "        -0.23714228, -0.50641143,  0.5417998 ,  0.37112734, -0.2578697 ,\n",
       "        -0.00875674, -0.26523054,  0.45684624, -0.01209025,  0.28152984,\n",
       "         0.19770914,  0.6452087 ,  0.21547554,  0.34498647,  0.43015164,\n",
       "        -0.24489239,  0.5258978 ,  0.20650665, -0.09813168,  0.04287248,\n",
       "         0.23168558, -0.11473263,  0.08418909, -0.5156996 ,  0.14731653,\n",
       "        -0.40773335,  0.13302988,  0.40058702,  0.18123774,  0.14356004,\n",
       "        -0.12806197, -0.05587502,  0.18033889, -0.00422568, -0.23242605,\n",
       "        -0.02680572,  0.65540034,  0.03252228, -0.40463877,  0.5622942 ,\n",
       "        -0.19094996, -0.20808579,  0.5862608 , -0.08262905, -0.06657981,\n",
       "        -0.02677321, -0.09848706, -0.5310227 , -0.28908592,  0.40036085,\n",
       "         0.19227083, -0.51173276, -0.07937261,  0.79636776,  0.327562  ,\n",
       "         0.2285347 ,  0.40946904, -0.8137441 , -0.7400073 ,  0.02043635,\n",
       "        -0.20438299,  0.04727263, -0.4047776 ,  0.06211952,  0.36524504,\n",
       "        -0.9187985 ,  0.20153041, -0.09052094,  0.51552004, -0.31315944],\n",
       "       dtype=float32)}"
      ]
     },
     "execution_count": 113,
     "metadata": {},
     "output_type": "execute_result"
    }
   ],
   "source": [
    "Gtest.nodes['bookmarks']"
   ]
  },
  {
   "cell_type": "code",
   "execution_count": 114,
   "metadata": {},
   "outputs": [],
   "source": [
    "params = [('text', '@text'), ('label', '@label')]\n",
    "filename = 'TestGraphPredsRedIsWrong'\n",
    "#show_bokeh(Gtest, params, filename, colorfill='colour')"
   ]
  },
  {
   "cell_type": "markdown",
   "metadata": {},
   "source": [
    "#### Computing graph metrics to analyse the difference between correctly and wrongly classified instances"
   ]
  },
  {
   "cell_type": "code",
   "execution_count": 116,
   "metadata": {},
   "outputs": [
    {
     "name": "stdout",
     "output_type": "stream",
     "text": [
      "CPU times: user 442 µs, sys: 4.08 ms, total: 4.52 ms\n",
      "Wall time: 4.42 ms\n"
     ]
    }
   ],
   "source": [
    "%time cent_degree = nx.degree_centrality(Gtest)"
   ]
  },
  {
   "cell_type": "code",
   "execution_count": 117,
   "metadata": {},
   "outputs": [
    {
     "name": "stdout",
     "output_type": "stream",
     "text": [
      "CPU times: user 551 ms, sys: 210 µs, total: 551 ms\n",
      "Wall time: 549 ms\n"
     ]
    }
   ],
   "source": [
    "%time cent_eigen = nx.eigenvector_centrality(Gtest)"
   ]
  },
  {
   "cell_type": "code",
   "execution_count": 118,
   "metadata": {},
   "outputs": [
    {
     "name": "stdout",
     "output_type": "stream",
     "text": [
      "CPU times: user 3.09 s, sys: 3.55 ms, total: 3.09 s\n",
      "Wall time: 3.1 s\n"
     ]
    }
   ],
   "source": [
    "%time cent_closeness = nx.closeness_centrality(Gtest)"
   ]
  },
  {
   "cell_type": "code",
   "execution_count": 119,
   "metadata": {},
   "outputs": [
    {
     "name": "stdout",
     "output_type": "stream",
     "text": [
      "CPU times: user 1min 19s, sys: 25.5 ms, total: 1min 19s\n",
      "Wall time: 1min 19s\n"
     ]
    }
   ],
   "source": [
    "%time cent_between = nx.betweenness_centrality(Gtest)"
   ]
  },
  {
   "cell_type": "code",
   "execution_count": 120,
   "metadata": {},
   "outputs": [],
   "source": [
    "#%time cent_voterank = nx.voterank(G)"
   ]
  },
  {
   "cell_type": "code",
   "execution_count": 122,
   "metadata": {},
   "outputs": [],
   "source": [
    "index = Gtest.nodes\n",
    "data = [\n",
    "    [cdict[i][0], cdict[i][1], cent_degree[i], cent_eigen[i], cent_closeness[i], cent_between[i]]\n",
    "    for i in index\n",
    "]\n",
    "columns = ['true', 'pred', 'cent_degree', 'cent_eigen', 'cent_closeness', 'cent_between']\n",
    "cent_df = pd.DataFrame(data, index=index, columns=columns)"
   ]
  },
  {
   "cell_type": "code",
   "execution_count": 126,
   "metadata": {},
   "outputs": [
    {
     "data": {
      "image/png": "[encoded data removed]",
      "text/plain": [
       "<Figure size 432x288 with 1 Axes>"
      ]
     },
     "metadata": {
      "needs_background": "light"
     },
     "output_type": "display_data"
    }
   ],
   "source": [
    "cent_df['correct'] = cent_df['true'] == cent_df['pred']\n",
    "fig, ax = plt.subplots()\n",
    "cent_df.loc[cent_df['correct']]['cent_degree'].plot.kde(color='green', ax=ax)\n",
    "cent_df.loc[cent_df['correct'] == False]['cent_degree'].plot.kde(color='red', ax=ax)\n",
    "plt.legend(['true', 'wrong'])\n",
    "plt.title('Degree Centrality');"
   ]
  },
  {
   "cell_type": "code",
   "execution_count": 127,
   "metadata": {},
   "outputs": [
    {
     "data": {
      "image/png": "[encoded data removed]",
      "text/plain": [
       "<Figure size 432x288 with 1 Axes>"
      ]
     },
     "metadata": {
      "needs_background": "light"
     },
     "output_type": "display_data"
    }
   ],
   "source": [
    "fig, ax = plt.subplots()\n",
    "cent_df.loc[cent_df['correct']]['cent_eigen'].plot.kde(color='green', ax=ax)\n",
    "cent_df.loc[cent_df['correct'] == False]['cent_eigen'].plot.kde(color='red', ax=ax)\n",
    "plt.legend(['true', 'wrong'])\n",
    "plt.title('Eigenvector Centrality');"
   ]
  },
  {
   "cell_type": "code",
   "execution_count": 128,
   "metadata": {},
   "outputs": [
    {
     "data": {
      "image/png": "[encoded data removed]",
      "text/plain": [
       "<Figure size 432x288 with 1 Axes>"
      ]
     },
     "metadata": {
      "needs_background": "light"
     },
     "output_type": "display_data"
    }
   ],
   "source": [
    "fig, ax = plt.subplots()\n",
    "cent_df.loc[cent_df['correct']]['cent_closeness'].plot.kde(color='green', ax=ax)\n",
    "cent_df.loc[cent_df['correct'] == False]['cent_closeness'].plot.kde(color='red', ax=ax)\n",
    "plt.legend(['true', 'wrong'])\n",
    "plt.title('Closeness Centrality');"
   ]
  },
  {
   "cell_type": "code",
   "execution_count": 129,
   "metadata": {},
   "outputs": [
    {
     "data": {
      "image/png": "[encoded data removed]",
      "text/plain": [
       "<Figure size 432x288 with 1 Axes>"
      ]
     },
     "metadata": {
      "needs_background": "light"
     },
     "output_type": "display_data"
    }
   ],
   "source": [
    "fig, ax = plt.subplots()\n",
    "cent_df.loc[cent_df['correct']]['cent_between'].plot.kde(color='green', ax=ax)\n",
    "cent_df.loc[cent_df['correct'] == False]['cent_between'].plot.kde(color='red', ax=ax)\n",
    "plt.legend(['true', 'wrong'])\n",
    "plt.title('Betweenness Centrality');"
   ]
  },
  {
   "cell_type": "code",
   "execution_count": 130,
   "metadata": {},
   "outputs": [],
   "source": [
    "cent_df = cent_df.reset_index()"
   ]
  },
  {
   "cell_type": "code",
   "execution_count": 138,
   "metadata": {
    "collapsed": true,
    "jupyter": {
     "outputs_hidden": true
    }
   },
   "outputs": [
    {
     "data": {
      "text/plain": [
       "array([['sick', 1, 0],\n",
       "       ['timer', 1, 0],\n",
       "       ['bills', 1, 0],\n",
       "       ['off', 1, 0],\n",
       "       ['featured', 1, 0],\n",
       "       ['fold', 1, 0],\n",
       "       ['wack', 1, 0],\n",
       "       ['lists', 1, 0],\n",
       "       ['tsunami', 1, 0],\n",
       "       ['japan', 1, 0],\n",
       "       ['if', 1, 0],\n",
       "       ['saving', 1, 0],\n",
       "       ['kids', 1, 0],\n",
       "       ['day', 1, 0],\n",
       "       ['quibi', 1, 0],\n",
       "       ['to', 1, 0],\n",
       "       ['keepass', 1, 0],\n",
       "       ['hours', 1, 0],\n",
       "       ['twin', 1, 0],\n",
       "       ['quetzalquot', 1, 0],\n",
       "       ['asleep', 1, 0],\n",
       "       ['shield', 1, 0],\n",
       "       ['7', 1, 0],\n",
       "       ['how', 1, 0],\n",
       "       ['five', 1, 0],\n",
       "       ['you', 1, 0],\n",
       "       ['assistant', 1, 0],\n",
       "       ['after', 1, 0],\n",
       "       ['machine', 1, 0],\n",
       "       ['panel', 1, 0],\n",
       "       ['launching', 1, 0],\n",
       "       ['coups', 1, 0],\n",
       "       ['dear', 1, 0],\n",
       "       ['boomerang', 1, 0],\n",
       "       ['galaxy', 1, 0],\n",
       "       ['prime', 1, 0],\n",
       "       ['status', 0, 1],\n",
       "       ['housekeeper', 0, 1],\n",
       "       ['abroad', 0, 1],\n",
       "       ['servers', 0, 1],\n",
       "       ['purity', 0, 1],\n",
       "       ['scheme', 0, 1],\n",
       "       ['collects', 0, 1],\n",
       "       ['29', 0, 1],\n",
       "       ['surge', 0, 1],\n",
       "       ['expert', 0, 1],\n",
       "       ['filed', 0, 1],\n",
       "       ['confusion', 0, 1],\n",
       "       ['who39s', 0, 1],\n",
       "       ['authentication', 0, 1]], dtype=object)"
      ]
     },
     "execution_count": 138,
     "metadata": {},
     "output_type": "execute_result"
    }
   ],
   "source": [
    "cent_df.loc[~cent_df['correct']][['index', 'true', 'pred']].values[:50]"
   ]
  },
  {
   "cell_type": "code",
   "execution_count": 140,
   "metadata": {
    "collapsed": true,
    "jupyter": {
     "outputs_hidden": true
    }
   },
   "outputs": [
    {
     "data": {
      "text/plain": [
       "array([['file', 1, 1],\n",
       "       ['instant', 1, 1],\n",
       "       ['jeopardys', 1, 1],\n",
       "       ['food', 1, 1],\n",
       "       ['tray—so', 1, 1],\n",
       "       ['dropbox', 1, 1],\n",
       "       ['filesyncing', 1, 1],\n",
       "       ['challenge', 1, 1],\n",
       "       ['wifi', 1, 1],\n",
       "       ['metadata', 1, 1],\n",
       "       ['backup', 1, 1],\n",
       "       ['mode', 1, 1],\n",
       "       ['desktops—applications', 1, 1],\n",
       "       ['cooling', 1, 1],\n",
       "       ['kitchen', 1, 1],\n",
       "       ['word', 1, 1],\n",
       "       ['healthy', 1, 1],\n",
       "       ['gps', 1, 1],\n",
       "       ['windows39', 1, 1],\n",
       "       ['linux', 1, 1],\n",
       "       ['firefox39s', 1, 1],\n",
       "       ['windowsmaclinux', 1, 1],\n",
       "       ['fans', 1, 1],\n",
       "       ['internet', 1, 1],\n",
       "       ['leopard', 1, 1],\n",
       "       ['repeater', 1, 1],\n",
       "       ['mac', 1, 1],\n",
       "       ['wep', 1, 1],\n",
       "       ['cds—that', 1, 1],\n",
       "       ['chrome', 1, 1],\n",
       "       ['pdfs', 1, 1],\n",
       "       ['pvr', 1, 1],\n",
       "       ['dvr', 1, 1],\n",
       "       ['feature', 1, 1],\n",
       "       ['communication', 1, 1],\n",
       "       ['tips', 1, 1],\n",
       "       ['hardware—has', 1, 1],\n",
       "       ['productivity', 1, 1],\n",
       "       ['shows', 1, 1],\n",
       "       ['sleeping', 1, 1],\n",
       "       ['winter', 1, 1],\n",
       "       ['customization', 1, 1],\n",
       "       ['windowsmacandroidiphoneblackberryweb', 1, 1],\n",
       "       ['wallpaper', 1, 1],\n",
       "       ['pdf', 1, 1],\n",
       "       ['os', 1, 1],\n",
       "       ['time', 1, 1],\n",
       "       ['droid', 1, 1],\n",
       "       ['pi', 1, 1],\n",
       "       ['hotspot', 1, 1]], dtype=object)"
      ]
     },
     "execution_count": 140,
     "metadata": {},
     "output_type": "execute_result"
    }
   ],
   "source": [
    "cent_df.loc[cent_df['correct']][['index', 'true', 'pred']].values[50:100]"
   ]
  },
  {
   "cell_type": "code",
   "execution_count": 141,
   "metadata": {},
   "outputs": [],
   "source": [
    "def get_pos(word):\n",
    "    doc = nlp(word)\n",
    "    return [t.pos_ for t in doc]\n",
    "\n",
    "cent_df['pos_tags'] = cent_df.loc[:, 'index'].apply(get_pos)"
   ]
  },
  {
   "cell_type": "code",
   "execution_count": 142,
   "metadata": {},
   "outputs": [],
   "source": [
    "cent_df = cent_df.explode('pos_tags')"
   ]
  },
  {
   "cell_type": "code",
   "execution_count": 155,
   "metadata": {},
   "outputs": [
    {
     "data": {
      "image/png": "[encoded data removed]",
      "text/plain": [
       "<Figure size 432x288 with 1 Axes>"
      ]
     },
     "metadata": {
      "needs_background": "light"
     },
     "output_type": "display_data"
    }
   ],
   "source": [
    "fig, ax = plt.subplots()\n",
    "\n",
    "cent_df['pos_tags'].value_counts().plot(kind='bar', color='black', alpha=0.1, ax=ax)\n",
    "cent_df.loc[cent_df['correct']]['pos_tags'].value_counts().plot(kind='bar', color='green', ax=ax)\n",
    "cent_df.loc[~cent_df['correct']]['pos_tags'].value_counts().plot(kind='bar', color='yellow', \n",
    "                                                                 ax=ax, alpha=0.3)\n",
    "plt.legend(['general', 'correct', 'wrong'])\n",
    "plt.title('POS-tags, Correct vs Wrong');"
   ]
  },
  {
   "cell_type": "markdown",
   "metadata": {},
   "source": [
    "### Some conclusions after the brief error analysis\n",
    "\n",
    "* Node metrics seem to be very similar, there is almost no difference between correctly and wrongly predicted instances. Maybe this is the reason the model was not so accurate\n",
    "* From the plot above: it seems to be a bit easier to classify correctly proper nouns. Nouns, verbs and adjectives can both be a keyphrase and a non-keyphrase"
   ]
  },
  {
   "cell_type": "code",
   "execution_count": null,
   "metadata": {},
   "outputs": [],
   "source": []
  },
  {
   "cell_type": "code",
   "execution_count": null,
   "metadata": {},
   "outputs": [],
   "source": []
  },
  {
   "cell_type": "code",
   "execution_count": null,
   "metadata": {},
   "outputs": [],
   "source": []
  },
  {
   "cell_type": "code",
   "execution_count": null,
   "metadata": {},
   "outputs": [],
   "source": []
  },
  {
   "cell_type": "code",
   "execution_count": null,
   "metadata": {},
   "outputs": [],
   "source": []
  },
  {
   "cell_type": "code",
   "execution_count": null,
   "metadata": {},
   "outputs": [],
   "source": []
  },
  {
   "cell_type": "code",
   "execution_count": null,
   "metadata": {},
   "outputs": [],
   "source": []
  },
  {
   "cell_type": "code",
   "execution_count": null,
   "metadata": {},
   "outputs": [],
   "source": []
  },
  {
   "cell_type": "code",
   "execution_count": null,
   "metadata": {},
   "outputs": [],
   "source": []
  },
  {
   "cell_type": "code",
   "execution_count": null,
   "metadata": {},
   "outputs": [],
   "source": []
  },
  {
   "cell_type": "code",
   "execution_count": null,
   "metadata": {},
   "outputs": [],
   "source": []
  },
  {
   "cell_type": "code",
   "execution_count": null,
   "metadata": {},
   "outputs": [],
   "source": []
  },
  {
   "cell_type": "code",
   "execution_count": null,
   "metadata": {},
   "outputs": [],
   "source": []
  },
  {
   "cell_type": "markdown",
   "metadata": {},
   "source": []
  }
 ],
 "metadata": {
  "kernelspec": {
   "display_name": "Python 3",
   "language": "python",
   "name": "python3"
  },
  "language_info": {
   "codemirror_mode": {
    "name": "ipython",
    "version": 3
   },
   "file_extension": ".py",
   "mimetype": "text/x-python",
   "name": "python",
   "nbconvert_exporter": "python",
   "pygments_lexer": "ipython3",
   "version": "3.8.5"
  }
 },
 "nbformat": 4,
 "nbformat_minor": 4
}
