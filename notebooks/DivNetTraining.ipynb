{
 "cells": [
  {
   "cell_type": "code",
   "execution_count": 1,
   "metadata": {},
   "outputs": [],
   "source": [
    "import torch\n",
    "import numpy as np\n",
    "import pandas as pd\n",
    "from matplotlib import pyplot as plt\n",
    "import seaborn as sns\n",
    "from torch import nn\n",
    "from torch_geometric.data import DataLoader\n",
    "from datetime import datetime"
   ]
  },
  {
   "cell_type": "code",
   "execution_count": 2,
   "metadata": {},
   "outputs": [],
   "source": [
    "from gnn_nlp.DivGraphPointer import DivGraphNet\n",
    "from gnn_nlp.trainer import train_divnet"
   ]
  },
  {
   "cell_type": "code",
   "execution_count": 3,
   "metadata": {},
   "outputs": [],
   "source": [
    "ix = 5"
   ]
  },
  {
   "cell_type": "code",
   "execution_count": 4,
   "metadata": {},
   "outputs": [],
   "source": [
    "data = torch.load('../data/kp5DataList30-01-21.pt')\n",
    "train_valid = data[10:14]\n",
    "#test = data[1500:]"
   ]
  },
  {
   "cell_type": "code",
   "execution_count": 5,
   "metadata": {},
   "outputs": [
    {
     "name": "stdout",
     "output_type": "stream",
     "text": [
      "Automatic pdb calling has been turned ON\n"
     ]
    }
   ],
   "source": [
    "%pdb on"
   ]
  },
  {
   "cell_type": "code",
   "execution_count": 6,
   "metadata": {},
   "outputs": [
    {
     "name": "stdout",
     "output_type": "stream",
     "text": [
      "Epoch 0\n",
      "Epoch 1\n",
      "Epoch 2\n",
      "Epoch 3\n",
      "Epoch 4\n",
      "Epoch 5\n",
      "Epoch 6\n",
      "Epoch 7\n",
      "Epoch 8\n",
      "Epoch 9\n",
      "Epoch 10\n",
      "Epoch 11\n",
      "Epoch 12\n",
      "Epoch 13\n",
      "Epoch 14\n",
      "Epoch 15\n",
      "Epoch 16\n",
      "Epoch 17\n",
      "Epoch 18\n",
      "Epoch 19\n",
      "Epoch 20\n",
      "Epoch 21\n",
      "Epoch 22\n",
      "Epoch 23\n",
      "Epoch 24\n",
      "Epoch 25\n",
      "Epoch 26\n",
      "Epoch 27\n",
      "Epoch 28\n",
      "Epoch 29\n",
      "Epoch 30\n",
      "Epoch 31\n",
      "Epoch 32\n",
      "Epoch 33\n",
      "Epoch 34\n",
      "Epoch 35\n",
      "Epoch 36\n",
      "Epoch 37\n",
      "Epoch 38\n",
      "Epoch 39\n",
      "Epoch 40\n",
      "Epoch 41\n",
      "Epoch 42\n",
      "Epoch 43\n",
      "Epoch 44\n",
      "Epoch 45\n",
      "Epoch 46\n",
      "Epoch 47\n",
      "Epoch 48\n",
      "Epoch 49\n",
      "Epoch 50\n",
      "Epoch 51\n",
      "Epoch 52\n",
      "Epoch 53\n",
      "Epoch 54\n",
      "Epoch 55\n",
      "Epoch 56\n",
      "Epoch 57\n",
      "Epoch 58\n",
      "Epoch 59\n",
      "Epoch 60\n",
      "Epoch 61\n",
      "Epoch 62\n",
      "Epoch 63\n",
      "Epoch 64\n",
      "Epoch 65\n",
      "Epoch 66\n",
      "Epoch 67\n",
      "Epoch 68\n",
      "Epoch 69\n",
      "Epoch 70\n",
      "Epoch 71\n",
      "Epoch 72\n",
      "Epoch 73\n",
      "Epoch 74\n",
      "Epoch 75\n",
      "Epoch 76\n",
      "Epoch 77\n",
      "Epoch 78\n",
      "Epoch 79\n",
      "Epoch 80\n",
      "Epoch 81\n",
      "Epoch 82\n",
      "Epoch 83\n",
      "Epoch 84\n",
      "Epoch 85\n",
      "Epoch 86\n",
      "Epoch 87\n",
      "Epoch 88\n",
      "Epoch 89\n",
      "Epoch 90\n",
      "Epoch 91\n",
      "Epoch 92\n",
      "Epoch 93\n",
      "Epoch 94\n",
      "Epoch 95\n",
      "Epoch 96\n",
      "Epoch 97\n",
      "Epoch 98\n",
      "Epoch 99\n",
      "CPU times: user 1min 4s, sys: 641 ms, total: 1min 5s\n",
      "Wall time: 19.2 s\n"
     ]
    }
   ],
   "source": [
    "%%time\n",
    "train_kps, train_losses, valid_kps, valid_losses = train_divnet(n_epochs=100,\n",
    "                                                                data_list=train_valid,\n",
    "                                                                embed_size=100,\n",
    "                                                                hidden=300,\n",
    "                                                                n_rnn_layers=1,\n",
    "                                                                n_conv_layers=1,\n",
    "                                                                batch_size=4,\n",
    "                                                                #tb_text='Gradients after tanh activation seemed the best. Replaced all the activations with tanh.',\n",
    "                                                                lr=0.002,\n",
    "                                                                #tb_folder='runs/RNN_{}'.format(datetime.now())\n",
    "                                                               )"
   ]
  },
  {
   "cell_type": "code",
   "execution_count": 7,
   "metadata": {},
   "outputs": [
    {
     "data": {
      "text/plain": [
       "{0: [18.58156967163086],\n",
       " 1: [18.262351989746094],\n",
       " 2: [18.32282257080078],\n",
       " 3: [13.645840644836426],\n",
       " 4: [16.109603881835938],\n",
       " 5: [11.319565773010254],\n",
       " 6: [9.147632598876953],\n",
       " 7: [13.329324722290039],\n",
       " 8: [16.03704071044922],\n",
       " 9: [18.268985748291016],\n",
       " 10: [15.75131893157959],\n",
       " 11: [13.737112045288086],\n",
       " 12: [9.369795799255371],\n",
       " 13: [9.283970832824707],\n",
       " 14: [7.012422561645508],\n",
       " 15: [11.265387535095215],\n",
       " 16: [11.354167938232422],\n",
       " 17: [9.243276596069336],\n",
       " 18: [13.588483810424805],\n",
       " 19: [17.93122673034668],\n",
       " 20: [17.89862823486328],\n",
       " 21: [18.52092170715332],\n",
       " 22: [15.462381362915039],\n",
       " 23: [11.471235275268555],\n",
       " 24: [13.557680130004883],\n",
       " 25: [15.10210132598877],\n",
       " 26: [11.429719924926758],\n",
       " 27: [13.317522048950195],\n",
       " 28: [14.878941535949707],\n",
       " 29: [10.89974308013916],\n",
       " 30: [15.902080535888672],\n",
       " 31: [10.9175443649292],\n",
       " 32: [13.141499519348145],\n",
       " 33: [11.680850982666016],\n",
       " 34: [14.507560729980469],\n",
       " 35: [13.746359825134277],\n",
       " 36: [10.64136028289795],\n",
       " 37: [12.27907657623291],\n",
       " 38: [12.988802909851074],\n",
       " 39: [14.513858795166016],\n",
       " 40: [11.128277778625488],\n",
       " 41: [14.151267051696777],\n",
       " 42: [12.852851867675781],\n",
       " 43: [14.28208065032959],\n",
       " 44: [16.889766693115234],\n",
       " 45: [11.500116348266602],\n",
       " 46: [11.357284545898438],\n",
       " 47: [12.245620727539062],\n",
       " 48: [14.811149597167969],\n",
       " 49: [13.60823917388916],\n",
       " 50: [14.574540138244629],\n",
       " 51: [14.685566902160645],\n",
       " 52: [12.638580322265625],\n",
       " 53: [16.365550994873047],\n",
       " 54: [12.861581802368164],\n",
       " 55: [11.54767894744873],\n",
       " 56: [14.315061569213867],\n",
       " 57: [15.152908325195312],\n",
       " 58: [15.381796836853027],\n",
       " 59: [9.654834747314453],\n",
       " 60: [12.54707145690918],\n",
       " 61: [13.466509819030762],\n",
       " 62: [13.025568962097168],\n",
       " 63: [11.615396499633789],\n",
       " 64: [11.99918270111084],\n",
       " 65: [10.61340618133545],\n",
       " 66: [13.300959587097168],\n",
       " 67: [8.699825286865234],\n",
       " 68: [17.063251495361328],\n",
       " 69: [13.88065242767334],\n",
       " 70: [15.046957969665527],\n",
       " 71: [13.112820625305176],\n",
       " 72: [15.166969299316406],\n",
       " 73: [12.018681526184082],\n",
       " 74: [13.771777153015137],\n",
       " 75: [15.729532241821289],\n",
       " 76: [11.993632316589355],\n",
       " 77: [12.359521865844727],\n",
       " 78: [10.664037704467773],\n",
       " 79: [14.646690368652344],\n",
       " 80: [15.72119140625],\n",
       " 81: [16.37096405029297],\n",
       " 82: [13.07309341430664],\n",
       " 83: [12.031591415405273],\n",
       " 84: [14.157941818237305],\n",
       " 85: [14.700811386108398],\n",
       " 86: [13.21405029296875],\n",
       " 87: [16.103580474853516],\n",
       " 88: [14.022785186767578],\n",
       " 89: [11.235437393188477],\n",
       " 90: [17.882434844970703],\n",
       " 91: [13.22411823272705],\n",
       " 92: [18.083656311035156],\n",
       " 93: [18.141807556152344],\n",
       " 94: [16.05168342590332],\n",
       " 95: [18.140634536743164],\n",
       " 96: [13.148431777954102],\n",
       " 97: [12.503768920898438],\n",
       " 98: [13.486971855163574],\n",
       " 99: [18.326858520507812]}"
      ]
     },
     "execution_count": 7,
     "metadata": {},
     "output_type": "execute_result"
    }
   ],
   "source": [
    "train_losses"
   ]
  },
  {
   "cell_type": "code",
   "execution_count": 9,
   "metadata": {},
   "outputs": [],
   "source": [
    "tkp = train_kps[0][1]"
   ]
  },
  {
   "cell_type": "code",
   "execution_count": 10,
   "metadata": {},
   "outputs": [
    {
     "data": {
      "text/plain": [
       "5"
      ]
     },
     "execution_count": 10,
     "metadata": {},
     "output_type": "execute_result"
    }
   ],
   "source": [
    "len(tkp)"
   ]
  },
  {
   "cell_type": "code",
   "execution_count": 11,
   "metadata": {},
   "outputs": [
    {
     "data": {
      "text/plain": [
       "(torch.Size([2, 12]), torch.Size([2, 12]))"
      ]
     },
     "execution_count": 11,
     "metadata": {},
     "output_type": "execute_result"
    }
   ],
   "source": [
    "tkp[0].shape, tkp[1].shape"
   ]
  },
  {
   "cell_type": "code",
   "execution_count": 12,
   "metadata": {},
   "outputs": [
    {
     "data": {
      "text/plain": [
       "tensor([[0, 1, 4, 0, 0, 2, 0, 1, 0, 0, 0, 0],\n",
       "        [0, 1, 3, 2, 4, 4, 0, 0, 0, 3, 1, 1]])"
      ]
     },
     "execution_count": 12,
     "metadata": {},
     "output_type": "execute_result"
    }
   ],
   "source": [
    "tkp[0]"
   ]
  },
  {
   "cell_type": "code",
   "execution_count": null,
   "metadata": {},
   "outputs": [],
   "source": []
  }
 ],
 "metadata": {
  "kernelspec": {
   "display_name": "Python 3",
   "language": "python",
   "name": "python3"
  },
  "language_info": {
   "codemirror_mode": {
    "name": "ipython",
    "version": 3
   },
   "file_extension": ".py",
   "mimetype": "text/x-python",
   "name": "python",
   "nbconvert_exporter": "python",
   "pygments_lexer": "ipython3",
   "version": "3.8.5"
  }
 },
 "nbformat": 4,
 "nbformat_minor": 4
}
